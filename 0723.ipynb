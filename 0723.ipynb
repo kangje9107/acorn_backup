{
 "cells": [
  {
   "cell_type": "code",
   "execution_count": 55,
   "metadata": {},
   "outputs": [],
   "source": [
    "from libs.driverGetter import getDriver\n",
    "from naver_cafe.parser.cafeBoardSearchParser import parse\n",
    "import time\n",
    "import json\n",
    "from datetime import datetime\n",
    "from selenium.webdriver.common.keys import Keys\n",
    "\n",
    "\n",
    "driver = getDriver()\n",
    "\n",
    "url = 'https://www.naver.com/'\n",
    "#url = 'https://cafe.naver.com/miznett'\n",
    "driver.get(url)\n",
    "\n",
    "##login (id pw)\n",
    "#driver.find_element_by_xpath('//*[@id=\"account\"]/a').click()#login (id pw)\n",
    "#driver.find_element_by_xpath('//*[@id=\"id\"]').send_keys(\"abn11_11\")\n",
    "#driver.find_element_by_xpath('//*[@id=\"pw\"]').send_keys(\"Shinhan@11\")\n",
    "#time.sleep(5)\n",
    "#driver.find_element_by_xpath('//*[@id=\"log.login\"]').click()\n",
    "##자동로그인방지문자 입력\n",
    "#  time.sleep(30)\n",
    "\n",
    "#타깃 카페로 이동\n",
    "url = \"https://m.cafe.naver.com/miznett\"\n",
    "driver.get(url)\n",
    "time.sleep(3)\n",
    "#변수 정의 및 검색\n",
    "keyword = \"시공\"\n",
    "driver.find_element_by_xpath('//*[@id=\"hd\"]/div/div[3]/a').click()\n",
    "driver.find_element_by_xpath('//*[@id=\"searchQuery\"]').send_keys(keyword)\n",
    "driver.find_element_by_xpath('//*[@id=\"myCafeSearchForm\"]/div/div[2]/a[2]').click()\n",
    "\n",
    "\n",
    "#네이버 카페 검색결과 게시글 iframe\n",
    "#driver.switch_to.frame(\"cafe_main\") #switch_to_frame\n",
    "#time.sleep(3)\n",
    "#pageString = driver.page_source\n",
    "#file = open('./mizznet_search','w+')\n",
    "#file.write(pageString)\n",
    "#driver.close()\n",
    "\n",
    "#parser\n",
    "\n",
    "\n",
    "\n",
    "import requests\n",
    "from bs4 import BeautifulSoup\n",
    "\n",
    "\n",
    "\n",
    "\n",
    "#base_url = 'https://m.cafe.naver.com/ArticleSearchList.nhn?search.clubid=15724392&search.menuid=0'\n",
    "test_list = []\n",
    "#article_list=[]\n",
    "#driver.get(base_url)\n",
    "# iframe으로 프레임 전환\n",
    "#driver.switch_to_frame('articleList')\n",
    "\n",
    "#글 url을 불러와서 저장\n",
    "for page_num in range(1,10):\n",
    "    # 더보기 버튼 50번 클릭\n",
    "    driver.find_element_by_xpath('//*[@id=\"moreButton\"]').click()\n",
    "    # 로딩 시간이 있으므로 타이밍 맞추기 위해 sleep(0.5)\n",
    "    time.sleep(0.5)\n",
    "# href 속성을 찾아 url을 리스트로 저장한다.\n"
   ]
  },
  {
   "cell_type": "code",
   "execution_count": 80,
   "metadata": {},
   "outputs": [
    {
     "name": "stdout",
     "output_type": "stream",
     "text": [
      "[<selenium.webdriver.remote.webelement.WebElement (session=\"51c9a0047d7223ddcc91f1e48c7b42e1\", element=\"8b159097-4a71-4039-ad6b-9821d2c28f47\")>, <selenium.webdriver.remote.webelement.WebElement (session=\"51c9a0047d7223ddcc91f1e48c7b42e1\", element=\"f46d93f9-2d23-4939-996c-1a0802f864c4\")>, <selenium.webdriver.remote.webelement.WebElement (session=\"51c9a0047d7223ddcc91f1e48c7b42e1\", element=\"cff3fdac-a6cd-4fc3-8511-b5135e81d12a\")>, <selenium.webdriver.remote.webelement.WebElement (session=\"51c9a0047d7223ddcc91f1e48c7b42e1\", element=\"37545127-08b6-4b40-972d-c173df41177d\")>, <selenium.webdriver.remote.webelement.WebElement (session=\"51c9a0047d7223ddcc91f1e48c7b42e1\", element=\"59257677-d815-49a2-ace9-9c5ed2ae7e6d\")>, <selenium.webdriver.remote.webelement.WebElement (session=\"51c9a0047d7223ddcc91f1e48c7b42e1\", element=\"041bf585-5460-4670-99f8-0cce36c27841\")>, <selenium.webdriver.remote.webelement.WebElement (session=\"51c9a0047d7223ddcc91f1e48c7b42e1\", element=\"6ab93815-c714-40c8-bc89-31cd89a99451\")>, <selenium.webdriver.remote.webelement.WebElement (session=\"51c9a0047d7223ddcc91f1e48c7b42e1\", element=\"7f8c83aa-39a1-4e59-a218-c9f5f8f0f9b4\")>, <selenium.webdriver.remote.webelement.WebElement (session=\"51c9a0047d7223ddcc91f1e48c7b42e1\", element=\"616eafa6-7059-4484-84e6-3774e726e2a0\")>, <selenium.webdriver.remote.webelement.WebElement (session=\"51c9a0047d7223ddcc91f1e48c7b42e1\", element=\"e7be8e08-4ba1-46ea-b812-52ef9e2e7af4\")>]\n"
     ]
    },
    {
     "ename": "AttributeError",
     "evalue": "'str' object has no attribute 'text'",
     "output_type": "error",
     "traceback": [
      "\u001b[0;31m---------------------------------------------------------------------------\u001b[0m",
      "\u001b[0;31mAttributeError\u001b[0m                            Traceback (most recent call last)",
      "\u001b[0;32m<ipython-input-80-3ad8148cfd42>\u001b[0m in \u001b[0;36m<module>\u001b[0;34m\u001b[0m\n\u001b[1;32m     11\u001b[0m \u001b[0;34m\u001b[0m\u001b[0m\n\u001b[1;32m     12\u001b[0m     \u001b[0;31m#url 가져오기\u001b[0m\u001b[0;34m\u001b[0m\u001b[0;34m\u001b[0m\u001b[0;34m\u001b[0m\u001b[0m\n\u001b[0;32m---> 13\u001b[0;31m     \u001b[0mtest_list\u001b[0m\u001b[0;34m.\u001b[0m\u001b[0mappend\u001b[0m\u001b[0;34m(\u001b[0m\u001b[0mi\u001b[0m\u001b[0;34m.\u001b[0m\u001b[0mget_attribute\u001b[0m\u001b[0;34m(\u001b[0m\u001b[0;34m'href'\u001b[0m\u001b[0;34m)\u001b[0m\u001b[0;34m.\u001b[0m\u001b[0mtext\u001b[0m\u001b[0;34m)\u001b[0m\u001b[0;34m\u001b[0m\u001b[0;34m\u001b[0m\u001b[0m\n\u001b[0m\u001b[1;32m     14\u001b[0m \u001b[0;34m\u001b[0m\u001b[0m\n\u001b[1;32m     15\u001b[0m \u001b[0;34m\u001b[0m\u001b[0m\n",
      "\u001b[0;31mAttributeError\u001b[0m: 'str' object has no attribute 'text'"
     ]
    }
   ],
   "source": [
    "#검색결과 url list 만들기\n",
    "article_list = driver.find_elements_by_id('list_tit')\n",
    "article_tag = driver.find_elements_by_tag_name('a')\n",
    "\n",
    "\n",
    "for i in article_tag:\n",
    "    \n",
    "    #print(i.text)\n",
    "    driver.find_elements_by_css_selector('#articleList > ul.list_tit')\n",
    "    print(driver.find_elements_by_css_selector('#articleList > ul.list_tit'))\n",
    "    \n",
    "    #url 가져오기\n",
    "    test_list.append(i.get_attribute('href'))\n",
    "    \n",
    "\n",
    "print(test_list)\n",
    "\n",
    "#https://book.coalastudy.com/data-crawling/week-6/stage-4\n"
   ]
  },
  {
   "cell_type": "code",
   "execution_count": null,
   "metadata": {},
   "outputs": [],
   "source": [
    "article_list = driver.find_elements_by_css_selector('#articleList > ul.list_tit')\n",
    "print(article_list)\n",
    "#for i in article_list:\n",
    "#    article_urls.append(i.get_attribute('href'))\n",
    "article_urls = [ i.get_attribute('a@href') for i in article_list ]\n",
    "print(article_urls)\n",
    "for link in article_urls:\n",
    "    test_list.append(link)\n",
    "    print(link)"
   ]
  },
  {
   "cell_type": "code",
   "execution_count": null,
   "metadata": {},
   "outputs": [],
   "source": []
  }
 ],
 "metadata": {
  "kernelspec": {
   "display_name": "Python 3",
   "language": "python",
   "name": "python3"
  },
  "language_info": {
   "codemirror_mode": {
    "name": "ipython",
    "version": 3
   },
   "file_extension": ".py",
   "mimetype": "text/x-python",
   "name": "python",
   "nbconvert_exporter": "python",
   "pygments_lexer": "ipython3",
   "version": "3.7.6"
  }
 },
 "nbformat": 4,
 "nbformat_minor": 4
}
