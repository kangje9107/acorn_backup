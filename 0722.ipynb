{
 "cells": [
  {
   "cell_type": "code",
   "execution_count": 14,
   "metadata": {},
   "outputs": [
    {
     "data": {
      "text/plain": [
       "205385"
      ]
     },
     "execution_count": 14,
     "metadata": {},
     "output_type": "execute_result"
    }
   ],
   "source": [
    "from libs.driverGetter import getDriver\n",
    "from naver_cafe.parser.cafeBoardSearchParser import parse\n",
    "import time\n",
    "import json\n",
    "from datetime import datetime\n",
    "from selenium.webdriver.common.keys import Keys\n",
    "\n",
    "\n",
    "driver = getDriver()\n",
    "\n",
    "url = 'https://www.naver.com/'\n",
    "#url = 'https://cafe.naver.com/miznett'\n",
    "driver.get(url)\n",
    "\n",
    "##login (id pw)\n",
    "#driver.find_element_by_xpath('//*[@id=\"account\"]/a').click()#login (id pw)\n",
    "#driver.find_element_by_xpath('//*[@id=\"id\"]').send_keys(\"abn11_11\")\n",
    "#driver.find_element_by_xpath('//*[@id=\"pw\"]').send_keys(\"Shinhan@11\")\n",
    "#time.sleep(5)\n",
    "#driver.find_element_by_xpath('//*[@id=\"log.login\"]').click()\n",
    "##자동로그인방지문자 입력\n",
    "#  time.sleep(30)\n",
    "\n",
    "#타깃 카페로 이동\n",
    "url = \"https://cafe.naver.com/miznett\"\n",
    "driver.get(url)\n",
    "#변수 정의 및 검색\n",
    "keyword = \"시공\"\n",
    "driver.find_element_by_xpath('//*[@id=\"topLayerQueryInput\"]').send_keys(keyword)\n",
    "driver.find_element_by_xpath('//*[@id=\"info-search\"]/form/button').click()\n",
    "\n",
    "#네이버 카페 검색결과 게시글 iframe\n",
    "driver.switch_to.frame(\"cafe_main\") #switch_to_frame\n",
    "time.sleep(3)\n",
    "pageString = driver.page_source\n",
    "file = open('./mizznet_search','w+')\n",
    "file.write(pageString)\n",
    "#driver.close()\n",
    "\n",
    "#parser\n",
    "\n",
    "\n",
    "#https://www.youtube.com/watch?v=-wN7vRfXg_M "
   ]
  },
  {
   "cell_type": "code",
   "execution_count": null,
   "metadata": {},
   "outputs": [],
   "source": [
    "#parser\n",
    "from bs4 import BeautifulSoup\n",
    "\n",
    "def parse(pageString):\n",
    "    bs0bj = BeautifulSoup(pageString,\"html.parser\")\n",
    "    print(bs0bj)\n",
    "    return[]\n",
    "\n",
    "file = open('mizznet_search.html')\n",
    "pageString = file.read()\n",
    "\n",
    "\n",
    "\n",
    "list = parse(pageString)"
   ]
  }
 ],
 "metadata": {
  "kernelspec": {
   "display_name": "Python 3",
   "language": "python",
   "name": "python3"
  },
  "language_info": {
   "codemirror_mode": {
    "name": "ipython",
    "version": 3
   },
   "file_extension": ".py",
   "mimetype": "text/x-python",
   "name": "python",
   "nbconvert_exporter": "python",
   "pygments_lexer": "ipython3",
   "version": "3.7.6"
  }
 },
 "nbformat": 4,
 "nbformat_minor": 4
}
