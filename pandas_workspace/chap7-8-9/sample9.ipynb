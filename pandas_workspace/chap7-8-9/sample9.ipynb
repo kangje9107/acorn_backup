{
 "cells": [
  {
   "cell_type": "code",
   "execution_count": 1,
   "metadata": {},
   "outputs": [],
   "source": [
    "word = '01234567'"
   ]
  },
  {
   "cell_type": "code",
   "execution_count": 2,
   "metadata": {},
   "outputs": [
    {
     "data": {
      "text/plain": [
       "'01234567'"
      ]
     },
     "execution_count": 2,
     "metadata": {},
     "output_type": "execute_result"
    }
   ],
   "source": [
    "word[::1] # All string\n",
    "# word[::2]  # 0, 2, 4, 6\n",
    "# word[::3]  # 0, 3, 6\n",
    "# word[::]   # All string"
   ]
  },
  {
   "cell_type": "code",
   "execution_count": 3,
   "metadata": {},
   "outputs": [
    {
     "data": {
      "text/plain": [
       "'Black knight'"
      ]
     },
     "execution_count": 3,
     "metadata": {},
     "output_type": "execute_result"
    }
   ],
   "source": [
    "'black Knight'.capitalize()"
   ]
  },
  {
   "cell_type": "code",
   "execution_count": 6,
   "metadata": {},
   "outputs": [
    {
     "data": {
      "text/plain": [
       "2"
      ]
     },
     "execution_count": 6,
     "metadata": {},
     "output_type": "execute_result"
    }
   ],
   "source": [
    "# \"It's just a flesh wound!\".count('d')\n",
    "\"It's just a flesh wound!\".count('u')"
   ]
  },
  {
   "cell_type": "code",
   "execution_count": 9,
   "metadata": {},
   "outputs": [
    {
     "data": {
      "text/plain": [
       "False"
      ]
     },
     "execution_count": 9,
     "metadata": {},
     "output_type": "execute_result"
    }
   ],
   "source": [
    "# \"Halt! Who goes there?\".startswith('Halt') # return True\n",
    "\"Halt! Who goes there?\".startswith('halt') # return False"
   ]
  },
  {
   "cell_type": "code",
   "execution_count": 11,
   "metadata": {},
   "outputs": [
    {
     "data": {
      "text/plain": [
       "False"
      ]
     },
     "execution_count": 11,
     "metadata": {},
     "output_type": "execute_result"
    }
   ],
   "source": [
    "# \"coconut\".endswith('nut')  # return True\n",
    "\"coconut\".endswith('mut')  # return False"
   ]
  },
  {
   "cell_type": "code",
   "execution_count": 16,
   "metadata": {},
   "outputs": [
    {
     "data": {
      "text/plain": [
       "-1"
      ]
     },
     "execution_count": 16,
     "metadata": {},
     "output_type": "execute_result"
    }
   ],
   "source": [
    "# \"It's just a flesh wound!\".find('u')\n",
    "\"It's just a flesh wound!\".find('ubb')  # if not found, return -1"
   ]
  },
  {
   "cell_type": "code",
   "execution_count": 15,
   "metadata": {},
   "outputs": [
    {
     "data": {
      "text/plain": [
       "12"
      ]
     },
     "execution_count": 15,
     "metadata": {},
     "output_type": "execute_result"
    }
   ],
   "source": [
    "# \"It's just a flesh wound!\".index('scratch')  # ValueError: substring not found\n",
    "\"It's just a flesh wound!\".index('flesh')"
   ]
  },
  {
   "cell_type": "code",
   "execution_count": 18,
   "metadata": {},
   "outputs": [
    {
     "data": {
      "text/plain": [
       "True"
      ]
     },
     "execution_count": 18,
     "metadata": {},
     "output_type": "execute_result"
    }
   ],
   "source": [
    "# \"Old woman\".isalpha()   # return False due to empty character\n",
    "\"Oldwoman\".isalpha()   # return True"
   ]
  },
  {
   "cell_type": "code",
   "execution_count": 20,
   "metadata": {},
   "outputs": [
    {
     "data": {
      "text/plain": [
       "False"
      ]
     },
     "execution_count": 20,
     "metadata": {},
     "output_type": "execute_result"
    }
   ],
   "source": [
    "# \"37\".isdecimal()  # return True\n",
    "\"A37\".isdecimal()  # return False"
   ]
  },
  {
   "cell_type": "code",
   "execution_count": 28,
   "metadata": {},
   "outputs": [
    {
     "data": {
      "text/plain": [
       "True"
      ]
     },
     "execution_count": 28,
     "metadata": {},
     "output_type": "execute_result"
    }
   ],
   "source": [
    "# \"I'm 37\".isalnum()  # return False due to empty character and '\n",
    "\"Im37\".isalnum()  # return True"
   ]
  },
  {
   "cell_type": "code",
   "execution_count": 32,
   "metadata": {},
   "outputs": [
    {
     "data": {
      "text/plain": [
       "('3', ',', ' 4, 5')"
      ]
     },
     "execution_count": 32,
     "metadata": {},
     "output_type": "execute_result"
    }
   ],
   "source": [
    "# \"3, 4, 5\".split(',')\n",
    "\"3, 4, 5\".partition(',')"
   ]
  },
  {
   "cell_type": "code",
   "execution_count": 34,
   "metadata": {},
   "outputs": [
    {
     "data": {
      "text/plain": [
       "'     nine     '"
      ]
     },
     "execution_count": 34,
     "metadata": {},
     "output_type": "execute_result"
    }
   ],
   "source": [
    "\"nine\".center(14)"
   ]
  },
  {
   "cell_type": "code",
   "execution_count": 38,
   "metadata": {},
   "outputs": [
    {
     "data": {
      "text/plain": [
       "'000000nine'"
      ]
     },
     "execution_count": 38,
     "metadata": {},
     "output_type": "execute_result"
    }
   ],
   "source": [
    "# \"9\".zfill(10)\n",
    "\"nine\".zfill(10)"
   ]
  },
  {
   "cell_type": "code",
   "execution_count": 40,
   "metadata": {},
   "outputs": [
    {
     "data": {
      "text/plain": [
       "'40도 46분 52.837도 N 73도 58분 26.302도 W'"
      ]
     },
     "execution_count": 40,
     "metadata": {},
     "output_type": "execute_result"
    }
   ],
   "source": [
    "d1 = '40도'\n",
    "m1 = \"46분\"\n",
    "s1 = \"52.837도\"\n",
    "u1 = \"N\"\n",
    "\n",
    "d2 = \"73도\"\n",
    "m2 = \"58분\"\n",
    "s2 = \"26.302도\"\n",
    "u2 = \"W\"\n",
    "\n",
    "coords = ' '.join([d1, m1, s1, u1, d2, m2, s2, u2])\n",
    "coords"
   ]
  },
  {
   "cell_type": "code",
   "execution_count": 41,
   "metadata": {},
   "outputs": [
    {
     "name": "stdout",
     "output_type": "stream",
     "text": [
      "Hello!, coords: 40.7815 degree, 73.9733 degree\n"
     ]
    }
   ],
   "source": [
    "s = 'Hello!, coords: {lat}, {lon}'\n",
    "print(s.format(lat = '40.7815 degree', lon = '73.9733 degree'))"
   ]
  },
  {
   "cell_type": "code",
   "execution_count": 47,
   "metadata": {},
   "outputs": [
    {
     "name": "stdout",
     "output_type": "stream",
     "text": [
      "PI: 1,234,567,890.14159\n"
     ]
    }
   ],
   "source": [
    "# s = 'PI: {}'\n",
    "s = 'PI: {:,}'\n",
    "# print(s.format(3.14159))\n",
    "print(s.format(1234567890.14159))"
   ]
  },
  {
   "cell_type": "code",
   "execution_count": 48,
   "metadata": {},
   "outputs": [
    {
     "name": "stdout",
     "output_type": "stream",
     "text": [
      "1,234,567,890\n"
     ]
    }
   ],
   "source": [
    "s = '{:,}'\n",
    "print(s.format(1234567890))"
   ]
  },
  {
   "cell_type": "code",
   "execution_count": 52,
   "metadata": {},
   "outputs": [
    {
     "name": "stdout",
     "output_type": "stream",
     "text": [
      "0.001032448377581121 0.0011799410029498525 0.001327433628318584\n",
      "0.001032, 0.0011799, 0.1326%\n"
     ]
    }
   ],
   "source": [
    "s = '{0:.4}, {1:.5}, {2:.4%}'\n",
    "\n",
    "print(7/6780, 8/6780, 9/6780)\n",
    "\n",
    "print(s.format(\n",
    "    7/6780,\n",
    "    8/6780,\n",
    "    9/6789\n",
    "))"
   ]
  },
  {
   "cell_type": "code",
   "execution_count": 65,
   "metadata": {},
   "outputs": [
    {
     "name": "stdout",
     "output_type": "stream",
     "text": [
      "   42, 00042, -0042, 3.14159, 3.141590\n"
     ]
    }
   ],
   "source": [
    "s = '{1:5d}, {0:05d}, {2:-05d}, {3:.5f}, {3:05f}'\n",
    "print(s.format(42, 42, -42, 3.14159, 3.14159))"
   ]
  },
  {
   "cell_type": "code",
   "execution_count": 81,
   "metadata": {},
   "outputs": [
    {
     "name": "stdout",
     "output_type": "stream",
     "text": [
      "PI: 3.141589999999999882618340052431449294090270996093750000000000\n"
     ]
    }
   ],
   "source": [
    "# s = '%(cont)s: %(value).5f'\n",
    "# s = '%(cont)s: %(value).6f'\n",
    "# s = '%(cont)s: %(value).06f'\n",
    "s = '%(cont)s: %(value).60f'\n",
    "\n",
    "print( s % {'cont': 'PI', 'value': 3.14159} )"
   ]
  },
  {
   "cell_type": "code",
   "execution_count": 101,
   "metadata": {},
   "outputs": [
    {
     "ename": "SyntaxError",
     "evalue": "f-string: empty expression not allowed (<ipython-input-101-518236f02e83>, line 15)",
     "output_type": "error",
     "traceback": [
      "\u001b[1;36m  File \u001b[1;32m\"<ipython-input-101-518236f02e83>\"\u001b[1;36m, line \u001b[1;32m15\u001b[0m\n\u001b[1;33m    f_string = f'-- {}, {} --'.format('hello1', 'hello2')   # XX - SyntaxError: f-string: empty expression not allowed\u001b[0m\n\u001b[1;37m              ^\u001b[0m\n\u001b[1;31mSyntaxError\u001b[0m\u001b[1;31m:\u001b[0m f-string: empty expression not allowed\n"
     ]
    }
   ],
   "source": [
    "var = 'value'\n",
    "var2 = \"hello\"\n",
    "\n",
    "# f_string = f'   {var}   '\n",
    "\n",
    "# f_string = f'{var2}'.format(var2='hello')        # XX - NameError: name 'var2' is not defined\n",
    "# f_string = f'-- {var2} --'                       # OK\n",
    "# print(f_string, ', ', len(f_string))\n",
    "\n",
    "\n",
    "# f_string = f'-- {0} --'.format('hello')\n",
    "# f_string = f'-- {0}, {1} --'.format('hello1', 'hello2')\n",
    "\n",
    "# f_string = '-- {}, {} --'.format('hello1', 'hello2')   # OK\n",
    "f_string = f'-- {}, {} --'.format('hello1', 'hello2')   # XX - SyntaxError: f-string: empty expression not allowed\n",
    "\n",
    "print(f_string)"
   ]
  }
 ],
 "metadata": {
  "kernelspec": {
   "display_name": "Python 3.7.3 64-bit",
   "language": "python",
   "name": "python37364bit039c19a135194763b7d52bc2aeb515ff"
  },
  "language_info": {
   "codemirror_mode": {
    "name": "ipython",
    "version": 3
   },
   "file_extension": ".py",
   "mimetype": "text/x-python",
   "name": "python",
   "nbconvert_exporter": "python",
   "pygments_lexer": "ipython3",
   "version": "3.7.3"
  }
 },
 "nbformat": 4,
 "nbformat_minor": 4
}
