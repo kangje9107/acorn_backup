{
 "cells": [
  {
   "cell_type": "code",
   "execution_count": 2,
   "metadata": {},
   "outputs": [],
   "source": [
    "import pandas\n",
    "df = pandas.read_csv('../doit_pandas/data/gapminder.tsv',sep='\\t')"
   ]
  },
  {
   "cell_type": "code",
   "execution_count": 3,
   "metadata": {},
   "outputs": [
    {
     "name": "stdout",
     "output_type": "stream",
     "text": [
      "          country continent  year  lifeExp       pop   gdpPercap\n",
      "0     Afghanistan      Asia  1952   28.801   8425333  779.445314\n",
      "1     Afghanistan      Asia  1957   30.332   9240934  820.853030\n",
      "2     Afghanistan      Asia  1962   31.997  10267083  853.100710\n",
      "3     Afghanistan      Asia  1967   34.020  11537966  836.197138\n",
      "4     Afghanistan      Asia  1972   36.088  13079460  739.981106\n",
      "...           ...       ...   ...      ...       ...         ...\n",
      "1699     Zimbabwe    Africa  1987   62.351   9216418  706.157306\n",
      "1700     Zimbabwe    Africa  1992   60.377  10704340  693.420786\n",
      "1701     Zimbabwe    Africa  1997   46.809  11404948  792.449960\n",
      "1702     Zimbabwe    Africa  2002   39.989  11926563  672.038623\n",
      "1703     Zimbabwe    Africa  2007   43.487  12311143  469.709298\n",
      "\n",
      "[1704 rows x 6 columns]\n"
     ]
    }
   ],
   "source": [
    "print(df)"
   ]
  },
  {
   "cell_type": "code",
   "execution_count": 8,
   "metadata": {},
   "outputs": [
    {
     "name": "stdout",
     "output_type": "stream",
     "text": [
      "<class 'pandas.core.frame.DataFrame'>\n",
      "RangeIndex: 1704 entries, 0 to 1703\n",
      "Data columns (total 6 columns):\n",
      "country      1704 non-null object\n",
      "continent    1704 non-null object\n",
      "year         1704 non-null int64\n",
      "lifeExp      1704 non-null float64\n",
      "pop          1704 non-null int64\n",
      "gdpPercap    1704 non-null float64\n",
      "dtypes: float64(2), int64(2), object(2)\n",
      "memory usage: 80.0+ KB\n",
      "None\n"
     ]
    }
   ],
   "source": [
    "print(df.info())"
   ]
  },
  {
   "cell_type": "code",
   "execution_count": 12,
   "metadata": {},
   "outputs": [
    {
     "name": "stdout",
     "output_type": "stream",
     "text": [
      "<class 'pandas.core.series.Series'>\n"
     ]
    }
   ],
   "source": [
    "country_df=df['country']\n",
    "print(type(country_df)) #-----1개 col 추출시 series type"
   ]
  },
  {
   "cell_type": "code",
   "execution_count": 15,
   "metadata": {},
   "outputs": [
    {
     "name": "stdout",
     "output_type": "stream",
     "text": [
      "0    Afghanistan\n",
      "1    Afghanistan\n",
      "2    Afghanistan\n",
      "3    Afghanistan\n",
      "4    Afghanistan\n",
      "Name: country, dtype: object\n"
     ]
    }
   ],
   "source": [
    "print(country_df.head())"
   ]
  },
  {
   "cell_type": "code",
   "execution_count": 17,
   "metadata": {},
   "outputs": [
    {
     "name": "stdout",
     "output_type": "stream",
     "text": [
      "1699    Zimbabwe\n",
      "1700    Zimbabwe\n",
      "1701    Zimbabwe\n",
      "1702    Zimbabwe\n",
      "1703    Zimbabwe\n",
      "Name: country, dtype: object\n"
     ]
    }
   ],
   "source": [
    "print(country_df.tail())"
   ]
  },
  {
   "cell_type": "code",
   "execution_count": 18,
   "metadata": {},
   "outputs": [],
   "source": [
    "subset = df[['country','continent','year']]"
   ]
  },
  {
   "cell_type": "code",
   "execution_count": 21,
   "metadata": {},
   "outputs": [
    {
     "name": "stdout",
     "output_type": "stream",
     "text": [
      "<class 'pandas.core.frame.DataFrame'>\n"
     ]
    }
   ],
   "source": [
    "print(type(subset)) #-----여러 col 추출시 frame type"
   ]
  },
  {
   "cell_type": "code",
   "execution_count": 22,
   "metadata": {},
   "outputs": [
    {
     "name": "stdout",
     "output_type": "stream",
     "text": [
      "       country continent  year\n",
      "1699  Zimbabwe    Africa  1987\n",
      "1700  Zimbabwe    Africa  1992\n",
      "1701  Zimbabwe    Africa  1997\n",
      "1702  Zimbabwe    Africa  2002\n",
      "1703  Zimbabwe    Africa  2007\n"
     ]
    }
   ],
   "source": [
    "print(subset.tail())"
   ]
  },
  {
   "cell_type": "code",
   "execution_count": null,
   "metadata": {},
   "outputs": [],
   "source": [
    "#Pandas 의 결측치 표기 : NaN = nan = NAN "
   ]
  },
  {
   "cell_type": "code",
   "execution_count": 25,
   "metadata": {},
   "outputs": [
    {
     "name": "stdout",
     "output_type": "stream",
     "text": [
      "country      Bangladesh\n",
      "continent          Asia\n",
      "year               1967\n",
      "lifeExp          43.453\n",
      "pop            62821884\n",
      "gdpPercap       721.186\n",
      "Name: 99, dtype: object\n"
     ]
    }
   ],
   "source": [
    "print(df.loc[99]) # 인덱스를 사용"
   ]
  },
  {
   "cell_type": "code",
   "execution_count": 26,
   "metadata": {},
   "outputs": [
    {
     "name": "stdout",
     "output_type": "stream",
     "text": [
      "country      Afghanistan\n",
      "continent           Asia\n",
      "year                1952\n",
      "lifeExp           28.801\n",
      "pop              8425333\n",
      "gdpPercap        779.445\n",
      "Name: 0, dtype: object\n"
     ]
    }
   ],
   "source": [
    "print(df.iloc[0]) #행번호를 사용 : i를 정수라고 판단 "
   ]
  },
  {
   "cell_type": "code",
   "execution_count": 30,
   "metadata": {},
   "outputs": [
    {
     "name": "stdout",
     "output_type": "stream",
     "text": [
      "1704\n"
     ]
    }
   ],
   "source": [
    "number_of_rows = df.shape[0] \n",
    "print(number_of_rows)"
   ]
  },
  {
   "cell_type": "code",
   "execution_count": 31,
   "metadata": {},
   "outputs": [
    {
     "name": "stdout",
     "output_type": "stream",
     "text": [
      "1703\n"
     ]
    }
   ],
   "source": [
    "last_row_index = number_of_rows -1\n",
    "print(last_row_index)"
   ]
  },
  {
   "cell_type": "code",
   "execution_count": 32,
   "metadata": {},
   "outputs": [
    {
     "name": "stdout",
     "output_type": "stream",
     "text": [
      "country      Zimbabwe\n",
      "continent      Africa\n",
      "year             2007\n",
      "lifeExp        43.487\n",
      "pop          12311143\n",
      "gdpPercap     469.709\n",
      "Name: 1703, dtype: object\n"
     ]
    }
   ],
   "source": [
    "print(df.loc[last_row_index]) #마지막 행 추출"
   ]
  },
  {
   "cell_type": "code",
   "execution_count": 34,
   "metadata": {},
   "outputs": [
    {
     "name": "stdout",
     "output_type": "stream",
     "text": [
      "       country continent  year  lifeExp       pop   gdpPercap\n",
      "1703  Zimbabwe    Africa  2007   43.487  12311143  469.709298\n"
     ]
    }
   ],
   "source": [
    "print(df.tail(n=1)) #parameter중 직접 이름과 값을 넣음"
   ]
  },
  {
   "cell_type": "code",
   "execution_count": 38,
   "metadata": {},
   "outputs": [
    {
     "name": "stdout",
     "output_type": "stream",
     "text": [
      "         country continent  year  lifeExp       pop    gdpPercap\n",
      "0    Afghanistan      Asia  1952   28.801   8425333   779.445314\n",
      "99    Bangladesh      Asia  1967   43.453  62821884   721.186086\n",
      "999     Mongolia      Asia  1967   51.253   1149500  1226.041130\n"
     ]
    }
   ],
   "source": [
    "print(df.loc[[0,99,999]])"
   ]
  },
  {
   "cell_type": "code",
   "execution_count": 41,
   "metadata": {},
   "outputs": [
    {
     "name": "stdout",
     "output_type": "stream",
     "text": [
      "        country continent  year  lifeExp        pop     gdpPercap\n",
      "99   Bangladesh      Asia  1967   43.453   62821884    721.186086\n",
      "100  Bangladesh      Asia  1972   45.252   70759295    630.233627\n",
      "101  Bangladesh      Asia  1977   46.923   80428306    659.877232\n",
      "102  Bangladesh      Asia  1982   50.009   93074406    676.981866\n",
      "103  Bangladesh      Asia  1987   52.819  103764241    751.979403\n",
      "..          ...       ...   ...      ...        ...           ...\n",
      "995      Mexico  Americas  2007   76.195  108700891  11977.574960\n",
      "996    Mongolia      Asia  1952   42.244     800663    786.566857\n",
      "997    Mongolia      Asia  1957   45.248     882134    912.662609\n",
      "998    Mongolia      Asia  1962   48.251    1010280   1056.353958\n",
      "999    Mongolia      Asia  1967   51.253    1149500   1226.041130\n",
      "\n",
      "[901 rows x 6 columns]\n"
     ]
    }
   ],
   "source": [
    "print(df.loc[99:999])"
   ]
  },
  {
   "cell_type": "code",
   "execution_count": 42,
   "metadata": {},
   "outputs": [
    {
     "name": "stdout",
     "output_type": "stream",
     "text": [
      "country      Afghanistan\n",
      "continent           Asia\n",
      "year                1952\n",
      "lifeExp           28.801\n",
      "pop              8425333\n",
      "gdpPercap        779.445\n",
      "Name: 0, dtype: object\n"
     ]
    }
   ],
   "source": [
    "print(df.loc[0])"
   ]
  },
  {
   "cell_type": "code",
   "execution_count": 43,
   "metadata": {},
   "outputs": [
    {
     "name": "stdout",
     "output_type": "stream",
     "text": [
      "       country continent  year  lifeExp       pop   gdpPercap\n",
      "1703  Zimbabwe    Africa  2007   43.487  12311143  469.709298\n"
     ]
    }
   ],
   "source": [
    "print(df.tail(n=1))"
   ]
  },
  {
   "cell_type": "code",
   "execution_count": 44,
   "metadata": {},
   "outputs": [
    {
     "name": "stdout",
     "output_type": "stream",
     "text": [
      "country      Afghanistan\n",
      "continent           Asia\n",
      "year                1957\n",
      "lifeExp           30.332\n",
      "pop              9240934\n",
      "gdpPercap        820.853\n",
      "Name: 1, dtype: object\n"
     ]
    }
   ],
   "source": [
    "print(df.iloc[1])"
   ]
  },
  {
   "cell_type": "code",
   "execution_count": 47,
   "metadata": {},
   "outputs": [
    {
     "name": "stdout",
     "output_type": "stream",
     "text": [
      "country      Bangladesh\n",
      "continent          Asia\n",
      "year               1967\n",
      "lifeExp          43.453\n",
      "pop            62821884\n",
      "gdpPercap       721.186\n",
      "Name: 99, dtype: object\n"
     ]
    }
   ],
   "source": [
    "print(df.iloc[99])"
   ]
  },
  {
   "cell_type": "code",
   "execution_count": 48,
   "metadata": {},
   "outputs": [
    {
     "name": "stdout",
     "output_type": "stream",
     "text": [
      "country      Zimbabwe\n",
      "continent      Africa\n",
      "year             2007\n",
      "lifeExp        43.487\n",
      "pop          12311143\n",
      "gdpPercap     469.709\n",
      "Name: 1703, dtype: object\n"
     ]
    }
   ],
   "source": [
    "print(df.iloc[-1])"
   ]
  },
  {
   "cell_type": "code",
   "execution_count": 1,
   "metadata": {},
   "outputs": [
    {
     "ename": "NameError",
     "evalue": "name 'df' is not defined",
     "output_type": "error",
     "traceback": [
      "\u001b[1;31m---------------------------------------------------------------------------\u001b[0m",
      "\u001b[1;31mNameError\u001b[0m                                 Traceback (most recent call last)",
      "\u001b[1;32m<ipython-input-1-1c588f973b55>\u001b[0m in \u001b[0;36m<module>\u001b[1;34m\u001b[0m\n\u001b[1;32m----> 1\u001b[1;33m \u001b[0msubset\u001b[0m \u001b[1;33m=\u001b[0m \u001b[0mdf\u001b[0m\u001b[1;33m.\u001b[0m\u001b[0mloc\u001b[0m\u001b[1;33m[\u001b[0m\u001b[1;33m:\u001b[0m\u001b[1;33m,\u001b[0m\u001b[1;33m[\u001b[0m\u001b[1;34m'year'\u001b[0m\u001b[1;33m,\u001b[0m\u001b[1;34m'pop'\u001b[0m\u001b[1;33m]\u001b[0m\u001b[1;33m]\u001b[0m \u001b[1;31m# ,를 기준으로 :  행지정 , 열 지정(열은 숫자로 지정할 수 없다. )\u001b[0m\u001b[1;33m\u001b[0m\u001b[1;33m\u001b[0m\u001b[0m\n\u001b[0m\u001b[0;32m      2\u001b[0m \u001b[1;31m#[ : ]안에 쓸 수 있는 것 : list , range , slicing\u001b[0m\u001b[1;33m\u001b[0m\u001b[1;33m\u001b[0m\u001b[1;33m\u001b[0m\u001b[0m\n\u001b[0;32m      3\u001b[0m \u001b[0mprint\u001b[0m\u001b[1;33m(\u001b[0m\u001b[0msubset\u001b[0m\u001b[1;33m)\u001b[0m\u001b[1;33m\u001b[0m\u001b[1;33m\u001b[0m\u001b[0m\n",
      "\u001b[1;31mNameError\u001b[0m: name 'df' is not defined"
     ]
    }
   ],
   "source": [
    "subset = df.loc[:,['year','pop']] # ,를 기준으로 :  행지정 , 열 지정(열은 숫자로 지정할 수 없다. )\n",
    "#[ : ]안에 쓸 수 있는 것 : list , range , slicing\n",
    "print(subset)"
   ]
  },
  {
   "cell_type": "code",
   "execution_count": 53,
   "metadata": {},
   "outputs": [
    {
     "name": "stdout",
     "output_type": "stream",
     "text": [
      "      year       pop   gdpPercap\n",
      "0     1952   8425333  779.445314\n",
      "1     1957   9240934  820.853030\n",
      "2     1962  10267083  853.100710\n",
      "3     1967  11537966  836.197138\n",
      "4     1972  13079460  739.981106\n",
      "...    ...       ...         ...\n",
      "1699  1987   9216418  706.157306\n",
      "1700  1992  10704340  693.420786\n",
      "1701  1997  11404948  792.449960\n",
      "1702  2002  11926563  672.038623\n",
      "1703  2007  12311143  469.709298\n",
      "\n",
      "[1704 rows x 3 columns]\n"
     ]
    }
   ],
   "source": [
    "subset = df.iloc[:,[2,4,-1]] # 행 지정 , 쉼표 , 열 지정(열은 이름으로 지정 불가능)\n",
    "#숫자 slicing 은 마지막범위 불포함임. \n",
    "#slicing [start_num : end_num : step] \n",
    "print(subset)"
   ]
  },
  {
   "cell_type": "code",
   "execution_count": 54,
   "metadata": {},
   "outputs": [
    {
     "data": {
      "text/html": [
       "<div>\n",
       "<style scoped>\n",
       "    .dataframe tbody tr th:only-of-type {\n",
       "        vertical-align: middle;\n",
       "    }\n",
       "\n",
       "    .dataframe tbody tr th {\n",
       "        vertical-align: top;\n",
       "    }\n",
       "\n",
       "    .dataframe thead th {\n",
       "        text-align: right;\n",
       "    }\n",
       "</style>\n",
       "<table border=\"1\" class=\"dataframe\">\n",
       "  <thead>\n",
       "    <tr style=\"text-align: right;\">\n",
       "      <th></th>\n",
       "      <th>year</th>\n",
       "      <th>pop</th>\n",
       "      <th>gdpPercap</th>\n",
       "    </tr>\n",
       "  </thead>\n",
       "  <tbody>\n",
       "    <tr>\n",
       "      <th>0</th>\n",
       "      <td>1952</td>\n",
       "      <td>8425333</td>\n",
       "      <td>779.445314</td>\n",
       "    </tr>\n",
       "    <tr>\n",
       "      <th>1</th>\n",
       "      <td>1957</td>\n",
       "      <td>9240934</td>\n",
       "      <td>820.853030</td>\n",
       "    </tr>\n",
       "    <tr>\n",
       "      <th>2</th>\n",
       "      <td>1962</td>\n",
       "      <td>10267083</td>\n",
       "      <td>853.100710</td>\n",
       "    </tr>\n",
       "    <tr>\n",
       "      <th>3</th>\n",
       "      <td>1967</td>\n",
       "      <td>11537966</td>\n",
       "      <td>836.197138</td>\n",
       "    </tr>\n",
       "    <tr>\n",
       "      <th>4</th>\n",
       "      <td>1972</td>\n",
       "      <td>13079460</td>\n",
       "      <td>739.981106</td>\n",
       "    </tr>\n",
       "  </tbody>\n",
       "</table>\n",
       "</div>"
      ],
      "text/plain": [
       "   year       pop   gdpPercap\n",
       "0  1952   8425333  779.445314\n",
       "1  1957   9240934  820.853030\n",
       "2  1962  10267083  853.100710\n",
       "3  1967  11537966  836.197138\n",
       "4  1972  13079460  739.981106"
      ]
     },
     "execution_count": 54,
     "metadata": {},
     "output_type": "execute_result"
    }
   ],
   "source": [
    "subset.head()"
   ]
  },
  {
   "cell_type": "code",
   "execution_count": 56,
   "metadata": {},
   "outputs": [
    {
     "name": "stdout",
     "output_type": "stream",
     "text": [
      "[0, 1, 2, 3, 4]\n"
     ]
    }
   ],
   "source": [
    "small_range = list (range(5)) #range함수(시작, 끝, step) == range함수랑 같음\n",
    "print(small_range)"
   ]
  },
  {
   "cell_type": "code",
   "execution_count": 57,
   "metadata": {},
   "outputs": [
    {
     "name": "stdout",
     "output_type": "stream",
     "text": [
      "<class 'list'>\n"
     ]
    }
   ],
   "source": [
    "print(type(small_range))"
   ]
  },
  {
   "cell_type": "code",
   "execution_count": 58,
   "metadata": {},
   "outputs": [
    {
     "name": "stdout",
     "output_type": "stream",
     "text": [
      "       country continent  year  lifeExp       pop\n",
      "0  Afghanistan      Asia  1952   28.801   8425333\n",
      "1  Afghanistan      Asia  1957   30.332   9240934\n",
      "2  Afghanistan      Asia  1962   31.997  10267083\n",
      "3  Afghanistan      Asia  1967   34.020  11537966\n",
      "4  Afghanistan      Asia  1972   36.088  13079460\n"
     ]
    }
   ],
   "source": [
    "subset = df.iloc[ : , small_range]\n",
    "print(subset.head())"
   ]
  },
  {
   "cell_type": "code",
   "execution_count": 67,
   "metadata": {},
   "outputs": [
    {
     "name": "stdout",
     "output_type": "stream",
     "text": [
      "[3, 4, 5]\n"
     ]
    }
   ],
   "source": [
    "small_range = list(range(3,6))\n",
    "print(small_range)"
   ]
  },
  {
   "cell_type": "code",
   "execution_count": 68,
   "metadata": {},
   "outputs": [
    {
     "name": "stdout",
     "output_type": "stream",
     "text": [
      "   lifeExp       pop   gdpPercap\n",
      "0   28.801   8425333  779.445314\n",
      "1   30.332   9240934  820.853030\n",
      "2   31.997  10267083  853.100710\n",
      "3   34.020  11537966  836.197138\n",
      "4   36.088  13079460  739.981106\n"
     ]
    }
   ],
   "source": [
    "subset = df.iloc[:,small_range]\n",
    "print(subset.head())"
   ]
  },
  {
   "cell_type": "code",
   "execution_count": 71,
   "metadata": {},
   "outputs": [],
   "source": [
    "small_range = list(range(0,6,2)) #짝수 컬럼만 뽑아라 \n",
    "subset = df.iloc[ : ,small_range]"
   ]
  },
  {
   "cell_type": "code",
   "execution_count": 72,
   "metadata": {},
   "outputs": [
    {
     "name": "stdout",
     "output_type": "stream",
     "text": [
      "       country  year       pop\n",
      "0  Afghanistan  1952   8425333\n",
      "1  Afghanistan  1957   9240934\n",
      "2  Afghanistan  1962  10267083\n",
      "3  Afghanistan  1967  11537966\n",
      "4  Afghanistan  1972  13079460\n"
     ]
    }
   ],
   "source": [
    "print(subset.head())"
   ]
  },
  {
   "cell_type": "code",
   "execution_count": 74,
   "metadata": {},
   "outputs": [
    {
     "name": "stdout",
     "output_type": "stream",
     "text": [
      "       country continent  year\n",
      "0  Afghanistan      Asia  1952\n",
      "1  Afghanistan      Asia  1957\n",
      "2  Afghanistan      Asia  1962\n",
      "3  Afghanistan      Asia  1967\n",
      "4  Afghanistan      Asia  1972\n"
     ]
    }
   ],
   "source": [
    "subset = df.iloc[: , :3]\n",
    "print(subset.head())"
   ]
  },
  {
   "cell_type": "code",
   "execution_count": 75,
   "metadata": {},
   "outputs": [],
   "source": [
    "df_json = df.to_json()"
   ]
  },
  {
   "cell_type": "code",
   "execution_count": 76,
   "metadata": {
    "scrolled": true
   },
   "outputs": [
    {
     "name": "stdout",
     "output_type": "stream",
     "text": [
      "{\"country\":{\"0\":\"Afghanistan\",\"1\":\"Afghanistan\",\"2\":\"Afghanistan\",\"3\":\"Afghanistan\",\"4\":\"Afghanistan\",\"5\":\"Afghanistan\",\"6\":\"Afghanistan\",\"7\":\"Afghanistan\",\"8\":\"Afghanistan\",\"9\":\"Afghanistan\",\"10\":\"Afghanistan\",\"11\":\"Afghanistan\",\"12\":\"Albania\",\"13\":\"Albania\",\"14\":\"Albania\",\"15\":\"Albania\",\"16\":\"Albania\",\"17\":\"Albania\",\"18\":\"Albania\",\"19\":\"Albania\",\"20\":\"Albania\",\"21\":\"Albania\",\"22\":\"Albania\",\"23\":\"Albania\",\"24\":\"Algeria\",\"25\":\"Algeria\",\"26\":\"Algeria\",\"27\":\"Algeria\",\"28\":\"Algeria\",\"29\":\"Algeria\",\"30\":\"Algeria\",\"31\":\"Algeria\",\"32\":\"Algeria\",\"33\":\"Algeria\",\"34\":\"Algeria\",\"35\":\"Algeria\",\"36\":\"Angola\",\"37\":\"Angola\",\"38\":\"Angola\",\"39\":\"Angola\",\"40\":\"Angola\",\"41\":\"Angola\",\"42\":\"Angola\",\"43\":\"Angola\",\"44\":\"Angola\",\"45\":\"Angola\",\"46\":\"Angola\",\"47\":\"Angola\",\"48\":\"Argentina\",\"49\":\"Argentina\",\"50\":\"Argentina\",\"51\":\"Argentina\",\"52\":\"Argentina\",\"53\":\"Argentina\",\"54\":\"Argentina\",\"55\":\"Argentina\",\"56\":\"Argentina\",\"57\":\"Argentina\",\"58\":\"Argentina\",\"59\":\"Argentina\",\"60\":\"Australia\",\"61\":\"Australia\",\"62\":\"Australia\",\"63\":\"Australia\",\"64\":\"Australia\",\"65\":\"Australia\",\"66\":\"Australia\",\"67\":\"Australia\",\"68\":\"Australia\",\"69\":\"Australia\",\"70\":\"Australia\",\"71\":\"Australia\",\"72\":\"Austria\",\"73\":\"Austria\",\"74\":\"Austria\",\"75\":\"Austria\",\"76\":\"Austria\",\"77\":\"Austria\",\"78\":\"Austria\",\"79\":\"Austria\",\"80\":\"Austria\",\"81\":\"Austria\",\"82\":\"Austria\",\"83\":\"Austria\",\"84\":\"Bahrain\",\"85\":\"Bahrain\",\"86\":\"Bahrain\",\"87\":\"Bahrain\",\"88\":\"Bahrain\",\"89\":\"Bahrain\",\"90\":\"Bahrain\",\"91\":\"Bahrain\",\"92\":\"Bahrain\",\"93\":\"Bahrain\",\"94\":\"Bahrain\",\"95\":\"Bahrain\",\"96\":\"Bangladesh\",\"97\":\"Bangladesh\",\"98\":\"Bangladesh\",\"99\":\"Bangladesh\",\"100\":\"Bangladesh\",\"101\":\"Bangladesh\",\"102\":\"Bangladesh\",\"103\":\"Bangladesh\",\"104\":\"Bangladesh\",\"105\":\"Bangladesh\",\"106\":\"Bangladesh\",\"107\":\"Bangladesh\",\"108\":\"Belgium\",\"109\":\"Belgium\",\"110\":\"Belgium\",\"111\":\"Belgium\",\"112\":\"Belgium\",\"113\":\"Belgium\",\"114\":\"Belgium\",\"115\":\"Belgium\",\"116\":\"Belgium\",\"117\":\"Belgium\",\"118\":\"Belgium\",\"119\":\"Belgium\",\"120\":\"Benin\",\"121\":\"Benin\",\"122\":\"Benin\",\"123\":\"Benin\",\"124\":\"Benin\",\"125\":\"Benin\",\"126\":\"Benin\",\"127\":\"Benin\",\"128\":\"Benin\",\"129\":\"Benin\",\"130\":\"Benin\",\"131\":\"Benin\",\"132\":\"Bolivia\",\"133\":\"Bolivia\",\"134\":\"Bolivia\",\"135\":\"Bolivia\",\"136\":\"Bolivia\",\"137\":\"Bolivia\",\"138\":\"Bolivia\",\"139\":\"Bolivia\",\"140\":\"Bolivia\",\"141\":\"Bolivia\",\"142\":\"Bolivia\",\"143\":\"Bolivia\",\"144\":\"Bosnia and Herzegovina\",\"145\":\"Bosnia and Herzegovina\",\"146\":\"Bosnia and Herzegovina\",\"147\":\"Bosnia and Herzegovina\",\"148\":\"Bosnia and Herzegovina\",\"149\":\"Bosnia and Herzegovina\",\"150\":\"Bosnia and Herzegovina\",\"151\":\"Bosnia and Herzegovina\",\"152\":\"Bosnia and Herzegovina\",\"153\":\"Bosnia and Herzegovina\",\"154\":\"Bosnia and Herzegovina\",\"155\":\"Bosnia and Herzegovina\",\"156\":\"Botswana\",\"157\":\"Botswana\",\"158\":\"Botswana\",\"159\":\"Botswana\",\"160\":\"Botswana\",\"161\":\"Botswana\",\"162\":\"Botswana\",\"163\":\"Botswana\",\"164\":\"Botswana\",\"165\":\"Botswana\",\"166\":\"Botswana\",\"167\":\"Botswana\",\"168\":\"Brazil\",\"169\":\"Brazil\",\"170\":\"Brazil\",\"171\":\"Brazil\",\"172\":\"Brazil\",\"173\":\"Brazil\",\"174\":\"Brazil\",\"175\":\"Brazil\",\"176\":\"Brazil\",\"177\":\"Brazil\",\"178\":\"Brazil\",\"179\":\"Brazil\",\"180\":\"Bulgaria\",\"181\":\"Bulgaria\",\"182\":\"Bulgaria\",\"183\":\"Bulgaria\",\"184\":\"Bulgaria\",\"185\":\"Bulgaria\",\"186\":\"Bulgaria\",\"187\":\"Bulgaria\",\"188\":\"Bulgaria\",\"189\":\"Bulgaria\",\"190\":\"Bulgaria\",\"191\":\"Bulgaria\",\"192\":\"Burkina Faso\",\"193\":\"Burkina Faso\",\"194\":\"Burkina Faso\",\"195\":\"Burkina Faso\",\"196\":\"Burkina Faso\",\"197\":\"Burkina Faso\",\"198\":\"Burkina Faso\",\"199\":\"Burkina Faso\",\"200\":\"Burkina Faso\",\"201\":\"Burkina Faso\",\"202\":\"Burkina Faso\",\"203\":\"Burkina Faso\",\"204\":\"Burundi\",\"205\":\"Burundi\",\"206\":\"Burundi\",\"207\":\"Burundi\",\"208\":\"Burundi\",\"209\":\"Burundi\",\"210\":\"Burundi\",\"211\":\"Burundi\",\"212\":\"Burundi\",\"213\":\"Burundi\",\"214\":\"Burundi\",\"215\":\"Burundi\",\"216\":\"Cambodia\",\"217\":\"Cambodia\",\"218\":\"Cambodia\",\"219\":\"Cambodia\",\"220\":\"Cambodia\",\"221\":\"Cambodia\",\"222\":\"Cambodia\",\"223\":\"Cambodia\",\"224\":\"Cambodia\",\"225\":\"Cambodia\",\"226\":\"Cambodia\",\"227\":\"Cambodia\",\"228\":\"Cameroon\",\"229\":\"Cameroon\",\"230\":\"Cameroon\",\"231\":\"Cameroon\",\"232\":\"Cameroon\",\"233\":\"Cameroon\",\"234\":\"Cameroon\",\"235\":\"Cameroon\",\"236\":\"Cameroon\",\"237\":\"Cameroon\",\"238\":\"Cameroon\",\"239\":\"Cameroon\",\"240\":\"Canada\",\"241\":\"Canada\",\"242\":\"Canada\",\"243\":\"Canada\",\"244\":\"Canada\",\"245\":\"Canada\",\"246\":\"Canada\",\"247\":\"Canada\",\"248\":\"Canada\",\"249\":\"Canada\",\"250\":\"Canada\",\"251\":\"Canada\",\"252\":\"Central African Republic\",\"253\":\"Central African Republic\",\"254\":\"Central African Republic\",\"255\":\"Central African Republic\",\"256\":\"Central African Republic\",\"257\":\"Central African Republic\",\"258\":\"Central African Republic\",\"259\":\"Central African Republic\",\"260\":\"Central African Republic\",\"261\":\"Central African Republic\",\"262\":\"Central African Republic\",\"263\":\"Central African Republic\",\"264\":\"Chad\",\"265\":\"Chad\",\"266\":\"Chad\",\"267\":\"Chad\",\"268\":\"Chad\",\"269\":\"Chad\",\"270\":\"Chad\",\"271\":\"Chad\",\"272\":\"Chad\",\"273\":\"Chad\",\"274\":\"Chad\",\"275\":\"Chad\",\"276\":\"Chile\",\"277\":\"Chile\",\"278\":\"Chile\",\"279\":\"Chile\",\"280\":\"Chile\",\"281\":\"Chile\",\"282\":\"Chile\",\"283\":\"Chile\",\"284\":\"Chile\",\"285\":\"Chile\",\"286\":\"Chile\",\"287\":\"Chile\",\"288\":\"China\",\"289\":\"China\",\"290\":\"China\",\"291\":\"China\",\"292\":\"China\",\"293\":\"China\",\"294\":\"China\",\"295\":\"China\",\"296\":\"China\",\"297\":\"China\",\"298\":\"China\",\"299\":\"China\",\"300\":\"Colombia\",\"301\":\"Colombia\",\"302\":\"Colombia\",\"303\":\"Colombia\",\"304\":\"Colombia\",\"305\":\"Colombia\",\"306\":\"Colombia\",\"307\":\"Colombia\",\"308\":\"Colombia\",\"309\":\"Colombia\",\"310\":\"Colombia\",\"311\":\"Colombia\",\"312\":\"Comoros\",\"313\":\"Comoros\",\"314\":\"Comoros\",\"315\":\"Comoros\",\"316\":\"Comoros\",\"317\":\"Comoros\",\"318\":\"Comoros\",\"319\":\"Comoros\",\"320\":\"Comoros\",\"321\":\"Comoros\",\"322\":\"Comoros\",\"323\":\"Comoros\",\"324\":\"Congo, Dem. Rep.\",\"325\":\"Congo, Dem. Rep.\",\"326\":\"Congo, Dem. Rep.\",\"327\":\"Congo, Dem. Rep.\",\"328\":\"Congo, Dem. Rep.\",\"329\":\"Congo, Dem. Rep.\",\"330\":\"Congo, Dem. Rep.\",\"331\":\"Congo, Dem. Rep.\",\"332\":\"Congo, Dem. Rep.\",\"333\":\"Congo, Dem. Rep.\",\"334\":\"Congo, Dem. Rep.\",\"335\":\"Congo, Dem. Rep.\",\"336\":\"Congo, Rep.\",\"337\":\"Congo, Rep.\",\"338\":\"Congo, Rep.\",\"339\":\"Congo, Rep.\",\"340\":\"Congo, Rep.\",\"341\":\"Congo, Rep.\",\"342\":\"Congo, Rep.\",\"343\":\"Congo, Rep.\",\"344\":\"Congo, Rep.\",\"345\":\"Congo, Rep.\",\"346\":\"Congo, Rep.\",\"347\":\"Congo, Rep.\",\"348\":\"Costa Rica\",\"349\":\"Costa Rica\",\"350\":\"Costa Rica\",\"351\":\"Costa Rica\",\"352\":\"Costa Rica\",\"353\":\"Costa Rica\",\"354\":\"Costa Rica\",\"355\":\"Costa Rica\",\"356\":\"Costa Rica\",\"357\":\"Costa Rica\",\"358\":\"Costa Rica\",\"359\":\"Costa Rica\",\"360\":\"Cote d'Ivoire\",\"361\":\"Cote d'Ivoire\",\"362\":\"Cote d'Ivoire\",\"363\":\"Cote d'Ivoire\",\"364\":\"Cote d'Ivoire\",\"365\":\"Cote d'Ivoire\",\"366\":\"Cote d'Ivoire\",\"367\":\"Cote d'Ivoire\",\"368\":\"Cote d'Ivoire\",\"369\":\"Cote d'Ivoire\",\"370\":\"Cote d'Ivoire\",\"371\":\"Cote d'Ivoire\",\"372\":\"Croatia\",\"373\":\"Croatia\",\"374\":\"Croatia\",\"375\":\"Croatia\",\"376\":\"Croatia\",\"377\":\"Croatia\",\"378\":\"Croatia\",\"379\":\"Croatia\",\"380\":\"Croatia\",\"381\":\"Croatia\",\"382\":\"Croatia\",\"383\":\"Croatia\",\"384\":\"Cuba\",\"385\":\"Cuba\",\"386\":\"Cuba\",\"387\":\"Cuba\",\"388\":\"Cuba\",\"389\":\"Cuba\",\"390\":\"Cuba\",\"391\":\"Cuba\",\"392\":\"Cuba\",\"393\":\"Cuba\",\"394\":\"Cuba\",\"395\":\"Cuba\",\"396\":\"Czech Republic\",\"397\":\"Czech Republic\",\"398\":\"Czech Republic\",\"399\":\"Czech Republic\",\"400\":\"Czech Republic\",\"401\":\"Czech Republic\",\"402\":\"Czech Republic\",\"403\":\"Czech Republic\",\"404\":\"Czech Republic\",\"405\":\"Czech Republic\",\"406\":\"Czech Republic\",\"407\":\"Czech Republic\",\"408\":\"Denmark\",\"409\":\"Denmark\",\"410\":\"Denmark\",\"411\":\"Denmark\",\"412\":\"Denmark\",\"413\":\"Denmark\",\"414\":\"Denmark\",\"415\":\"Denmark\",\"416\":\"Denmark\",\"417\":\"Denmark\",\"418\":\"Denmark\",\"419\":\"Denmark\",\"420\":\"Djibouti\",\"421\":\"Djibouti\",\"422\":\"Djibouti\",\"423\":\"Djibouti\",\"424\":\"Djibouti\",\"425\":\"Djibouti\",\"426\":\"Djibouti\",\"427\":\"Djibouti\",\"428\":\"Djibouti\",\"429\":\"Djibouti\",\"430\":\"Djibouti\",\"431\":\"Djibouti\",\"432\":\"Dominican Republic\",\"433\":\"Dominican Republic\",\"434\":\"Dominican Republic\",\"435\":\"Dominican Republic\",\"436\":\"Dominican Republic\",\"437\":\"Dominican Republic\",\"438\":\"Dominican Republic\",\"439\":\"Dominican Republic\",\"440\":\"Dominican Republic\",\"441\":\"Dominican Republic\",\"442\":\"Dominican Republic\",\"443\":\"Dominican Republic\",\"444\":\"Ecuador\",\"445\":\"Ecuador\",\"446\":\"Ecuador\",\"447\":\"Ecuador\",\"448\":\"Ecuador\",\"449\":\"Ecuador\",\"450\":\"Ecuador\",\"451\":\"Ecuador\",\"452\":\"Ecuador\",\"453\":\"Ecuador\",\"454\":\"Ecuador\",\"455\":\"Ecuador\",\"456\":\"Egypt\",\"457\":\"Egypt\",\"458\":\"Egypt\",\"459\":\"Egypt\",\"460\":\"Egypt\",\"461\":\"Egypt\",\"462\":\"Egypt\",\"463\":\"Egypt\",\"464\":\"Egypt\",\"465\":\"Egypt\",\"466\":\"Egypt\",\"467\":\"Egypt\",\"468\":\"El Salvador\",\"469\":\"El Salvador\",\"470\":\"El Salvador\",\"471\":\"El Salvador\",\"472\":\"El Salvador\",\"473\":\"El Salvador\",\"474\":\"El Salvador\",\"475\":\"El Salvador\",\"476\":\"El Salvador\",\"477\":\"El Salvador\",\"478\":\"El Salvador\",\"479\":\"El Salvador\",\"480\":\"Equatorial Guinea\",\"481\":\"Equatorial Guinea\",\"482\":\"Equatorial Guinea\",\"483\":\"Equatorial Guinea\",\"484\":\"Equatorial Guinea\",\"485\":\"Equatorial Guinea\",\"486\":\"Equatorial Guinea\",\"487\":\"Equatorial Guinea\",\"488\":\"Equatorial Guinea\",\"489\":\"Equatorial Guinea\",\"490\":\"Equatorial Guinea\",\"491\":\"Equatorial Guinea\",\"492\":\"Eritrea\",\"493\":\"Eritrea\",\"494\":\"Eritrea\",\"495\":\"Eritrea\",\"496\":\"Eritrea\",\"497\":\"Eritrea\",\"498\":\"Eritrea\",\"499\":\"Eritrea\",\"500\":\"Eritrea\",\"501\":\"Eritrea\",\"502\":\"Eritrea\",\"503\":\"Eritrea\",\"504\":\"Ethiopia\",\"505\":\"Ethiopia\",\"506\":\"Ethiopia\",\"507\":\"Ethiopia\",\"508\":\"Ethiopia\",\"509\":\"Ethiopia\",\"510\":\"Ethiopia\",\"511\":\"Ethiopia\",\"512\":\"Ethiopia\",\"513\":\"Ethiopia\",\"514\":\"Ethiopia\",\"515\":\"Ethiopia\",\"516\":\"Finland\",\"517\":\"Finland\",\"518\":\"Finland\",\"519\":\"Finland\",\"520\":\"Finland\",\"521\":\"Finland\",\"522\":\"Finland\",\"523\":\"Finland\",\"524\":\"Finland\",\"525\":\"Finland\",\"526\":\"Finland\",\"527\":\"Finland\",\"528\":\"France\",\"529\":\"France\",\"530\":\"France\",\"531\":\"France\",\"532\":\"France\",\"533\":\"France\",\"534\":\"France\",\"535\":\"France\",\"536\":\"France\",\"537\":\"France\",\"538\":\"France\",\"539\":\"France\",\"540\":\"Gabon\",\"541\":\"Gabon\",\"542\":\"Gabon\",\"543\":\"Gabon\",\"544\":\"Gabon\",\"545\":\"Gabon\",\"546\":\"Gabon\",\"547\":\"Gabon\",\"548\":\"Gabon\",\"549\":\"Gabon\",\"550\":\"Gabon\",\"551\":\"Gabon\",\"552\":\"Gambia\",\"553\":\"Gambia\",\"554\":\"Gambia\",\"555\":\"Gambia\",\"556\":\"Gambia\",\"557\":\"Gambia\",\"558\":\"Gambia\",\"559\":\"Gambia\",\"560\":\"Gambia\",\"561\":\"Gambia\",\"562\":\"Gambia\",\"563\":\"Gambia\",\"564\":\"Germany\",\"565\":\"Germany\",\"566\":\"Germany\",\"567\":\"Germany\",\"568\":\"Germany\",\"569\":\"Germany\",\"570\":\"Germany\",\"571\":\"Germany\",\"572\":\"Germany\",\"573\":\"Germany\",\"574\":\"Germany\",\"575\":\"Germany\",\"576\":\"Ghana\",\"577\":\"Ghana\",\"578\":\"Ghana\",\"579\":\"Ghana\",\"580\":\"Ghana\",\"581\":\"Ghana\",\"582\":\"Ghana\",\"583\":\"Ghana\",\"584\":\"Ghana\",\"585\":\"Ghana\",\"586\":\"Ghana\",\"587\":\"Ghana\",\"588\":\"Greece\",\"589\":\"Greece\",\"590\":\"Greece\",\"591\":\"Greece\",\"592\":\"Greece\",\"593\":\"Greece\",\"594\":\"Greece\",\"595\":\"Greece\",\"596\":\"Greece\",\"597\":\"Greece\",\"598\":\"Greece\",\"599\":\"Greece\",\"600\":\"Guatemala\",\"601\":\"Guatemala\",\"602\":\"Guatemala\",\"603\":\"Guatemala\",\"604\":\"Guatemala\",\"605\":\"Guatemala\",\"606\":\"Guatemala\",\"607\":\"Guatemala\",\"608\":\"Guatemala\",\"609\":\"Guatemala\",\"610\":\"Guatemala\",\"611\":\"Guatemala\",\"612\":\"Guinea\",\"613\":\"Guinea\",\"614\":\"Guinea\",\"615\":\"Guinea\",\"616\":\"Guinea\",\"617\":\"Guinea\",\"618\":\"Guinea\",\"619\":\"Guinea\",\"620\":\"Guinea\",\"621\":\"Guinea\",\"622\":\"Guinea\",\"623\":\"Guinea\",\"624\":\"Guinea-Bissau\",\"625\":\"Guinea-Bissau\",\"626\":\"Guinea-Bissau\",\"627\":\"Guinea-Bissau\",\"628\":\"Guinea-Bissau\",\"629\":\"Guinea-Bissau\",\"630\":\"Guinea-Bissau\",\"631\":\"Guinea-Bissau\",\"632\":\"Guinea-Bissau\",\"633\":\"Guinea-Bissau\",\"634\":\"Guinea-Bissau\",\"635\":\"Guinea-Bissau\",\"636\":\"Haiti\",\"637\":\"Haiti\",\"638\":\"Haiti\",\"639\":\"Haiti\",\"640\":\"Haiti\",\"641\":\"Haiti\",\"642\":\"Haiti\",\"643\":\"Haiti\",\"644\":\"Haiti\",\"645\":\"Haiti\",\"646\":\"Haiti\",\"647\":\"Haiti\",\"648\":\"Honduras\",\"649\":\"Honduras\",\"650\":\"Honduras\",\"651\":\"Honduras\",\"652\":\"Honduras\",\"653\":\"Honduras\",\"654\":\"Honduras\",\"655\":\"Honduras\",\"656\":\"Honduras\",\"657\":\"Honduras\",\"658\":\"Honduras\",\"659\":\"Honduras\",\"660\":\"Hong Kong, China\",\"661\":\"Hong Kong, China\",\"662\":\"Hong Kong, China\",\"663\":\"Hong Kong, China\",\"664\":\"Hong Kong, China\",\"665\":\"Hong Kong, China\",\"666\":\"Hong Kong, China\",\"667\":\"Hong Kong, China\",\"668\":\"Hong Kong, China\",\"669\":\"Hong Kong, China\",\"670\":\"Hong Kong, China\",\"671\":\"Hong Kong, China\",\"672\":\"Hungary\",\"673\":\"Hungary\",\"674\":\"Hungary\",\"675\":\"Hungary\",\"676\":\"Hungary\",\"677\":\"Hungary\",\"678\":\"Hungary\",\"679\":\"Hungary\",\"680\":\"Hungary\",\"681\":\"Hungary\",\"682\":\"Hungary\",\"683\":\"Hungary\",\"684\":\"Iceland\",\"685\":\"Iceland\",\"686\":\"Iceland\",\"687\":\"Iceland\",\"688\":\"Iceland\",\"689\":\"Iceland\",\"690\":\"Iceland\",\"691\":\"Iceland\",\"692\":\"Iceland\",\"693\":\"Iceland\",\"694\":\"Iceland\",\"695\":\"Iceland\",\"696\":\"India\",\"697\":\"India\",\"698\":\"India\",\"699\":\"India\",\"700\":\"India\",\"701\":\"India\",\"702\":\"India\",\"703\":\"India\",\"704\":\"India\",\"705\":\"India\",\"706\":\"India\",\"707\":\"India\",\"708\":\"Indonesia\",\"709\":\"Indonesia\",\"710\":\"Indonesia\",\"711\":\"Indonesia\",\"712\":\"Indonesia\",\"713\":\"Indonesia\",\"714\":\"Indonesia\",\"715\":\"Indonesia\",\"716\":\"Indonesia\",\"717\":\"Indonesia\",\"718\":\"Indonesia\",\"719\":\"Indonesia\",\"720\":\"Iran\",\"721\":\"Iran\",\"722\":\"Iran\",\"723\":\"Iran\",\"724\":\"Iran\",\"725\":\"Iran\",\"726\":\"Iran\",\"727\":\"Iran\",\"728\":\"Iran\",\"729\":\"Iran\",\"730\":\"Iran\",\"731\":\"Iran\",\"732\":\"Iraq\",\"733\":\"Iraq\",\"734\":\"Iraq\",\"735\":\"Iraq\",\"736\":\"Iraq\",\"737\":\"Iraq\",\"738\":\"Iraq\",\"739\":\"Iraq\",\"740\":\"Iraq\",\"741\":\"Iraq\",\"742\":\"Iraq\",\"743\":\"Iraq\",\"744\":\"Ireland\",\"745\":\"Ireland\",\"746\":\"Ireland\",\"747\":\"Ireland\",\"748\":\"Ireland\",\"749\":\"Ireland\",\"750\":\"Ireland\",\"751\":\"Ireland\",\"752\":\"Ireland\",\"753\":\"Ireland\",\"754\":\"Ireland\",\"755\":\"Ireland\",\"756\":\"Israel\",\"757\":\"Israel\",\"758\":\"Israel\",\"759\":\"Israel\",\"760\":\"Israel\",\"761\":\"Israel\",\"762\":\"Israel\",\"763\":\"Israel\",\"764\":\"Israel\",\"765\":\"Israel\",\"766\":\"Israel\",\"767\":\"Israel\",\"768\":\"Italy\",\"769\":\"Italy\",\"770\":\"Italy\",\"771\":\"Italy\",\"772\":\"Italy\",\"773\":\"Italy\",\"774\":\"Italy\",\"775\":\"Italy\",\"776\":\"Italy\",\"777\":\"Italy\",\"778\":\"Italy\",\"779\":\"Italy\",\"780\":\"Jamaica\",\"781\":\"Jamaica\",\"782\":\"Jamaica\",\"783\":\"Jamaica\",\"784\":\"Jamaica\",\"785\":\"Jamaica\",\"786\":\"Jamaica\",\"787\":\"Jamaica\",\"788\":\"Jamaica\",\"789\":\"Jamaica\",\"790\":\"Jamaica\",\"791\":\"Jamaica\",\"792\":\"Japan\",\"793\":\"Japan\",\"794\":\"Japan\",\"795\":\"Japan\",\"796\":\"Japan\",\"797\":\"Japan\",\"798\":\"Japan\",\"799\":\"Japan\",\"800\":\"Japan\",\"801\":\"Japan\",\"802\":\"Japan\",\"803\":\"Japan\",\"804\":\"Jordan\",\"805\":\"Jordan\",\"806\":\"Jordan\",\"807\":\"Jordan\",\"808\":\"Jordan\",\"809\":\"Jordan\",\"810\":\"Jordan\",\"811\":\"Jordan\",\"812\":\"Jordan\",\"813\":\"Jordan\",\"814\":\"Jordan\",\"815\":\"Jordan\",\"816\":\"Kenya\",\"817\":\"Kenya\",\"818\":\"Kenya\",\"819\":\"Kenya\",\"820\":\"Kenya\",\"821\":\"Kenya\",\"822\":\"Kenya\",\"823\":\"Kenya\",\"824\":\"Kenya\",\"825\":\"Kenya\",\"826\":\"Kenya\",\"827\":\"Kenya\",\"828\":\"Korea, Dem. Rep.\",\"829\":\"Korea, Dem. Rep.\",\"830\":\"Korea, Dem. Rep.\",\"831\":\"Korea, Dem. Rep.\",\"832\":\"Korea, Dem. Rep.\",\"833\":\"Korea, Dem. Rep.\",\"834\":\"Korea, Dem. Rep.\",\"835\":\"Korea, Dem. Rep.\",\"836\":\"Korea, Dem. Rep.\",\"837\":\"Korea, Dem. Rep.\",\"838\":\"Korea, Dem. Rep.\",\"839\":\"Korea, Dem. Rep.\",\"840\":\"Korea, Rep.\",\"841\":\"Korea, Rep.\",\"842\":\"Korea, Rep.\",\"843\":\"Korea, Rep.\",\"844\":\"Korea, Rep.\",\"845\":\"Korea, Rep.\",\"846\":\"Korea, Rep.\",\"847\":\"Korea, Rep.\",\"848\":\"Korea, Rep.\",\"849\":\"Korea, Rep.\",\"850\":\"Korea, Rep.\",\"851\":\"Korea, Rep.\",\"852\":\"Kuwait\",\"853\":\"Kuwait\",\"854\":\"Kuwait\",\"855\":\"Kuwait\",\"856\":\"Kuwait\",\"857\":\"Kuwait\",\"858\":\"Kuwait\",\"859\":\"Kuwait\",\"860\":\"Kuwait\",\"861\":\"Kuwait\",\"862\":\"Kuwait\",\"863\":\"Kuwait\",\"864\":\"Lebanon\",\"865\":\"Lebanon\",\"866\":\"Lebanon\",\"867\":\"Lebanon\",\"868\":\"Lebanon\",\"869\":\"Lebanon\",\"870\":\"Lebanon\",\"871\":\"Lebanon\",\"872\":\"Lebanon\",\"873\":\"Lebanon\",\"874\":\"Lebanon\",\"875\":\"Lebanon\",\"876\":\"Lesotho\",\"877\":\"Lesotho\",\"878\":\"Lesotho\",\"879\":\"Lesotho\",\"880\":\"Lesotho\",\"881\":\"Lesotho\",\"882\":\"Lesotho\",\"883\":\"Lesotho\",\"884\":\"Lesotho\",\"885\":\"Lesotho\",\"886\":\"Lesotho\",\"887\":\"Lesotho\",\"888\":\"Liberia\",\"889\":\"Liberia\",\"890\":\"Liberia\",\"891\":\"Liberia\",\"892\":\"Liberia\",\"893\":\"Liberia\",\"894\":\"Liberia\",\"895\":\"Liberia\",\"896\":\"Liberia\",\"897\":\"Liberia\",\"898\":\"Liberia\",\"899\":\"Liberia\",\"900\":\"Libya\",\"901\":\"Libya\",\"902\":\"Libya\",\"903\":\"Libya\",\"904\":\"Libya\",\"905\":\"Libya\",\"906\":\"Libya\",\"907\":\"Libya\",\"908\":\"Libya\",\"909\":\"Libya\",\"910\":\"Libya\",\"911\":\"Libya\",\"912\":\"Madagascar\",\"913\":\"Madagascar\",\"914\":\"Madagascar\",\"915\":\"Madagascar\",\"916\":\"Madagascar\",\"917\":\"Madagascar\",\"918\":\"Madagascar\",\"919\":\"Madagascar\",\"920\":\"Madagascar\",\"921\":\"Madagascar\",\"922\":\"Madagascar\",\"923\":\"Madagascar\",\"924\":\"Malawi\",\"925\":\"Malawi\",\"926\":\"Malawi\",\"927\":\"Malawi\",\"928\":\"Malawi\",\"929\":\"Malawi\",\"930\":\"Malawi\",\"931\":\"Malawi\",\"932\":\"Malawi\",\"933\":\"Malawi\",\"934\":\"Malawi\",\"935\":\"Malawi\",\"936\":\"Malaysia\",\"937\":\"Malaysia\",\"938\":\"Malaysia\",\"939\":\"Malaysia\",\"940\":\"Malaysia\",\"941\":\"Malaysia\",\"942\":\"Malaysia\",\"943\":\"Malaysia\",\"944\":\"Malaysia\",\"945\":\"Malaysia\",\"946\":\"Malaysia\",\"947\":\"Malaysia\",\"948\":\"Mali\",\"949\":\"Mali\",\"950\":\"Mali\",\"951\":\"Mali\",\"952\":\"Mali\",\"953\":\"Mali\",\"954\":\"Mali\",\"955\":\"Mali\",\"956\":\"Mali\",\"957\":\"Mali\",\"958\":\"Mali\",\"959\":\"Mali\",\"960\":\"Mauritania\",\"961\":\"Mauritania\",\"962\":\"Mauritania\",\"963\":\"Mauritania\",\"964\":\"Mauritania\",\"965\":\"Mauritania\",\"966\":\"Mauritania\",\"967\":\"Mauritania\",\"968\":\"Mauritania\",\"969\":\"Mauritania\",\"970\":\"Mauritania\",\"971\":\"Mauritania\",\"972\":\"Mauritius\",\"973\":\"Mauritius\",\"974\":\"Mauritius\",\"975\":\"Mauritius\",\"976\":\"Mauritius\",\"977\":\"Mauritius\",\"978\":\"Mauritius\",\"979\":\"Mauritius\",\"980\":\"Mauritius\",\"981\":\"Mauritius\",\"982\":\"Mauritius\",\"983\":\"Mauritius\",\"984\":\"Mexico\",\"985\":\"Mexico\",\"986\":\"Mexico\",\"987\":\"Mexico\",\"988\":\"Mexico\",\"989\":\"Mexico\",\"990\":\"Mexico\",\"991\":\"Mexico\",\"992\":\"Mexico\",\"993\":\"Mexico\",\"994\":\"Mexico\",\"995\":\"Mexico\",\"996\":\"Mongolia\",\"997\":\"Mongolia\",\"998\":\"Mongolia\",\"999\":\"Mongolia\",\"1000\":\"Mongolia\",\"1001\":\"Mongolia\",\"1002\":\"Mongolia\",\"1003\":\"Mongolia\",\"1004\":\"Mongolia\",\"1005\":\"Mongolia\",\"1006\":\"Mongolia\",\"1007\":\"Mongolia\",\"1008\":\"Montenegro\",\"1009\":\"Montenegro\",\"1010\":\"Montenegro\",\"1011\":\"Montenegro\",\"1012\":\"Montenegro\",\"1013\":\"Montenegro\",\"1014\":\"Montenegro\",\"1015\":\"Montenegro\",\"1016\":\"Montenegro\",\"1017\":\"Montenegro\",\"1018\":\"Montenegro\",\"1019\":\"Montenegro\",\"1020\":\"Morocco\",\"1021\":\"Morocco\",\"1022\":\"Morocco\",\"1023\":\"Morocco\",\"1024\":\"Morocco\",\"1025\":\"Morocco\",\"1026\":\"Morocco\",\"1027\":\"Morocco\",\"1028\":\"Morocco\",\"1029\":\"Morocco\",\"1030\":\"Morocco\",\"1031\":\"Morocco\",\"1032\":\"Mozambique\",\"1033\":\"Mozambique\",\"1034\":\"Mozambique\",\"1035\":\"Mozambique\",\"1036\":\"Mozambique\",\"1037\":\"Mozambique\",\"1038\":\"Mozambique\",\"1039\":\"Mozambique\",\"1040\":\"Mozambique\",\"1041\":\"Mozambique\",\"1042\":\"Mozambique\",\"1043\":\"Mozambique\",\"1044\":\"Myanmar\",\"1045\":\"Myanmar\",\"1046\":\"Myanmar\",\"1047\":\"Myanmar\",\"1048\":\"Myanmar\",\"1049\":\"Myanmar\",\"1050\":\"Myanmar\",\"1051\":\"Myanmar\",\"1052\":\"Myanmar\",\"1053\":\"Myanmar\",\"1054\":\"Myanmar\",\"1055\":\"Myanmar\",\"1056\":\"Namibia\",\"1057\":\"Namibia\",\"1058\":\"Namibia\",\"1059\":\"Namibia\",\"1060\":\"Namibia\",\"1061\":\"Namibia\",\"1062\":\"Namibia\",\"1063\":\"Namibia\",\"1064\":\"Namibia\",\"1065\":\"Namibia\",\"1066\":\"Namibia\",\"1067\":\"Namibia\",\"1068\":\"Nepal\",\"1069\":\"Nepal\",\"1070\":\"Nepal\",\"1071\":\"Nepal\",\"1072\":\"Nepal\",\"1073\":\"Nepal\",\"1074\":\"Nepal\",\"1075\":\"Nepal\",\"1076\":\"Nepal\",\"1077\":\"Nepal\",\"1078\":\"Nepal\",\"1079\":\"Nepal\",\"1080\":\"Netherlands\",\"1081\":\"Netherlands\",\"1082\":\"Netherlands\",\"1083\":\"Netherlands\",\"1084\":\"Netherlands\",\"1085\":\"Netherlands\",\"1086\":\"Netherlands\",\"1087\":\"Netherlands\",\"1088\":\"Netherlands\",\"1089\":\"Netherlands\",\"1090\":\"Netherlands\",\"1091\":\"Netherlands\",\"1092\":\"New Zealand\",\"1093\":\"New Zealand\",\"1094\":\"New Zealand\",\"1095\":\"New Zealand\",\"1096\":\"New Zealand\",\"1097\":\"New Zealand\",\"1098\":\"New Zealand\",\"1099\":\"New Zealand\",\"1100\":\"New Zealand\",\"1101\":\"New Zealand\",\"1102\":\"New Zealand\",\"1103\":\"New Zealand\",\"1104\":\"Nicaragua\",\"1105\":\"Nicaragua\",\"1106\":\"Nicaragua\",\"1107\":\"Nicaragua\",\"1108\":\"Nicaragua\",\"1109\":\"Nicaragua\",\"1110\":\"Nicaragua\",\"1111\":\"Nicaragua\",\"1112\":\"Nicaragua\",\"1113\":\"Nicaragua\",\"1114\":\"Nicaragua\",\"1115\":\"Nicaragua\",\"1116\":\"Niger\",\"1117\":\"Niger\",\"1118\":\"Niger\",\"1119\":\"Niger\",\"1120\":\"Niger\",\"1121\":\"Niger\",\"1122\":\"Niger\",\"1123\":\"Niger\",\"1124\":\"Niger\",\"1125\":\"Niger\",\"1126\":\"Niger\",\"1127\":\"Niger\",\"1128\":\"Nigeria\",\"1129\":\"Nigeria\",\"1130\":\"Nigeria\",\"1131\":\"Nigeria\",\"1132\":\"Nigeria\",\"1133\":\"Nigeria\",\"1134\":\"Nigeria\",\"1135\":\"Nigeria\",\"1136\":\"Nigeria\",\"1137\":\"Nigeria\",\"1138\":\"Nigeria\",\"1139\":\"Nigeria\",\"1140\":\"Norway\",\"1141\":\"Norway\",\"1142\":\"Norway\",\"1143\":\"Norway\",\"1144\":\"Norway\",\"1145\":\"Norway\",\"1146\":\"Norway\",\"1147\":\"Norway\",\"1148\":\"Norway\",\"1149\":\"Norway\",\"1150\":\"Norway\",\"1151\":\"Norway\",\"1152\":\"Oman\",\"1153\":\"Oman\",\"1154\":\"Oman\",\"1155\":\"Oman\",\"1156\":\"Oman\",\"1157\":\"Oman\",\"1158\":\"Oman\",\"1159\":\"Oman\",\"1160\":\"Oman\",\"1161\":\"Oman\",\"1162\":\"Oman\",\"1163\":\"Oman\",\"1164\":\"Pakistan\",\"1165\":\"Pakistan\",\"1166\":\"Pakistan\",\"1167\":\"Pakistan\",\"1168\":\"Pakistan\",\"1169\":\"Pakistan\",\"1170\":\"Pakistan\",\"1171\":\"Pakistan\",\"1172\":\"Pakistan\",\"1173\":\"Pakistan\",\"1174\":\"Pakistan\",\"1175\":\"Pakistan\",\"1176\":\"Panama\",\"1177\":\"Panama\",\"1178\":\"Panama\",\"1179\":\"Panama\",\"1180\":\"Panama\",\"1181\":\"Panama\",\"1182\":\"Panama\",\"1183\":\"Panama\",\"1184\":\"Panama\",\"1185\":\"Panama\",\"1186\":\"Panama\",\"1187\":\"Panama\",\"1188\":\"Paraguay\",\"1189\":\"Paraguay\",\"1190\":\"Paraguay\",\"1191\":\"Paraguay\",\"1192\":\"Paraguay\",\"1193\":\"Paraguay\",\"1194\":\"Paraguay\",\"1195\":\"Paraguay\",\"1196\":\"Paraguay\",\"1197\":\"Paraguay\",\"1198\":\"Paraguay\",\"1199\":\"Paraguay\",\"1200\":\"Peru\",\"1201\":\"Peru\",\"1202\":\"Peru\",\"1203\":\"Peru\",\"1204\":\"Peru\",\"1205\":\"Peru\",\"1206\":\"Peru\",\"1207\":\"Peru\",\"1208\":\"Peru\",\"1209\":\"Peru\",\"1210\":\"Peru\",\"1211\":\"Peru\",\"1212\":\"Philippines\",\"1213\":\"Philippines\",\"1214\":\"Philippines\",\"1215\":\"Philippines\",\"1216\":\"Philippines\",\"1217\":\"Philippines\",\"1218\":\"Philippines\",\"1219\":\"Philippines\",\"1220\":\"Philippines\",\"1221\":\"Philippines\",\"1222\":\"Philippines\",\"1223\":\"Philippines\",\"1224\":\"Poland\",\"1225\":\"Poland\",\"1226\":\"Poland\",\"1227\":\"Poland\",\"1228\":\"Poland\",\"1229\":\"Poland\",\"1230\":\"Poland\",\"1231\":\"Poland\",\"1232\":\"Poland\",\"1233\":\"Poland\",\"1234\":\"Poland\",\"1235\":\"Poland\",\"1236\":\"Portugal\",\"1237\":\"Portugal\",\"1238\":\"Portugal\",\"1239\":\"Portugal\",\"1240\":\"Portugal\",\"1241\":\"Portugal\",\"1242\":\"Portugal\",\"1243\":\"Portugal\",\"1244\":\"Portugal\",\"1245\":\"Portugal\",\"1246\":\"Portugal\",\"1247\":\"Portugal\",\"1248\":\"Puerto Rico\",\"1249\":\"Puerto Rico\",\"1250\":\"Puerto Rico\",\"1251\":\"Puerto Rico\",\"1252\":\"Puerto Rico\",\"1253\":\"Puerto Rico\",\"1254\":\"Puerto Rico\",\"1255\":\"Puerto Rico\",\"1256\":\"Puerto Rico\",\"1257\":\"Puerto Rico\",\"1258\":\"Puerto Rico\",\"1259\":\"Puerto Rico\",\"1260\":\"Reunion\",\"1261\":\"Reunion\",\"1262\":\"Reunion\",\"1263\":\"Reunion\",\"1264\":\"Reunion\",\"1265\":\"Reunion\",\"1266\":\"Reunion\",\"1267\":\"Reunion\",\"1268\":\"Reunion\",\"1269\":\"Reunion\",\"1270\":\"Reunion\",\"1271\":\"Reunion\",\"1272\":\"Romania\",\"1273\":\"Romania\",\"1274\":\"Romania\",\"1275\":\"Romania\",\"1276\":\"Romania\",\"1277\":\"Romania\",\"1278\":\"Romania\",\"1279\":\"Romania\",\"1280\":\"Romania\",\"1281\":\"Romania\",\"1282\":\"Romania\",\"1283\":\"Romania\",\"1284\":\"Rwanda\",\"1285\":\"Rwanda\",\"1286\":\"Rwanda\",\"1287\":\"Rwanda\",\"1288\":\"Rwanda\",\"1289\":\"Rwanda\",\"1290\":\"Rwanda\",\"1291\":\"Rwanda\",\"1292\":\"Rwanda\",\"1293\":\"Rwanda\",\"1294\":\"Rwanda\",\"1295\":\"Rwanda\",\"1296\":\"Sao Tome and Principe\",\"1297\":\"Sao Tome and Principe\",\"1298\":\"Sao Tome and Principe\",\"1299\":\"Sao Tome and Principe\",\"1300\":\"Sao Tome and Principe\",\"1301\":\"Sao Tome and Principe\",\"1302\":\"Sao Tome and Principe\",\"1303\":\"Sao Tome and Principe\",\"1304\":\"Sao Tome and Principe\",\"1305\":\"Sao Tome and Principe\",\"1306\":\"Sao Tome and Principe\",\"1307\":\"Sao Tome and Principe\",\"1308\":\"Saudi Arabia\",\"1309\":\"Saudi Arabia\",\"1310\":\"Saudi Arabia\",\"1311\":\"Saudi Arabia\",\"1312\":\"Saudi Arabia\",\"1313\":\"Saudi Arabia\",\"1314\":\"Saudi Arabia\",\"1315\":\"Saudi Arabia\",\"1316\":\"Saudi Arabia\",\"1317\":\"Saudi Arabia\",\"1318\":\"Saudi Arabia\",\"1319\":\"Saudi Arabia\",\"1320\":\"Senegal\",\"1321\":\"Senegal\",\"1322\":\"Senegal\",\"1323\":\"Senegal\",\"1324\":\"Senegal\",\"1325\":\"Senegal\",\"1326\":\"Senegal\",\"1327\":\"Senegal\",\"1328\":\"Senegal\",\"1329\":\"Senegal\",\"1330\":\"Senegal\",\"1331\":\"Senegal\",\"1332\":\"Serbia\",\"1333\":\"Serbia\",\"1334\":\"Serbia\",\"1335\":\"Serbia\",\"1336\":\"Serbia\",\"1337\":\"Serbia\",\"1338\":\"Serbia\",\"1339\":\"Serbia\",\"1340\":\"Serbia\",\"1341\":\"Serbia\",\"1342\":\"Serbia\",\"1343\":\"Serbia\",\"1344\":\"Sierra Leone\",\"1345\":\"Sierra Leone\",\"1346\":\"Sierra Leone\",\"1347\":\"Sierra Leone\",\"1348\":\"Sierra Leone\",\"1349\":\"Sierra Leone\",\"1350\":\"Sierra Leone\",\"1351\":\"Sierra Leone\",\"1352\":\"Sierra Leone\",\"1353\":\"Sierra Leone\",\"1354\":\"Sierra Leone\",\"1355\":\"Sierra Leone\",\"1356\":\"Singapore\",\"1357\":\"Singapore\",\"1358\":\"Singapore\",\"1359\":\"Singapore\",\"1360\":\"Singapore\",\"1361\":\"Singapore\",\"1362\":\"Singapore\",\"1363\":\"Singapore\",\"1364\":\"Singapore\",\"1365\":\"Singapore\",\"1366\":\"Singapore\",\"1367\":\"Singapore\",\"1368\":\"Slovak Republic\",\"1369\":\"Slovak Republic\",\"1370\":\"Slovak Republic\",\"1371\":\"Slovak Republic\",\"1372\":\"Slovak Republic\",\"1373\":\"Slovak Republic\",\"1374\":\"Slovak Republic\",\"1375\":\"Slovak Republic\",\"1376\":\"Slovak Republic\",\"1377\":\"Slovak Republic\",\"1378\":\"Slovak Republic\",\"1379\":\"Slovak Republic\",\"1380\":\"Slovenia\",\"1381\":\"Slovenia\",\"1382\":\"Slovenia\",\"1383\":\"Slovenia\",\"1384\":\"Slovenia\",\"1385\":\"Slovenia\",\"1386\":\"Slovenia\",\"1387\":\"Slovenia\",\"1388\":\"Slovenia\",\"1389\":\"Slovenia\",\"1390\":\"Slovenia\",\"1391\":\"Slovenia\",\"1392\":\"Somalia\",\"1393\":\"Somalia\",\"1394\":\"Somalia\",\"1395\":\"Somalia\",\"1396\":\"Somalia\",\"1397\":\"Somalia\",\"1398\":\"Somalia\",\"1399\":\"Somalia\",\"1400\":\"Somalia\",\"1401\":\"Somalia\",\"1402\":\"Somalia\",\"1403\":\"Somalia\",\"1404\":\"South Africa\",\"1405\":\"South Africa\",\"1406\":\"South Africa\",\"1407\":\"South Africa\",\"1408\":\"South Africa\",\"1409\":\"South Africa\",\"1410\":\"South Africa\",\"1411\":\"South Africa\",\"1412\":\"South Africa\",\"1413\":\"South Africa\",\"1414\":\"South Africa\",\"1415\":\"South Africa\",\"1416\":\"Spain\",\"1417\":\"Spain\",\"1418\":\"Spain\",\"1419\":\"Spain\",\"1420\":\"Spain\",\"1421\":\"Spain\",\"1422\":\"Spain\",\"1423\":\"Spain\",\"1424\":\"Spain\",\"1425\":\"Spain\",\"1426\":\"Spain\",\"1427\":\"Spain\",\"1428\":\"Sri Lanka\",\"1429\":\"Sri Lanka\",\"1430\":\"Sri Lanka\",\"1431\":\"Sri Lanka\",\"1432\":\"Sri Lanka\",\"1433\":\"Sri Lanka\",\"1434\":\"Sri Lanka\",\"1435\":\"Sri Lanka\",\"1436\":\"Sri Lanka\",\"1437\":\"Sri Lanka\",\"1438\":\"Sri Lanka\",\"1439\":\"Sri Lanka\",\"1440\":\"Sudan\",\"1441\":\"Sudan\",\"1442\":\"Sudan\",\"1443\":\"Sudan\",\"1444\":\"Sudan\",\"1445\":\"Sudan\",\"1446\":\"Sudan\",\"1447\":\"Sudan\",\"1448\":\"Sudan\",\"1449\":\"Sudan\",\"1450\":\"Sudan\",\"1451\":\"Sudan\",\"1452\":\"Swaziland\",\"1453\":\"Swaziland\",\"1454\":\"Swaziland\",\"1455\":\"Swaziland\",\"1456\":\"Swaziland\",\"1457\":\"Swaziland\",\"1458\":\"Swaziland\",\"1459\":\"Swaziland\",\"1460\":\"Swaziland\",\"1461\":\"Swaziland\",\"1462\":\"Swaziland\",\"1463\":\"Swaziland\",\"1464\":\"Sweden\",\"1465\":\"Sweden\",\"1466\":\"Sweden\",\"1467\":\"Sweden\",\"1468\":\"Sweden\",\"1469\":\"Sweden\",\"1470\":\"Sweden\",\"1471\":\"Sweden\",\"1472\":\"Sweden\",\"1473\":\"Sweden\",\"1474\":\"Sweden\",\"1475\":\"Sweden\",\"1476\":\"Switzerland\",\"1477\":\"Switzerland\",\"1478\":\"Switzerland\",\"1479\":\"Switzerland\",\"1480\":\"Switzerland\",\"1481\":\"Switzerland\",\"1482\":\"Switzerland\",\"1483\":\"Switzerland\",\"1484\":\"Switzerland\",\"1485\":\"Switzerland\",\"1486\":\"Switzerland\",\"1487\":\"Switzerland\",\"1488\":\"Syria\",\"1489\":\"Syria\",\"1490\":\"Syria\",\"1491\":\"Syria\",\"1492\":\"Syria\",\"1493\":\"Syria\",\"1494\":\"Syria\",\"1495\":\"Syria\",\"1496\":\"Syria\",\"1497\":\"Syria\",\"1498\":\"Syria\",\"1499\":\"Syria\",\"1500\":\"Taiwan\",\"1501\":\"Taiwan\",\"1502\":\"Taiwan\",\"1503\":\"Taiwan\",\"1504\":\"Taiwan\",\"1505\":\"Taiwan\",\"1506\":\"Taiwan\",\"1507\":\"Taiwan\",\"1508\":\"Taiwan\",\"1509\":\"Taiwan\",\"1510\":\"Taiwan\",\"1511\":\"Taiwan\",\"1512\":\"Tanzania\",\"1513\":\"Tanzania\",\"1514\":\"Tanzania\",\"1515\":\"Tanzania\",\"1516\":\"Tanzania\",\"1517\":\"Tanzania\",\"1518\":\"Tanzania\",\"1519\":\"Tanzania\",\"1520\":\"Tanzania\",\"1521\":\"Tanzania\",\"1522\":\"Tanzania\",\"1523\":\"Tanzania\",\"1524\":\"Thailand\",\"1525\":\"Thailand\",\"1526\":\"Thailand\",\"1527\":\"Thailand\",\"1528\":\"Thailand\",\"1529\":\"Thailand\",\"1530\":\"Thailand\",\"1531\":\"Thailand\",\"1532\":\"Thailand\",\"1533\":\"Thailand\",\"1534\":\"Thailand\",\"1535\":\"Thailand\",\"1536\":\"Togo\",\"1537\":\"Togo\",\"1538\":\"Togo\",\"1539\":\"Togo\",\"1540\":\"Togo\",\"1541\":\"Togo\",\"1542\":\"Togo\",\"1543\":\"Togo\",\"1544\":\"Togo\",\"1545\":\"Togo\",\"1546\":\"Togo\",\"1547\":\"Togo\",\"1548\":\"Trinidad and Tobago\",\"1549\":\"Trinidad and Tobago\",\"1550\":\"Trinidad and Tobago\",\"1551\":\"Trinidad and Tobago\",\"1552\":\"Trinidad and Tobago\",\"1553\":\"Trinidad and Tobago\",\"1554\":\"Trinidad and Tobago\",\"1555\":\"Trinidad and Tobago\",\"1556\":\"Trinidad and Tobago\",\"1557\":\"Trinidad and Tobago\",\"1558\":\"Trinidad and Tobago\",\"1559\":\"Trinidad and Tobago\",\"1560\":\"Tunisia\",\"1561\":\"Tunisia\",\"1562\":\"Tunisia\",\"1563\":\"Tunisia\",\"1564\":\"Tunisia\",\"1565\":\"Tunisia\",\"1566\":\"Tunisia\",\"1567\":\"Tunisia\",\"1568\":\"Tunisia\",\"1569\":\"Tunisia\",\"1570\":\"Tunisia\",\"1571\":\"Tunisia\",\"1572\":\"Turkey\",\"1573\":\"Turkey\",\"1574\":\"Turkey\",\"1575\":\"Turkey\",\"1576\":\"Turkey\",\"1577\":\"Turkey\",\"1578\":\"Turkey\",\"1579\":\"Turkey\",\"1580\":\"Turkey\",\"1581\":\"Turkey\",\"1582\":\"Turkey\",\"1583\":\"Turkey\",\"1584\":\"Uganda\",\"1585\":\"Uganda\",\"1586\":\"Uganda\",\"1587\":\"Uganda\",\"1588\":\"Uganda\",\"1589\":\"Uganda\",\"1590\":\"Uganda\",\"1591\":\"Uganda\",\"1592\":\"Uganda\",\"1593\":\"Uganda\",\"1594\":\"Uganda\",\"1595\":\"Uganda\",\"1596\":\"United Kingdom\",\"1597\":\"United Kingdom\",\"1598\":\"United Kingdom\",\"1599\":\"United Kingdom\",\"1600\":\"United Kingdom\",\"1601\":\"United Kingdom\",\"1602\":\"United Kingdom\",\"1603\":\"United Kingdom\",\"1604\":\"United Kingdom\",\"1605\":\"United Kingdom\",\"1606\":\"United Kingdom\",\"1607\":\"United Kingdom\",\"1608\":\"United States\",\"1609\":\"United States\",\"1610\":\"United States\",\"1611\":\"United States\",\"1612\":\"United States\",\"1613\":\"United States\",\"1614\":\"United States\",\"1615\":\"United States\",\"1616\":\"United States\",\"1617\":\"United States\",\"1618\":\"United States\",\"1619\":\"United States\",\"1620\":\"Uruguay\",\"1621\":\"Uruguay\",\"1622\":\"Uruguay\",\"1623\":\"Uruguay\",\"1624\":\"Uruguay\",\"1625\":\"Uruguay\",\"1626\":\"Uruguay\",\"1627\":\"Uruguay\",\"1628\":\"Uruguay\",\"1629\":\"Uruguay\",\"1630\":\"Uruguay\",\"1631\":\"Uruguay\",\"1632\":\"Venezuela\",\"1633\":\"Venezuela\",\"1634\":\"Venezuela\",\"1635\":\"Venezuela\",\"1636\":\"Venezuela\",\"1637\":\"Venezuela\",\"1638\":\"Venezuela\",\"1639\":\"Venezuela\",\"1640\":\"Venezuela\",\"1641\":\"Venezuela\",\"1642\":\"Venezuela\",\"1643\":\"Venezuela\",\"1644\":\"Vietnam\",\"1645\":\"Vietnam\",\"1646\":\"Vietnam\",\"1647\":\"Vietnam\",\"1648\":\"Vietnam\",\"1649\":\"Vietnam\",\"1650\":\"Vietnam\",\"1651\":\"Vietnam\",\"1652\":\"Vietnam\",\"1653\":\"Vietnam\",\"1654\":\"Vietnam\",\"1655\":\"Vietnam\",\"1656\":\"West Bank and Gaza\",\"1657\":\"West Bank and Gaza\",\"1658\":\"West Bank and Gaza\",\"1659\":\"West Bank and Gaza\",\"1660\":\"West Bank and Gaza\",\"1661\":\"West Bank and Gaza\",\"1662\":\"West Bank and Gaza\",\"1663\":\"West Bank and Gaza\",\"1664\":\"West Bank and Gaza\",\"1665\":\"West Bank and Gaza\",\"1666\":\"West Bank and Gaza\",\"1667\":\"West Bank and Gaza\",\"1668\":\"Yemen, Rep.\",\"1669\":\"Yemen, Rep.\",\"1670\":\"Yemen, Rep.\",\"1671\":\"Yemen, Rep.\",\"1672\":\"Yemen, Rep.\",\"1673\":\"Yemen, Rep.\",\"1674\":\"Yemen, Rep.\",\"1675\":\"Yemen, Rep.\",\"1676\":\"Yemen, Rep.\",\"1677\":\"Yemen, Rep.\",\"1678\":\"Yemen, Rep.\",\"1679\":\"Yemen, Rep.\",\"1680\":\"Zambia\",\"1681\":\"Zambia\",\"1682\":\"Zambia\",\"1683\":\"Zambia\",\"1684\":\"Zambia\",\"1685\":\"Zambia\",\"1686\":\"Zambia\",\"1687\":\"Zambia\",\"1688\":\"Zambia\",\"1689\":\"Zambia\",\"1690\":\"Zambia\",\"1691\":\"Zambia\",\"1692\":\"Zimbabwe\",\"1693\":\"Zimbabwe\",\"1694\":\"Zimbabwe\",\"1695\":\"Zimbabwe\",\"1696\":\"Zimbabwe\",\"1697\":\"Zimbabwe\",\"1698\":\"Zimbabwe\",\"1699\":\"Zimbabwe\",\"1700\":\"Zimbabwe\",\"1701\":\"Zimbabwe\",\"1702\":\"Zimbabwe\",\"1703\":\"Zimbabwe\"},\"continent\":{\"0\":\"Asia\",\"1\":\"Asia\",\"2\":\"Asia\",\"3\":\"Asia\",\"4\":\"Asia\",\"5\":\"Asia\",\"6\":\"Asia\",\"7\":\"Asia\",\"8\":\"Asia\",\"9\":\"Asia\",\"10\":\"Asia\",\"11\":\"Asia\",\"12\":\"Europe\",\"13\":\"Europe\",\"14\":\"Europe\",\"15\":\"Europe\",\"16\":\"Europe\",\"17\":\"Europe\",\"18\":\"Europe\",\"19\":\"Europe\",\"20\":\"Europe\",\"21\":\"Europe\",\"22\":\"Europe\",\"23\":\"Europe\",\"24\":\"Africa\",\"25\":\"Africa\",\"26\":\"Africa\",\"27\":\"Africa\",\"28\":\"Africa\",\"29\":\"Africa\",\"30\":\"Africa\",\"31\":\"Africa\",\"32\":\"Africa\",\"33\":\"Africa\",\"34\":\"Africa\",\"35\":\"Africa\",\"36\":\"Africa\",\"37\":\"Africa\",\"38\":\"Africa\",\"39\":\"Africa\",\"40\":\"Africa\",\"41\":\"Africa\",\"42\":\"Africa\",\"43\":\"Africa\",\"44\":\"Africa\",\"45\":\"Africa\",\"46\":\"Africa\",\"47\":\"Africa\",\"48\":\"Americas\",\"49\":\"Americas\",\"50\":\"Americas\",\"51\":\"Americas\",\"52\":\"Americas\",\"53\":\"Americas\",\"54\":\"Americas\",\"55\":\"Americas\",\"56\":\"Americas\",\"57\":\"Americas\",\"58\":\"Americas\",\"59\":\"Americas\",\"60\":\"Oceania\",\"61\":\"Oceania\",\"62\":\"Oceania\",\"63\":\"Oceania\",\"64\":\"Oceania\",\"65\":\"Oceania\",\"66\":\"Oceania\",\"67\":\"Oceania\",\"68\":\"Oceania\",\"69\":\"Oceania\",\"70\":\"Oceania\",\"71\":\"Oceania\",\"72\":\"Europe\",\"73\":\"Europe\",\"74\":\"Europe\",\"75\":\"Europe\",\"76\":\"Europe\",\"77\":\"Europe\",\"78\":\"Europe\",\"79\":\"Europe\",\"80\":\"Europe\",\"81\":\"Europe\",\"82\":\"Europe\",\"83\":\"Europe\",\"84\":\"Asia\",\"85\":\"Asia\",\"86\":\"Asia\",\"87\":\"Asia\",\"88\":\"Asia\",\"89\":\"Asia\",\"90\":\"Asia\",\"91\":\"Asia\",\"92\":\"Asia\",\"93\":\"Asia\",\"94\":\"Asia\",\"95\":\"Asia\",\"96\":\"Asia\",\"97\":\"Asia\",\"98\":\"Asia\",\"99\":\"Asia\",\"100\":\"Asia\",\"101\":\"Asia\",\"102\":\"Asia\",\"103\":\"Asia\",\"104\":\"Asia\",\"105\":\"Asia\",\"106\":\"Asia\",\"107\":\"Asia\",\"108\":\"Europe\",\"109\":\"Europe\",\"110\":\"Europe\",\"111\":\"Europe\",\"112\":\"Europe\",\"113\":\"Europe\",\"114\":\"Europe\",\"115\":\"Europe\",\"116\":\"Europe\",\"117\":\"Europe\",\"118\":\"Europe\",\"119\":\"Europe\",\"120\":\"Africa\",\"121\":\"Africa\",\"122\":\"Africa\",\"123\":\"Africa\",\"124\":\"Africa\",\"125\":\"Africa\",\"126\":\"Africa\",\"127\":\"Africa\",\"128\":\"Africa\",\"129\":\"Africa\",\"130\":\"Africa\",\"131\":\"Africa\",\"132\":\"Americas\",\"133\":\"Americas\",\"134\":\"Americas\",\"135\":\"Americas\",\"136\":\"Americas\",\"137\":\"Americas\",\"138\":\"Americas\",\"139\":\"Americas\",\"140\":\"Americas\",\"141\":\"Americas\",\"142\":\"Americas\",\"143\":\"Americas\",\"144\":\"Europe\",\"145\":\"Europe\",\"146\":\"Europe\",\"147\":\"Europe\",\"148\":\"Europe\",\"149\":\"Europe\",\"150\":\"Europe\",\"151\":\"Europe\",\"152\":\"Europe\",\"153\":\"Europe\",\"154\":\"Europe\",\"155\":\"Europe\",\"156\":\"Africa\",\"157\":\"Africa\",\"158\":\"Africa\",\"159\":\"Africa\",\"160\":\"Africa\",\"161\":\"Africa\",\"162\":\"Africa\",\"163\":\"Africa\",\"164\":\"Africa\",\"165\":\"Africa\",\"166\":\"Africa\",\"167\":\"Africa\",\"168\":\"Americas\",\"169\":\"Americas\",\"170\":\"Americas\",\"171\":\"Americas\",\"172\":\"Americas\",\"173\":\"Americas\",\"174\":\"Americas\",\"175\":\"Americas\",\"176\":\"Americas\",\"177\":\"Americas\",\"178\":\"Americas\",\"179\":\"Americas\",\"180\":\"Europe\",\"181\":\"Europe\",\"182\":\"Europe\",\"183\":\"Europe\",\"184\":\"Europe\",\"185\":\"Europe\",\"186\":\"Europe\",\"187\":\"Europe\",\"188\":\"Europe\",\"189\":\"Europe\",\"190\":\"Europe\",\"191\":\"Europe\",\"192\":\"Africa\",\"193\":\"Africa\",\"194\":\"Africa\",\"195\":\"Africa\",\"196\":\"Africa\",\"197\":\"Africa\",\"198\":\"Africa\",\"199\":\"Africa\",\"200\":\"Africa\",\"201\":\"Africa\",\"202\":\"Africa\",\"203\":\"Africa\",\"204\":\"Africa\",\"205\":\"Africa\",\"206\":\"Africa\",\"207\":\"Africa\",\"208\":\"Africa\",\"209\":\"Africa\",\"210\":\"Africa\",\"211\":\"Africa\",\"212\":\"Africa\",\"213\":\"Africa\",\"214\":\"Africa\",\"215\":\"Africa\",\"216\":\"Asia\",\"217\":\"Asia\",\"218\":\"Asia\",\"219\":\"Asia\",\"220\":\"Asia\",\"221\":\"Asia\",\"222\":\"Asia\",\"223\":\"Asia\",\"224\":\"Asia\",\"225\":\"Asia\",\"226\":\"Asia\",\"227\":\"Asia\",\"228\":\"Africa\",\"229\":\"Africa\",\"230\":\"Africa\",\"231\":\"Africa\",\"232\":\"Africa\",\"233\":\"Africa\",\"234\":\"Africa\",\"235\":\"Africa\",\"236\":\"Africa\",\"237\":\"Africa\",\"238\":\"Africa\",\"239\":\"Africa\",\"240\":\"Americas\",\"241\":\"Americas\",\"242\":\"Americas\",\"243\":\"Americas\",\"244\":\"Americas\",\"245\":\"Americas\",\"246\":\"Americas\",\"247\":\"Americas\",\"248\":\"Americas\",\"249\":\"Americas\",\"250\":\"Americas\",\"251\":\"Americas\",\"252\":\"Africa\",\"253\":\"Africa\",\"254\":\"Africa\",\"255\":\"Africa\",\"256\":\"Africa\",\"257\":\"Africa\",\"258\":\"Africa\",\"259\":\"Africa\",\"260\":\"Africa\",\"261\":\"Africa\",\"262\":\"Africa\",\"263\":\"Africa\",\"264\":\"Africa\",\"265\":\"Africa\",\"266\":\"Africa\",\"267\":\"Africa\",\"268\":\"Africa\",\"269\":\"Africa\",\"270\":\"Africa\",\"271\":\"Africa\",\"272\":\"Africa\",\"273\":\"Africa\",\"274\":\"Africa\",\"275\":\"Africa\",\"276\":\"Americas\",\"277\":\"Americas\",\"278\":\"Americas\",\"279\":\"Americas\",\"280\":\"Americas\",\"281\":\"Americas\",\"282\":\"Americas\",\"283\":\"Americas\",\"284\":\"Americas\",\"285\":\"Americas\",\"286\":\"Americas\",\"287\":\"Americas\",\"288\":\"Asia\",\"289\":\"Asia\",\"290\":\"Asia\",\"291\":\"Asia\",\"292\":\"Asia\",\"293\":\"Asia\",\"294\":\"Asia\",\"295\":\"Asia\",\"296\":\"Asia\",\"297\":\"Asia\",\"298\":\"Asia\",\"299\":\"Asia\",\"300\":\"Americas\",\"301\":\"Americas\",\"302\":\"Americas\",\"303\":\"Americas\",\"304\":\"Americas\",\"305\":\"Americas\",\"306\":\"Americas\",\"307\":\"Americas\",\"308\":\"Americas\",\"309\":\"Americas\",\"310\":\"Americas\",\"311\":\"Americas\",\"312\":\"Africa\",\"313\":\"Africa\",\"314\":\"Africa\",\"315\":\"Africa\",\"316\":\"Africa\",\"317\":\"Africa\",\"318\":\"Africa\",\"319\":\"Africa\",\"320\":\"Africa\",\"321\":\"Africa\",\"322\":\"Africa\",\"323\":\"Africa\",\"324\":\"Africa\",\"325\":\"Africa\",\"326\":\"Africa\",\"327\":\"Africa\",\"328\":\"Africa\",\"329\":\"Africa\",\"330\":\"Africa\",\"331\":\"Africa\",\"332\":\"Africa\",\"333\":\"Africa\",\"334\":\"Africa\",\"335\":\"Africa\",\"336\":\"Africa\",\"337\":\"Africa\",\"338\":\"Africa\",\"339\":\"Africa\",\"340\":\"Africa\",\"341\":\"Africa\",\"342\":\"Africa\",\"343\":\"Africa\",\"344\":\"Africa\",\"345\":\"Africa\",\"346\":\"Africa\",\"347\":\"Africa\",\"348\":\"Americas\",\"349\":\"Americas\",\"350\":\"Americas\",\"351\":\"Americas\",\"352\":\"Americas\",\"353\":\"Americas\",\"354\":\"Americas\",\"355\":\"Americas\",\"356\":\"Americas\",\"357\":\"Americas\",\"358\":\"Americas\",\"359\":\"Americas\",\"360\":\"Africa\",\"361\":\"Africa\",\"362\":\"Africa\",\"363\":\"Africa\",\"364\":\"Africa\",\"365\":\"Africa\",\"366\":\"Africa\",\"367\":\"Africa\",\"368\":\"Africa\",\"369\":\"Africa\",\"370\":\"Africa\",\"371\":\"Africa\",\"372\":\"Europe\",\"373\":\"Europe\",\"374\":\"Europe\",\"375\":\"Europe\",\"376\":\"Europe\",\"377\":\"Europe\",\"378\":\"Europe\",\"379\":\"Europe\",\"380\":\"Europe\",\"381\":\"Europe\",\"382\":\"Europe\",\"383\":\"Europe\",\"384\":\"Americas\",\"385\":\"Americas\",\"386\":\"Americas\",\"387\":\"Americas\",\"388\":\"Americas\",\"389\":\"Americas\",\"390\":\"Americas\",\"391\":\"Americas\",\"392\":\"Americas\",\"393\":\"Americas\",\"394\":\"Americas\",\"395\":\"Americas\",\"396\":\"Europe\",\"397\":\"Europe\",\"398\":\"Europe\",\"399\":\"Europe\",\"400\":\"Europe\",\"401\":\"Europe\",\"402\":\"Europe\",\"403\":\"Europe\",\"404\":\"Europe\",\"405\":\"Europe\",\"406\":\"Europe\",\"407\":\"Europe\",\"408\":\"Europe\",\"409\":\"Europe\",\"410\":\"Europe\",\"411\":\"Europe\",\"412\":\"Europe\",\"413\":\"Europe\",\"414\":\"Europe\",\"415\":\"Europe\",\"416\":\"Europe\",\"417\":\"Europe\",\"418\":\"Europe\",\"419\":\"Europe\",\"420\":\"Africa\",\"421\":\"Africa\",\"422\":\"Africa\",\"423\":\"Africa\",\"424\":\"Africa\",\"425\":\"Africa\",\"426\":\"Africa\",\"427\":\"Africa\",\"428\":\"Africa\",\"429\":\"Africa\",\"430\":\"Africa\",\"431\":\"Africa\",\"432\":\"Americas\",\"433\":\"Americas\",\"434\":\"Americas\",\"435\":\"Americas\",\"436\":\"Americas\",\"437\":\"Americas\",\"438\":\"Americas\",\"439\":\"Americas\",\"440\":\"Americas\",\"441\":\"Americas\",\"442\":\"Americas\",\"443\":\"Americas\",\"444\":\"Americas\",\"445\":\"Americas\",\"446\":\"Americas\",\"447\":\"Americas\",\"448\":\"Americas\",\"449\":\"Americas\",\"450\":\"Americas\",\"451\":\"Americas\",\"452\":\"Americas\",\"453\":\"Americas\",\"454\":\"Americas\",\"455\":\"Americas\",\"456\":\"Africa\",\"457\":\"Africa\",\"458\":\"Africa\",\"459\":\"Africa\",\"460\":\"Africa\",\"461\":\"Africa\",\"462\":\"Africa\",\"463\":\"Africa\",\"464\":\"Africa\",\"465\":\"Africa\",\"466\":\"Africa\",\"467\":\"Africa\",\"468\":\"Americas\",\"469\":\"Americas\",\"470\":\"Americas\",\"471\":\"Americas\",\"472\":\"Americas\",\"473\":\"Americas\",\"474\":\"Americas\",\"475\":\"Americas\",\"476\":\"Americas\",\"477\":\"Americas\",\"478\":\"Americas\",\"479\":\"Americas\",\"480\":\"Africa\",\"481\":\"Africa\",\"482\":\"Africa\",\"483\":\"Africa\",\"484\":\"Africa\",\"485\":\"Africa\",\"486\":\"Africa\",\"487\":\"Africa\",\"488\":\"Africa\",\"489\":\"Africa\",\"490\":\"Africa\",\"491\":\"Africa\",\"492\":\"Africa\",\"493\":\"Africa\",\"494\":\"Africa\",\"495\":\"Africa\",\"496\":\"Africa\",\"497\":\"Africa\",\"498\":\"Africa\",\"499\":\"Africa\",\"500\":\"Africa\",\"501\":\"Africa\",\"502\":\"Africa\",\"503\":\"Africa\",\"504\":\"Africa\",\"505\":\"Africa\",\"506\":\"Africa\",\"507\":\"Africa\",\"508\":\"Africa\",\"509\":\"Africa\",\"510\":\"Africa\",\"511\":\"Africa\",\"512\":\"Africa\",\"513\":\"Africa\",\"514\":\"Africa\",\"515\":\"Africa\",\"516\":\"Europe\",\"517\":\"Europe\",\"518\":\"Europe\",\"519\":\"Europe\",\"520\":\"Europe\",\"521\":\"Europe\",\"522\":\"Europe\",\"523\":\"Europe\",\"524\":\"Europe\",\"525\":\"Europe\",\"526\":\"Europe\",\"527\":\"Europe\",\"528\":\"Europe\",\"529\":\"Europe\",\"530\":\"Europe\",\"531\":\"Europe\",\"532\":\"Europe\",\"533\":\"Europe\",\"534\":\"Europe\",\"535\":\"Europe\",\"536\":\"Europe\",\"537\":\"Europe\",\"538\":\"Europe\",\"539\":\"Europe\",\"540\":\"Africa\",\"541\":\"Africa\",\"542\":\"Africa\",\"543\":\"Africa\",\"544\":\"Africa\",\"545\":\"Africa\",\"546\":\"Africa\",\"547\":\"Africa\",\"548\":\"Africa\",\"549\":\"Africa\",\"550\":\"Africa\",\"551\":\"Africa\",\"552\":\"Africa\",\"553\":\"Africa\",\"554\":\"Africa\",\"555\":\"Africa\",\"556\":\"Africa\",\"557\":\"Africa\",\"558\":\"Africa\",\"559\":\"Africa\",\"560\":\"Africa\",\"561\":\"Africa\",\"562\":\"Africa\",\"563\":\"Africa\",\"564\":\"Europe\",\"565\":\"Europe\",\"566\":\"Europe\",\"567\":\"Europe\",\"568\":\"Europe\",\"569\":\"Europe\",\"570\":\"Europe\",\"571\":\"Europe\",\"572\":\"Europe\",\"573\":\"Europe\",\"574\":\"Europe\",\"575\":\"Europe\",\"576\":\"Africa\",\"577\":\"Africa\",\"578\":\"Africa\",\"579\":\"Africa\",\"580\":\"Africa\",\"581\":\"Africa\",\"582\":\"Africa\",\"583\":\"Africa\",\"584\":\"Africa\",\"585\":\"Africa\",\"586\":\"Africa\",\"587\":\"Africa\",\"588\":\"Europe\",\"589\":\"Europe\",\"590\":\"Europe\",\"591\":\"Europe\",\"592\":\"Europe\",\"593\":\"Europe\",\"594\":\"Europe\",\"595\":\"Europe\",\"596\":\"Europe\",\"597\":\"Europe\",\"598\":\"Europe\",\"599\":\"Europe\",\"600\":\"Americas\",\"601\":\"Americas\",\"602\":\"Americas\",\"603\":\"Americas\",\"604\":\"Americas\",\"605\":\"Americas\",\"606\":\"Americas\",\"607\":\"Americas\",\"608\":\"Americas\",\"609\":\"Americas\",\"610\":\"Americas\",\"611\":\"Americas\",\"612\":\"Africa\",\"613\":\"Africa\",\"614\":\"Africa\",\"615\":\"Africa\",\"616\":\"Africa\",\"617\":\"Africa\",\"618\":\"Africa\",\"619\":\"Africa\",\"620\":\"Africa\",\"621\":\"Africa\",\"622\":\"Africa\",\"623\":\"Africa\",\"624\":\"Africa\",\"625\":\"Africa\",\"626\":\"Africa\",\"627\":\"Africa\",\"628\":\"Africa\",\"629\":\"Africa\",\"630\":\"Africa\",\"631\":\"Africa\",\"632\":\"Africa\",\"633\":\"Africa\",\"634\":\"Africa\",\"635\":\"Africa\",\"636\":\"Americas\",\"637\":\"Americas\",\"638\":\"Americas\",\"639\":\"Americas\",\"640\":\"Americas\",\"641\":\"Americas\",\"642\":\"Americas\",\"643\":\"Americas\",\"644\":\"Americas\",\"645\":\"Americas\",\"646\":\"Americas\",\"647\":\"Americas\",\"648\":\"Americas\",\"649\":\"Americas\",\"650\":\"Americas\",\"651\":\"Americas\",\"652\":\"Americas\",\"653\":\"Americas\",\"654\":\"Americas\",\"655\":\"Americas\",\"656\":\"Americas\",\"657\":\"Americas\",\"658\":\"Americas\",\"659\":\"Americas\",\"660\":\"Asia\",\"661\":\"Asia\",\"662\":\"Asia\",\"663\":\"Asia\",\"664\":\"Asia\",\"665\":\"Asia\",\"666\":\"Asia\",\"667\":\"Asia\",\"668\":\"Asia\",\"669\":\"Asia\",\"670\":\"Asia\",\"671\":\"Asia\",\"672\":\"Europe\",\"673\":\"Europe\",\"674\":\"Europe\",\"675\":\"Europe\",\"676\":\"Europe\",\"677\":\"Europe\",\"678\":\"Europe\",\"679\":\"Europe\",\"680\":\"Europe\",\"681\":\"Europe\",\"682\":\"Europe\",\"683\":\"Europe\",\"684\":\"Europe\",\"685\":\"Europe\",\"686\":\"Europe\",\"687\":\"Europe\",\"688\":\"Europe\",\"689\":\"Europe\",\"690\":\"Europe\",\"691\":\"Europe\",\"692\":\"Europe\",\"693\":\"Europe\",\"694\":\"Europe\",\"695\":\"Europe\",\"696\":\"Asia\",\"697\":\"Asia\",\"698\":\"Asia\",\"699\":\"Asia\",\"700\":\"Asia\",\"701\":\"Asia\",\"702\":\"Asia\",\"703\":\"Asia\",\"704\":\"Asia\",\"705\":\"Asia\",\"706\":\"Asia\",\"707\":\"Asia\",\"708\":\"Asia\",\"709\":\"Asia\",\"710\":\"Asia\",\"711\":\"Asia\",\"712\":\"Asia\",\"713\":\"Asia\",\"714\":\"Asia\",\"715\":\"Asia\",\"716\":\"Asia\",\"717\":\"Asia\",\"718\":\"Asia\",\"719\":\"Asia\",\"720\":\"Asia\",\"721\":\"Asia\",\"722\":\"Asia\",\"723\":\"Asia\",\"724\":\"Asia\",\"725\":\"Asia\",\"726\":\"Asia\",\"727\":\"Asia\",\"728\":\"Asia\",\"729\":\"Asia\",\"730\":\"Asia\",\"731\":\"Asia\",\"732\":\"Asia\",\"733\":\"Asia\",\"734\":\"Asia\",\"735\":\"Asia\",\"736\":\"Asia\",\"737\":\"Asia\",\"738\":\"Asia\",\"739\":\"Asia\",\"740\":\"Asia\",\"741\":\"Asia\",\"742\":\"Asia\",\"743\":\"Asia\",\"744\":\"Europe\",\"745\":\"Europe\",\"746\":\"Europe\",\"747\":\"Europe\",\"748\":\"Europe\",\"749\":\"Europe\",\"750\":\"Europe\",\"751\":\"Europe\",\"752\":\"Europe\",\"753\":\"Europe\",\"754\":\"Europe\",\"755\":\"Europe\",\"756\":\"Asia\",\"757\":\"Asia\",\"758\":\"Asia\",\"759\":\"Asia\",\"760\":\"Asia\",\"761\":\"Asia\",\"762\":\"Asia\",\"763\":\"Asia\",\"764\":\"Asia\",\"765\":\"Asia\",\"766\":\"Asia\",\"767\":\"Asia\",\"768\":\"Europe\",\"769\":\"Europe\",\"770\":\"Europe\",\"771\":\"Europe\",\"772\":\"Europe\",\"773\":\"Europe\",\"774\":\"Europe\",\"775\":\"Europe\",\"776\":\"Europe\",\"777\":\"Europe\",\"778\":\"Europe\",\"779\":\"Europe\",\"780\":\"Americas\",\"781\":\"Americas\",\"782\":\"Americas\",\"783\":\"Americas\",\"784\":\"Americas\",\"785\":\"Americas\",\"786\":\"Americas\",\"787\":\"Americas\",\"788\":\"Americas\",\"789\":\"Americas\",\"790\":\"Americas\",\"791\":\"Americas\",\"792\":\"Asia\",\"793\":\"Asia\",\"794\":\"Asia\",\"795\":\"Asia\",\"796\":\"Asia\",\"797\":\"Asia\",\"798\":\"Asia\",\"799\":\"Asia\",\"800\":\"Asia\",\"801\":\"Asia\",\"802\":\"Asia\",\"803\":\"Asia\",\"804\":\"Asia\",\"805\":\"Asia\",\"806\":\"Asia\",\"807\":\"Asia\",\"808\":\"Asia\",\"809\":\"Asia\",\"810\":\"Asia\",\"811\":\"Asia\",\"812\":\"Asia\",\"813\":\"Asia\",\"814\":\"Asia\",\"815\":\"Asia\",\"816\":\"Africa\",\"817\":\"Africa\",\"818\":\"Africa\",\"819\":\"Africa\",\"820\":\"Africa\",\"821\":\"Africa\",\"822\":\"Africa\",\"823\":\"Africa\",\"824\":\"Africa\",\"825\":\"Africa\",\"826\":\"Africa\",\"827\":\"Africa\",\"828\":\"Asia\",\"829\":\"Asia\",\"830\":\"Asia\",\"831\":\"Asia\",\"832\":\"Asia\",\"833\":\"Asia\",\"834\":\"Asia\",\"835\":\"Asia\",\"836\":\"Asia\",\"837\":\"Asia\",\"838\":\"Asia\",\"839\":\"Asia\",\"840\":\"Asia\",\"841\":\"Asia\",\"842\":\"Asia\",\"843\":\"Asia\",\"844\":\"Asia\",\"845\":\"Asia\",\"846\":\"Asia\",\"847\":\"Asia\",\"848\":\"Asia\",\"849\":\"Asia\",\"850\":\"Asia\",\"851\":\"Asia\",\"852\":\"Asia\",\"853\":\"Asia\",\"854\":\"Asia\",\"855\":\"Asia\",\"856\":\"Asia\",\"857\":\"Asia\",\"858\":\"Asia\",\"859\":\"Asia\",\"860\":\"Asia\",\"861\":\"Asia\",\"862\":\"Asia\",\"863\":\"Asia\",\"864\":\"Asia\",\"865\":\"Asia\",\"866\":\"Asia\",\"867\":\"Asia\",\"868\":\"Asia\",\"869\":\"Asia\",\"870\":\"Asia\",\"871\":\"Asia\",\"872\":\"Asia\",\"873\":\"Asia\",\"874\":\"Asia\",\"875\":\"Asia\",\"876\":\"Africa\",\"877\":\"Africa\",\"878\":\"Africa\",\"879\":\"Africa\",\"880\":\"Africa\",\"881\":\"Africa\",\"882\":\"Africa\",\"883\":\"Africa\",\"884\":\"Africa\",\"885\":\"Africa\",\"886\":\"Africa\",\"887\":\"Africa\",\"888\":\"Africa\",\"889\":\"Africa\",\"890\":\"Africa\",\"891\":\"Africa\",\"892\":\"Africa\",\"893\":\"Africa\",\"894\":\"Africa\",\"895\":\"Africa\",\"896\":\"Africa\",\"897\":\"Africa\",\"898\":\"Africa\",\"899\":\"Africa\",\"900\":\"Africa\",\"901\":\"Africa\",\"902\":\"Africa\",\"903\":\"Africa\",\"904\":\"Africa\",\"905\":\"Africa\",\"906\":\"Africa\",\"907\":\"Africa\",\"908\":\"Africa\",\"909\":\"Africa\",\"910\":\"Africa\",\"911\":\"Africa\",\"912\":\"Africa\",\"913\":\"Africa\",\"914\":\"Africa\",\"915\":\"Africa\",\"916\":\"Africa\",\"917\":\"Africa\",\"918\":\"Africa\",\"919\":\"Africa\",\"920\":\"Africa\",\"921\":\"Africa\",\"922\":\"Africa\",\"923\":\"Africa\",\"924\":\"Africa\",\"925\":\"Africa\",\"926\":\"Africa\",\"927\":\"Africa\",\"928\":\"Africa\",\"929\":\"Africa\",\"930\":\"Africa\",\"931\":\"Africa\",\"932\":\"Africa\",\"933\":\"Africa\",\"934\":\"Africa\",\"935\":\"Africa\",\"936\":\"Asia\",\"937\":\"Asia\",\"938\":\"Asia\",\"939\":\"Asia\",\"940\":\"Asia\",\"941\":\"Asia\",\"942\":\"Asia\",\"943\":\"Asia\",\"944\":\"Asia\",\"945\":\"Asia\",\"946\":\"Asia\",\"947\":\"Asia\",\"948\":\"Africa\",\"949\":\"Africa\",\"950\":\"Africa\",\"951\":\"Africa\",\"952\":\"Africa\",\"953\":\"Africa\",\"954\":\"Africa\",\"955\":\"Africa\",\"956\":\"Africa\",\"957\":\"Africa\",\"958\":\"Africa\",\"959\":\"Africa\",\"960\":\"Africa\",\"961\":\"Africa\",\"962\":\"Africa\",\"963\":\"Africa\",\"964\":\"Africa\",\"965\":\"Africa\",\"966\":\"Africa\",\"967\":\"Africa\",\"968\":\"Africa\",\"969\":\"Africa\",\"970\":\"Africa\",\"971\":\"Africa\",\"972\":\"Africa\",\"973\":\"Africa\",\"974\":\"Africa\",\"975\":\"Africa\",\"976\":\"Africa\",\"977\":\"Africa\",\"978\":\"Africa\",\"979\":\"Africa\",\"980\":\"Africa\",\"981\":\"Africa\",\"982\":\"Africa\",\"983\":\"Africa\",\"984\":\"Americas\",\"985\":\"Americas\",\"986\":\"Americas\",\"987\":\"Americas\",\"988\":\"Americas\",\"989\":\"Americas\",\"990\":\"Americas\",\"991\":\"Americas\",\"992\":\"Americas\",\"993\":\"Americas\",\"994\":\"Americas\",\"995\":\"Americas\",\"996\":\"Asia\",\"997\":\"Asia\",\"998\":\"Asia\",\"999\":\"Asia\",\"1000\":\"Asia\",\"1001\":\"Asia\",\"1002\":\"Asia\",\"1003\":\"Asia\",\"1004\":\"Asia\",\"1005\":\"Asia\",\"1006\":\"Asia\",\"1007\":\"Asia\",\"1008\":\"Europe\",\"1009\":\"Europe\",\"1010\":\"Europe\",\"1011\":\"Europe\",\"1012\":\"Europe\",\"1013\":\"Europe\",\"1014\":\"Europe\",\"1015\":\"Europe\",\"1016\":\"Europe\",\"1017\":\"Europe\",\"1018\":\"Europe\",\"1019\":\"Europe\",\"1020\":\"Africa\",\"1021\":\"Africa\",\"1022\":\"Africa\",\"1023\":\"Africa\",\"1024\":\"Africa\",\"1025\":\"Africa\",\"1026\":\"Africa\",\"1027\":\"Africa\",\"1028\":\"Africa\",\"1029\":\"Africa\",\"1030\":\"Africa\",\"1031\":\"Africa\",\"1032\":\"Africa\",\"1033\":\"Africa\",\"1034\":\"Africa\",\"1035\":\"Africa\",\"1036\":\"Africa\",\"1037\":\"Africa\",\"1038\":\"Africa\",\"1039\":\"Africa\",\"1040\":\"Africa\",\"1041\":\"Africa\",\"1042\":\"Africa\",\"1043\":\"Africa\",\"1044\":\"Asia\",\"1045\":\"Asia\",\"1046\":\"Asia\",\"1047\":\"Asia\",\"1048\":\"Asia\",\"1049\":\"Asia\",\"1050\":\"Asia\",\"1051\":\"Asia\",\"1052\":\"Asia\",\"1053\":\"Asia\",\"1054\":\"Asia\",\"1055\":\"Asia\",\"1056\":\"Africa\",\"1057\":\"Africa\",\"1058\":\"Africa\",\"1059\":\"Africa\",\"1060\":\"Africa\",\"1061\":\"Africa\",\"1062\":\"Africa\",\"1063\":\"Africa\",\"1064\":\"Africa\",\"1065\":\"Africa\",\"1066\":\"Africa\",\"1067\":\"Africa\",\"1068\":\"Asia\",\"1069\":\"Asia\",\"1070\":\"Asia\",\"1071\":\"Asia\",\"1072\":\"Asia\",\"1073\":\"Asia\",\"1074\":\"Asia\",\"1075\":\"Asia\",\"1076\":\"Asia\",\"1077\":\"Asia\",\"1078\":\"Asia\",\"1079\":\"Asia\",\"1080\":\"Europe\",\"1081\":\"Europe\",\"1082\":\"Europe\",\"1083\":\"Europe\",\"1084\":\"Europe\",\"1085\":\"Europe\",\"1086\":\"Europe\",\"1087\":\"Europe\",\"1088\":\"Europe\",\"1089\":\"Europe\",\"1090\":\"Europe\",\"1091\":\"Europe\",\"1092\":\"Oceania\",\"1093\":\"Oceania\",\"1094\":\"Oceania\",\"1095\":\"Oceania\",\"1096\":\"Oceania\",\"1097\":\"Oceania\",\"1098\":\"Oceania\",\"1099\":\"Oceania\",\"1100\":\"Oceania\",\"1101\":\"Oceania\",\"1102\":\"Oceania\",\"1103\":\"Oceania\",\"1104\":\"Americas\",\"1105\":\"Americas\",\"1106\":\"Americas\",\"1107\":\"Americas\",\"1108\":\"Americas\",\"1109\":\"Americas\",\"1110\":\"Americas\",\"1111\":\"Americas\",\"1112\":\"Americas\",\"1113\":\"Americas\",\"1114\":\"Americas\",\"1115\":\"Americas\",\"1116\":\"Africa\",\"1117\":\"Africa\",\"1118\":\"Africa\",\"1119\":\"Africa\",\"1120\":\"Africa\",\"1121\":\"Africa\",\"1122\":\"Africa\",\"1123\":\"Africa\",\"1124\":\"Africa\",\"1125\":\"Africa\",\"1126\":\"Africa\",\"1127\":\"Africa\",\"1128\":\"Africa\",\"1129\":\"Africa\",\"1130\":\"Africa\",\"1131\":\"Africa\",\"1132\":\"Africa\",\"1133\":\"Africa\",\"1134\":\"Africa\",\"1135\":\"Africa\",\"1136\":\"Africa\",\"1137\":\"Africa\",\"1138\":\"Africa\",\"1139\":\"Africa\",\"1140\":\"Europe\",\"1141\":\"Europe\",\"1142\":\"Europe\",\"1143\":\"Europe\",\"1144\":\"Europe\",\"1145\":\"Europe\",\"1146\":\"Europe\",\"1147\":\"Europe\",\"1148\":\"Europe\",\"1149\":\"Europe\",\"1150\":\"Europe\",\"1151\":\"Europe\",\"1152\":\"Asia\",\"1153\":\"Asia\",\"1154\":\"Asia\",\"1155\":\"Asia\",\"1156\":\"Asia\",\"1157\":\"Asia\",\"1158\":\"Asia\",\"1159\":\"Asia\",\"1160\":\"Asia\",\"1161\":\"Asia\",\"1162\":\"Asia\",\"1163\":\"Asia\",\"1164\":\"Asia\",\"1165\":\"Asia\",\"1166\":\"Asia\",\"1167\":\"Asia\",\"1168\":\"Asia\",\"1169\":\"Asia\",\"1170\":\"Asia\",\"1171\":\"Asia\",\"1172\":\"Asia\",\"1173\":\"Asia\",\"1174\":\"Asia\",\"1175\":\"Asia\",\"1176\":\"Americas\",\"1177\":\"Americas\",\"1178\":\"Americas\",\"1179\":\"Americas\",\"1180\":\"Americas\",\"1181\":\"Americas\",\"1182\":\"Americas\",\"1183\":\"Americas\",\"1184\":\"Americas\",\"1185\":\"Americas\",\"1186\":\"Americas\",\"1187\":\"Americas\",\"1188\":\"Americas\",\"1189\":\"Americas\",\"1190\":\"Americas\",\"1191\":\"Americas\",\"1192\":\"Americas\",\"1193\":\"Americas\",\"1194\":\"Americas\",\"1195\":\"Americas\",\"1196\":\"Americas\",\"1197\":\"Americas\",\"1198\":\"Americas\",\"1199\":\"Americas\",\"1200\":\"Americas\",\"1201\":\"Americas\",\"1202\":\"Americas\",\"1203\":\"Americas\",\"1204\":\"Americas\",\"1205\":\"Americas\",\"1206\":\"Americas\",\"1207\":\"Americas\",\"1208\":\"Americas\",\"1209\":\"Americas\",\"1210\":\"Americas\",\"1211\":\"Americas\",\"1212\":\"Asia\",\"1213\":\"Asia\",\"1214\":\"Asia\",\"1215\":\"Asia\",\"1216\":\"Asia\",\"1217\":\"Asia\",\"1218\":\"Asia\",\"1219\":\"Asia\",\"1220\":\"Asia\",\"1221\":\"Asia\",\"1222\":\"Asia\",\"1223\":\"Asia\",\"1224\":\"Europe\",\"1225\":\"Europe\",\"1226\":\"Europe\",\"1227\":\"Europe\",\"1228\":\"Europe\",\"1229\":\"Europe\",\"1230\":\"Europe\",\"1231\":\"Europe\",\"1232\":\"Europe\",\"1233\":\"Europe\",\"1234\":\"Europe\",\"1235\":\"Europe\",\"1236\":\"Europe\",\"1237\":\"Europe\",\"1238\":\"Europe\",\"1239\":\"Europe\",\"1240\":\"Europe\",\"1241\":\"Europe\",\"1242\":\"Europe\",\"1243\":\"Europe\",\"1244\":\"Europe\",\"1245\":\"Europe\",\"1246\":\"Europe\",\"1247\":\"Europe\",\"1248\":\"Americas\",\"1249\":\"Americas\",\"1250\":\"Americas\",\"1251\":\"Americas\",\"1252\":\"Americas\",\"1253\":\"Americas\",\"1254\":\"Americas\",\"1255\":\"Americas\",\"1256\":\"Americas\",\"1257\":\"Americas\",\"1258\":\"Americas\",\"1259\":\"Americas\",\"1260\":\"Africa\",\"1261\":\"Africa\",\"1262\":\"Africa\",\"1263\":\"Africa\",\"1264\":\"Africa\",\"1265\":\"Africa\",\"1266\":\"Africa\",\"1267\":\"Africa\",\"1268\":\"Africa\",\"1269\":\"Africa\",\"1270\":\"Africa\",\"1271\":\"Africa\",\"1272\":\"Europe\",\"1273\":\"Europe\",\"1274\":\"Europe\",\"1275\":\"Europe\",\"1276\":\"Europe\",\"1277\":\"Europe\",\"1278\":\"Europe\",\"1279\":\"Europe\",\"1280\":\"Europe\",\"1281\":\"Europe\",\"1282\":\"Europe\",\"1283\":\"Europe\",\"1284\":\"Africa\",\"1285\":\"Africa\",\"1286\":\"Africa\",\"1287\":\"Africa\",\"1288\":\"Africa\",\"1289\":\"Africa\",\"1290\":\"Africa\",\"1291\":\"Africa\",\"1292\":\"Africa\",\"1293\":\"Africa\",\"1294\":\"Africa\",\"1295\":\"Africa\",\"1296\":\"Africa\",\"1297\":\"Africa\",\"1298\":\"Africa\",\"1299\":\"Africa\",\"1300\":\"Africa\",\"1301\":\"Africa\",\"1302\":\"Africa\",\"1303\":\"Africa\",\"1304\":\"Africa\",\"1305\":\"Africa\",\"1306\":\"Africa\",\"1307\":\"Africa\",\"1308\":\"Asia\",\"1309\":\"Asia\",\"1310\":\"Asia\",\"1311\":\"Asia\",\"1312\":\"Asia\",\"1313\":\"Asia\",\"1314\":\"Asia\",\"1315\":\"Asia\",\"1316\":\"Asia\",\"1317\":\"Asia\",\"1318\":\"Asia\",\"1319\":\"Asia\",\"1320\":\"Africa\",\"1321\":\"Africa\",\"1322\":\"Africa\",\"1323\":\"Africa\",\"1324\":\"Africa\",\"1325\":\"Africa\",\"1326\":\"Africa\",\"1327\":\"Africa\",\"1328\":\"Africa\",\"1329\":\"Africa\",\"1330\":\"Africa\",\"1331\":\"Africa\",\"1332\":\"Europe\",\"1333\":\"Europe\",\"1334\":\"Europe\",\"1335\":\"Europe\",\"1336\":\"Europe\",\"1337\":\"Europe\",\"1338\":\"Europe\",\"1339\":\"Europe\",\"1340\":\"Europe\",\"1341\":\"Europe\",\"1342\":\"Europe\",\"1343\":\"Europe\",\"1344\":\"Africa\",\"1345\":\"Africa\",\"1346\":\"Africa\",\"1347\":\"Africa\",\"1348\":\"Africa\",\"1349\":\"Africa\",\"1350\":\"Africa\",\"1351\":\"Africa\",\"1352\":\"Africa\",\"1353\":\"Africa\",\"1354\":\"Africa\",\"1355\":\"Africa\",\"1356\":\"Asia\",\"1357\":\"Asia\",\"1358\":\"Asia\",\"1359\":\"Asia\",\"1360\":\"Asia\",\"1361\":\"Asia\",\"1362\":\"Asia\",\"1363\":\"Asia\",\"1364\":\"Asia\",\"1365\":\"Asia\",\"1366\":\"Asia\",\"1367\":\"Asia\",\"1368\":\"Europe\",\"1369\":\"Europe\",\"1370\":\"Europe\",\"1371\":\"Europe\",\"1372\":\"Europe\",\"1373\":\"Europe\",\"1374\":\"Europe\",\"1375\":\"Europe\",\"1376\":\"Europe\",\"1377\":\"Europe\",\"1378\":\"Europe\",\"1379\":\"Europe\",\"1380\":\"Europe\",\"1381\":\"Europe\",\"1382\":\"Europe\",\"1383\":\"Europe\",\"1384\":\"Europe\",\"1385\":\"Europe\",\"1386\":\"Europe\",\"1387\":\"Europe\",\"1388\":\"Europe\",\"1389\":\"Europe\",\"1390\":\"Europe\",\"1391\":\"Europe\",\"1392\":\"Africa\",\"1393\":\"Africa\",\"1394\":\"Africa\",\"1395\":\"Africa\",\"1396\":\"Africa\",\"1397\":\"Africa\",\"1398\":\"Africa\",\"1399\":\"Africa\",\"1400\":\"Africa\",\"1401\":\"Africa\",\"1402\":\"Africa\",\"1403\":\"Africa\",\"1404\":\"Africa\",\"1405\":\"Africa\",\"1406\":\"Africa\",\"1407\":\"Africa\",\"1408\":\"Africa\",\"1409\":\"Africa\",\"1410\":\"Africa\",\"1411\":\"Africa\",\"1412\":\"Africa\",\"1413\":\"Africa\",\"1414\":\"Africa\",\"1415\":\"Africa\",\"1416\":\"Europe\",\"1417\":\"Europe\",\"1418\":\"Europe\",\"1419\":\"Europe\",\"1420\":\"Europe\",\"1421\":\"Europe\",\"1422\":\"Europe\",\"1423\":\"Europe\",\"1424\":\"Europe\",\"1425\":\"Europe\",\"1426\":\"Europe\",\"1427\":\"Europe\",\"1428\":\"Asia\",\"1429\":\"Asia\",\"1430\":\"Asia\",\"1431\":\"Asia\",\"1432\":\"Asia\",\"1433\":\"Asia\",\"1434\":\"Asia\",\"1435\":\"Asia\",\"1436\":\"Asia\",\"1437\":\"Asia\",\"1438\":\"Asia\",\"1439\":\"Asia\",\"1440\":\"Africa\",\"1441\":\"Africa\",\"1442\":\"Africa\",\"1443\":\"Africa\",\"1444\":\"Africa\",\"1445\":\"Africa\",\"1446\":\"Africa\",\"1447\":\"Africa\",\"1448\":\"Africa\",\"1449\":\"Africa\",\"1450\":\"Africa\",\"1451\":\"Africa\",\"1452\":\"Africa\",\"1453\":\"Africa\",\"1454\":\"Africa\",\"1455\":\"Africa\",\"1456\":\"Africa\",\"1457\":\"Africa\",\"1458\":\"Africa\",\"1459\":\"Africa\",\"1460\":\"Africa\",\"1461\":\"Africa\",\"1462\":\"Africa\",\"1463\":\"Africa\",\"1464\":\"Europe\",\"1465\":\"Europe\",\"1466\":\"Europe\",\"1467\":\"Europe\",\"1468\":\"Europe\",\"1469\":\"Europe\",\"1470\":\"Europe\",\"1471\":\"Europe\",\"1472\":\"Europe\",\"1473\":\"Europe\",\"1474\":\"Europe\",\"1475\":\"Europe\",\"1476\":\"Europe\",\"1477\":\"Europe\",\"1478\":\"Europe\",\"1479\":\"Europe\",\"1480\":\"Europe\",\"1481\":\"Europe\",\"1482\":\"Europe\",\"1483\":\"Europe\",\"1484\":\"Europe\",\"1485\":\"Europe\",\"1486\":\"Europe\",\"1487\":\"Europe\",\"1488\":\"Asia\",\"1489\":\"Asia\",\"1490\":\"Asia\",\"1491\":\"Asia\",\"1492\":\"Asia\",\"1493\":\"Asia\",\"1494\":\"Asia\",\"1495\":\"Asia\",\"1496\":\"Asia\",\"1497\":\"Asia\",\"1498\":\"Asia\",\"1499\":\"Asia\",\"1500\":\"Asia\",\"1501\":\"Asia\",\"1502\":\"Asia\",\"1503\":\"Asia\",\"1504\":\"Asia\",\"1505\":\"Asia\",\"1506\":\"Asia\",\"1507\":\"Asia\",\"1508\":\"Asia\",\"1509\":\"Asia\",\"1510\":\"Asia\",\"1511\":\"Asia\",\"1512\":\"Africa\",\"1513\":\"Africa\",\"1514\":\"Africa\",\"1515\":\"Africa\",\"1516\":\"Africa\",\"1517\":\"Africa\",\"1518\":\"Africa\",\"1519\":\"Africa\",\"1520\":\"Africa\",\"1521\":\"Africa\",\"1522\":\"Africa\",\"1523\":\"Africa\",\"1524\":\"Asia\",\"1525\":\"Asia\",\"1526\":\"Asia\",\"1527\":\"Asia\",\"1528\":\"Asia\",\"1529\":\"Asia\",\"1530\":\"Asia\",\"1531\":\"Asia\",\"1532\":\"Asia\",\"1533\":\"Asia\",\"1534\":\"Asia\",\"1535\":\"Asia\",\"1536\":\"Africa\",\"1537\":\"Africa\",\"1538\":\"Africa\",\"1539\":\"Africa\",\"1540\":\"Africa\",\"1541\":\"Africa\",\"1542\":\"Africa\",\"1543\":\"Africa\",\"1544\":\"Africa\",\"1545\":\"Africa\",\"1546\":\"Africa\",\"1547\":\"Africa\",\"1548\":\"Americas\",\"1549\":\"Americas\",\"1550\":\"Americas\",\"1551\":\"Americas\",\"1552\":\"Americas\",\"1553\":\"Americas\",\"1554\":\"Americas\",\"1555\":\"Americas\",\"1556\":\"Americas\",\"1557\":\"Americas\",\"1558\":\"Americas\",\"1559\":\"Americas\",\"1560\":\"Africa\",\"1561\":\"Africa\",\"1562\":\"Africa\",\"1563\":\"Africa\",\"1564\":\"Africa\",\"1565\":\"Africa\",\"1566\":\"Africa\",\"1567\":\"Africa\",\"1568\":\"Africa\",\"1569\":\"Africa\",\"1570\":\"Africa\",\"1571\":\"Africa\",\"1572\":\"Europe\",\"1573\":\"Europe\",\"1574\":\"Europe\",\"1575\":\"Europe\",\"1576\":\"Europe\",\"1577\":\"Europe\",\"1578\":\"Europe\",\"1579\":\"Europe\",\"1580\":\"Europe\",\"1581\":\"Europe\",\"1582\":\"Europe\",\"1583\":\"Europe\",\"1584\":\"Africa\",\"1585\":\"Africa\",\"1586\":\"Africa\",\"1587\":\"Africa\",\"1588\":\"Africa\",\"1589\":\"Africa\",\"1590\":\"Africa\",\"1591\":\"Africa\",\"1592\":\"Africa\",\"1593\":\"Africa\",\"1594\":\"Africa\",\"1595\":\"Africa\",\"1596\":\"Europe\",\"1597\":\"Europe\",\"1598\":\"Europe\",\"1599\":\"Europe\",\"1600\":\"Europe\",\"1601\":\"Europe\",\"1602\":\"Europe\",\"1603\":\"Europe\",\"1604\":\"Europe\",\"1605\":\"Europe\",\"1606\":\"Europe\",\"1607\":\"Europe\",\"1608\":\"Americas\",\"1609\":\"Americas\",\"1610\":\"Americas\",\"1611\":\"Americas\",\"1612\":\"Americas\",\"1613\":\"Americas\",\"1614\":\"Americas\",\"1615\":\"Americas\",\"1616\":\"Americas\",\"1617\":\"Americas\",\"1618\":\"Americas\",\"1619\":\"Americas\",\"1620\":\"Americas\",\"1621\":\"Americas\",\"1622\":\"Americas\",\"1623\":\"Americas\",\"1624\":\"Americas\",\"1625\":\"Americas\",\"1626\":\"Americas\",\"1627\":\"Americas\",\"1628\":\"Americas\",\"1629\":\"Americas\",\"1630\":\"Americas\",\"1631\":\"Americas\",\"1632\":\"Americas\",\"1633\":\"Americas\",\"1634\":\"Americas\",\"1635\":\"Americas\",\"1636\":\"Americas\",\"1637\":\"Americas\",\"1638\":\"Americas\",\"1639\":\"Americas\",\"1640\":\"Americas\",\"1641\":\"Americas\",\"1642\":\"Americas\",\"1643\":\"Americas\",\"1644\":\"Asia\",\"1645\":\"Asia\",\"1646\":\"Asia\",\"1647\":\"Asia\",\"1648\":\"Asia\",\"1649\":\"Asia\",\"1650\":\"Asia\",\"1651\":\"Asia\",\"1652\":\"Asia\",\"1653\":\"Asia\",\"1654\":\"Asia\",\"1655\":\"Asia\",\"1656\":\"Asia\",\"1657\":\"Asia\",\"1658\":\"Asia\",\"1659\":\"Asia\",\"1660\":\"Asia\",\"1661\":\"Asia\",\"1662\":\"Asia\",\"1663\":\"Asia\",\"1664\":\"Asia\",\"1665\":\"Asia\",\"1666\":\"Asia\",\"1667\":\"Asia\",\"1668\":\"Asia\",\"1669\":\"Asia\",\"1670\":\"Asia\",\"1671\":\"Asia\",\"1672\":\"Asia\",\"1673\":\"Asia\",\"1674\":\"Asia\",\"1675\":\"Asia\",\"1676\":\"Asia\",\"1677\":\"Asia\",\"1678\":\"Asia\",\"1679\":\"Asia\",\"1680\":\"Africa\",\"1681\":\"Africa\",\"1682\":\"Africa\",\"1683\":\"Africa\",\"1684\":\"Africa\",\"1685\":\"Africa\",\"1686\":\"Africa\",\"1687\":\"Africa\",\"1688\":\"Africa\",\"1689\":\"Africa\",\"1690\":\"Africa\",\"1691\":\"Africa\",\"1692\":\"Africa\",\"1693\":\"Africa\",\"1694\":\"Africa\",\"1695\":\"Africa\",\"1696\":\"Africa\",\"1697\":\"Africa\",\"1698\":\"Africa\",\"1699\":\"Africa\",\"1700\":\"Africa\",\"1701\":\"Africa\",\"1702\":\"Africa\",\"1703\":\"Africa\"},\"year\":{\"0\":1952,\"1\":1957,\"2\":1962,\"3\":1967,\"4\":1972,\"5\":1977,\"6\":1982,\"7\":1987,\"8\":1992,\"9\":1997,\"10\":2002,\"11\":2007,\"12\":1952,\"13\":1957,\"14\":1962,\"15\":1967,\"16\":1972,\"17\":1977,\"18\":1982,\"19\":1987,\"20\":1992,\"21\":1997,\"22\":2002,\"23\":2007,\"24\":1952,\"25\":1957,\"26\":1962,\"27\":1967,\"28\":1972,\"29\":1977,\"30\":1982,\"31\":1987,\"32\":1992,\"33\":1997,\"34\":2002,\"35\":2007,\"36\":1952,\"37\":1957,\"38\":1962,\"39\":1967,\"40\":1972,\"41\":1977,\"42\":1982,\"43\":1987,\"44\":1992,\"45\":1997,\"46\":2002,\"47\":2007,\"48\":1952,\"49\":1957,\"50\":1962,\"51\":1967,\"52\":1972,\"53\":1977,\"54\":1982,\"55\":1987,\"56\":1992,\"57\":1997,\"58\":2002,\"59\":2007,\"60\":1952,\"61\":1957,\"62\":1962,\"63\":1967,\"64\":1972,\"65\":1977,\"66\":1982,\"67\":1987,\"68\":1992,\"69\":1997,\"70\":2002,\"71\":2007,\"72\":1952,\"73\":1957,\"74\":1962,\"75\":1967,\"76\":1972,\"77\":1977,\"78\":1982,\"79\":1987,\"80\":1992,\"81\":1997,\"82\":2002,\"83\":2007,\"84\":1952,\"85\":1957,\"86\":1962,\"87\":1967,\"88\":1972,\"89\":1977,\"90\":1982,\"91\":1987,\"92\":1992,\"93\":1997,\"94\":2002,\"95\":2007,\"96\":1952,\"97\":1957,\"98\":1962,\"99\":1967,\"100\":1972,\"101\":1977,\"102\":1982,\"103\":1987,\"104\":1992,\"105\":1997,\"106\":2002,\"107\":2007,\"108\":1952,\"109\":1957,\"110\":1962,\"111\":1967,\"112\":1972,\"113\":1977,\"114\":1982,\"115\":1987,\"116\":1992,\"117\":1997,\"118\":2002,\"119\":2007,\"120\":1952,\"121\":1957,\"122\":1962,\"123\":1967,\"124\":1972,\"125\":1977,\"126\":1982,\"127\":1987,\"128\":1992,\"129\":1997,\"130\":2002,\"131\":2007,\"132\":1952,\"133\":1957,\"134\":1962,\"135\":1967,\"136\":1972,\"137\":1977,\"138\":1982,\"139\":1987,\"140\":1992,\"141\":1997,\"142\":2002,\"143\":2007,\"144\":1952,\"145\":1957,\"146\":1962,\"147\":1967,\"148\":1972,\"149\":1977,\"150\":1982,\"151\":1987,\"152\":1992,\"153\":1997,\"154\":2002,\"155\":2007,\"156\":1952,\"157\":1957,\"158\":1962,\"159\":1967,\"160\":1972,\"161\":1977,\"162\":1982,\"163\":1987,\"164\":1992,\"165\":1997,\"166\":2002,\"167\":2007,\"168\":1952,\"169\":1957,\"170\":1962,\"171\":1967,\"172\":1972,\"173\":1977,\"174\":1982,\"175\":1987,\"176\":1992,\"177\":1997,\"178\":2002,\"179\":2007,\"180\":1952,\"181\":1957,\"182\":1962,\"183\":1967,\"184\":1972,\"185\":1977,\"186\":1982,\"187\":1987,\"188\":1992,\"189\":1997,\"190\":2002,\"191\":2007,\"192\":1952,\"193\":1957,\"194\":1962,\"195\":1967,\"196\":1972,\"197\":1977,\"198\":1982,\"199\":1987,\"200\":1992,\"201\":1997,\"202\":2002,\"203\":2007,\"204\":1952,\"205\":1957,\"206\":1962,\"207\":1967,\"208\":1972,\"209\":1977,\"210\":1982,\"211\":1987,\"212\":1992,\"213\":1997,\"214\":2002,\"215\":2007,\"216\":1952,\"217\":1957,\"218\":1962,\"219\":1967,\"220\":1972,\"221\":1977,\"222\":1982,\"223\":1987,\"224\":1992,\"225\":1997,\"226\":2002,\"227\":2007,\"228\":1952,\"229\":1957,\"230\":1962,\"231\":1967,\"232\":1972,\"233\":1977,\"234\":1982,\"235\":1987,\"236\":1992,\"237\":1997,\"238\":2002,\"239\":2007,\"240\":1952,\"241\":1957,\"242\":1962,\"243\":1967,\"244\":1972,\"245\":1977,\"246\":1982,\"247\":1987,\"248\":1992,\"249\":1997,\"250\":2002,\"251\":2007,\"252\":1952,\"253\":1957,\"254\":1962,\"255\":1967,\"256\":1972,\"257\":1977,\"258\":1982,\"259\":1987,\"260\":1992,\"261\":1997,\"262\":2002,\"263\":2007,\"264\":1952,\"265\":1957,\"266\":1962,\"267\":1967,\"268\":1972,\"269\":1977,\"270\":1982,\"271\":1987,\"272\":1992,\"273\":1997,\"274\":2002,\"275\":2007,\"276\":1952,\"277\":1957,\"278\":1962,\"279\":1967,\"280\":1972,\"281\":1977,\"282\":1982,\"283\":1987,\"284\":1992,\"285\":1997,\"286\":2002,\"287\":2007,\"288\":1952,\"289\":1957,\"290\":1962,\"291\":1967,\"292\":1972,\"293\":1977,\"294\":1982,\"295\":1987,\"296\":1992,\"297\":1997,\"298\":2002,\"299\":2007,\"300\":1952,\"301\":1957,\"302\":1962,\"303\":1967,\"304\":1972,\"305\":1977,\"306\":1982,\"307\":1987,\"308\":1992,\"309\":1997,\"310\":2002,\"311\":2007,\"312\":1952,\"313\":1957,\"314\":1962,\"315\":1967,\"316\":1972,\"317\":1977,\"318\":1982,\"319\":1987,\"320\":1992,\"321\":1997,\"322\":2002,\"323\":2007,\"324\":1952,\"325\":1957,\"326\":1962,\"327\":1967,\"328\":1972,\"329\":1977,\"330\":1982,\"331\":1987,\"332\":1992,\"333\":1997,\"334\":2002,\"335\":2007,\"336\":1952,\"337\":1957,\"338\":1962,\"339\":1967,\"340\":1972,\"341\":1977,\"342\":1982,\"343\":1987,\"344\":1992,\"345\":1997,\"346\":2002,\"347\":2007,\"348\":1952,\"349\":1957,\"350\":1962,\"351\":1967,\"352\":1972,\"353\":1977,\"354\":1982,\"355\":1987,\"356\":1992,\"357\":1997,\"358\":2002,\"359\":2007,\"360\":1952,\"361\":1957,\"362\":1962,\"363\":1967,\"364\":1972,\"365\":1977,\"366\":1982,\"367\":1987,\"368\":1992,\"369\":1997,\"370\":2002,\"371\":2007,\"372\":1952,\"373\":1957,\"374\":1962,\"375\":1967,\"376\":1972,\"377\":1977,\"378\":1982,\"379\":1987,\"380\":1992,\"381\":1997,\"382\":2002,\"383\":2007,\"384\":1952,\"385\":1957,\"386\":1962,\"387\":1967,\"388\":1972,\"389\":1977,\"390\":1982,\"391\":1987,\"392\":1992,\"393\":1997,\"394\":2002,\"395\":2007,\"396\":1952,\"397\":1957,\"398\":1962,\"399\":1967,\"400\":1972,\"401\":1977,\"402\":1982,\"403\":1987,\"404\":1992,\"405\":1997,\"406\":2002,\"407\":2007,\"408\":1952,\"409\":1957,\"410\":1962,\"411\":1967,\"412\":1972,\"413\":1977,\"414\":1982,\"415\":1987,\"416\":1992,\"417\":1997,\"418\":2002,\"419\":2007,\"420\":1952,\"421\":1957,\"422\":1962,\"423\":1967,\"424\":1972,\"425\":1977,\"426\":1982,\"427\":1987,\"428\":1992,\"429\":1997,\"430\":2002,\"431\":2007,\"432\":1952,\"433\":1957,\"434\":1962,\"435\":1967,\"436\":1972,\"437\":1977,\"438\":1982,\"439\":1987,\"440\":1992,\"441\":1997,\"442\":2002,\"443\":2007,\"444\":1952,\"445\":1957,\"446\":1962,\"447\":1967,\"448\":1972,\"449\":1977,\"450\":1982,\"451\":1987,\"452\":1992,\"453\":1997,\"454\":2002,\"455\":2007,\"456\":1952,\"457\":1957,\"458\":1962,\"459\":1967,\"460\":1972,\"461\":1977,\"462\":1982,\"463\":1987,\"464\":1992,\"465\":1997,\"466\":2002,\"467\":2007,\"468\":1952,\"469\":1957,\"470\":1962,\"471\":1967,\"472\":1972,\"473\":1977,\"474\":1982,\"475\":1987,\"476\":1992,\"477\":1997,\"478\":2002,\"479\":2007,\"480\":1952,\"481\":1957,\"482\":1962,\"483\":1967,\"484\":1972,\"485\":1977,\"486\":1982,\"487\":1987,\"488\":1992,\"489\":1997,\"490\":2002,\"491\":2007,\"492\":1952,\"493\":1957,\"494\":1962,\"495\":1967,\"496\":1972,\"497\":1977,\"498\":1982,\"499\":1987,\"500\":1992,\"501\":1997,\"502\":2002,\"503\":2007,\"504\":1952,\"505\":1957,\"506\":1962,\"507\":1967,\"508\":1972,\"509\":1977,\"510\":1982,\"511\":1987,\"512\":1992,\"513\":1997,\"514\":2002,\"515\":2007,\"516\":1952,\"517\":1957,\"518\":1962,\"519\":1967,\"520\":1972,\"521\":1977,\"522\":1982,\"523\":1987,\"524\":1992,\"525\":1997,\"526\":2002,\"527\":2007,\"528\":1952,\"529\":1957,\"530\":1962,\"531\":1967,\"532\":1972,\"533\":1977,\"534\":1982,\"535\":1987,\"536\":1992,\"537\":1997,\"538\":2002,\"539\":2007,\"540\":1952,\"541\":1957,\"542\":1962,\"543\":1967,\"544\":1972,\"545\":1977,\"546\":1982,\"547\":1987,\"548\":1992,\"549\":1997,\"550\":2002,\"551\":2007,\"552\":1952,\"553\":1957,\"554\":1962,\"555\":1967,\"556\":1972,\"557\":1977,\"558\":1982,\"559\":1987,\"560\":1992,\"561\":1997,\"562\":2002,\"563\":2007,\"564\":1952,\"565\":1957,\"566\":1962,\"567\":1967,\"568\":1972,\"569\":1977,\"570\":1982,\"571\":1987,\"572\":1992,\"573\":1997,\"574\":2002,\"575\":2007,\"576\":1952,\"577\":1957,\"578\":1962,\"579\":1967,\"580\":1972,\"581\":1977,\"582\":1982,\"583\":1987,\"584\":1992,\"585\":1997,\"586\":2002,\"587\":2007,\"588\":1952,\"589\":1957,\"590\":1962,\"591\":1967,\"592\":1972,\"593\":1977,\"594\":1982,\"595\":1987,\"596\":1992,\"597\":1997,\"598\":2002,\"599\":2007,\"600\":1952,\"601\":1957,\"602\":1962,\"603\":1967,\"604\":1972,\"605\":1977,\"606\":1982,\"607\":1987,\"608\":1992,\"609\":1997,\"610\":2002,\"611\":2007,\"612\":1952,\"613\":1957,\"614\":1962,\"615\":1967,\"616\":1972,\"617\":1977,\"618\":1982,\"619\":1987,\"620\":1992,\"621\":1997,\"622\":2002,\"623\":2007,\"624\":1952,\"625\":1957,\"626\":1962,\"627\":1967,\"628\":1972,\"629\":1977,\"630\":1982,\"631\":1987,\"632\":1992,\"633\":1997,\"634\":2002,\"635\":2007,\"636\":1952,\"637\":1957,\"638\":1962,\"639\":1967,\"640\":1972,\"641\":1977,\"642\":1982,\"643\":1987,\"644\":1992,\"645\":1997,\"646\":2002,\"647\":2007,\"648\":1952,\"649\":1957,\"650\":1962,\"651\":1967,\"652\":1972,\"653\":1977,\"654\":1982,\"655\":1987,\"656\":1992,\"657\":1997,\"658\":2002,\"659\":2007,\"660\":1952,\"661\":1957,\"662\":1962,\"663\":1967,\"664\":1972,\"665\":1977,\"666\":1982,\"667\":1987,\"668\":1992,\"669\":1997,\"670\":2002,\"671\":2007,\"672\":1952,\"673\":1957,\"674\":1962,\"675\":1967,\"676\":1972,\"677\":1977,\"678\":1982,\"679\":1987,\"680\":1992,\"681\":1997,\"682\":2002,\"683\":2007,\"684\":1952,\"685\":1957,\"686\":1962,\"687\":1967,\"688\":1972,\"689\":1977,\"690\":1982,\"691\":1987,\"692\":1992,\"693\":1997,\"694\":2002,\"695\":2007,\"696\":1952,\"697\":1957,\"698\":1962,\"699\":1967,\"700\":1972,\"701\":1977,\"702\":1982,\"703\":1987,\"704\":1992,\"705\":1997,\"706\":2002,\"707\":2007,\"708\":1952,\"709\":1957,\"710\":1962,\"711\":1967,\"712\":1972,\"713\":1977,\"714\":1982,\"715\":1987,\"716\":1992,\"717\":1997,\"718\":2002,\"719\":2007,\"720\":1952,\"721\":1957,\"722\":1962,\"723\":1967,\"724\":1972,\"725\":1977,\"726\":1982,\"727\":1987,\"728\":1992,\"729\":1997,\"730\":2002,\"731\":2007,\"732\":1952,\"733\":1957,\"734\":1962,\"735\":1967,\"736\":1972,\"737\":1977,\"738\":1982,\"739\":1987,\"740\":1992,\"741\":1997,\"742\":2002,\"743\":2007,\"744\":1952,\"745\":1957,\"746\":1962,\"747\":1967,\"748\":1972,\"749\":1977,\"750\":1982,\"751\":1987,\"752\":1992,\"753\":1997,\"754\":2002,\"755\":2007,\"756\":1952,\"757\":1957,\"758\":1962,\"759\":1967,\"760\":1972,\"761\":1977,\"762\":1982,\"763\":1987,\"764\":1992,\"765\":1997,\"766\":2002,\"767\":2007,\"768\":1952,\"769\":1957,\"770\":1962,\"771\":1967,\"772\":1972,\"773\":1977,\"774\":1982,\"775\":1987,\"776\":1992,\"777\":1997,\"778\":2002,\"779\":2007,\"780\":1952,\"781\":1957,\"782\":1962,\"783\":1967,\"784\":1972,\"785\":1977,\"786\":1982,\"787\":1987,\"788\":1992,\"789\":1997,\"790\":2002,\"791\":2007,\"792\":1952,\"793\":1957,\"794\":1962,\"795\":1967,\"796\":1972,\"797\":1977,\"798\":1982,\"799\":1987,\"800\":1992,\"801\":1997,\"802\":2002,\"803\":2007,\"804\":1952,\"805\":1957,\"806\":1962,\"807\":1967,\"808\":1972,\"809\":1977,\"810\":1982,\"811\":1987,\"812\":1992,\"813\":1997,\"814\":2002,\"815\":2007,\"816\":1952,\"817\":1957,\"818\":1962,\"819\":1967,\"820\":1972,\"821\":1977,\"822\":1982,\"823\":1987,\"824\":1992,\"825\":1997,\"826\":2002,\"827\":2007,\"828\":1952,\"829\":1957,\"830\":1962,\"831\":1967,\"832\":1972,\"833\":1977,\"834\":1982,\"835\":1987,\"836\":1992,\"837\":1997,\"838\":2002,\"839\":2007,\"840\":1952,\"841\":1957,\"842\":1962,\"843\":1967,\"844\":1972,\"845\":1977,\"846\":1982,\"847\":1987,\"848\":1992,\"849\":1997,\"850\":2002,\"851\":2007,\"852\":1952,\"853\":1957,\"854\":1962,\"855\":1967,\"856\":1972,\"857\":1977,\"858\":1982,\"859\":1987,\"860\":1992,\"861\":1997,\"862\":2002,\"863\":2007,\"864\":1952,\"865\":1957,\"866\":1962,\"867\":1967,\"868\":1972,\"869\":1977,\"870\":1982,\"871\":1987,\"872\":1992,\"873\":1997,\"874\":2002,\"875\":2007,\"876\":1952,\"877\":1957,\"878\":1962,\"879\":1967,\"880\":1972,\"881\":1977,\"882\":1982,\"883\":1987,\"884\":1992,\"885\":1997,\"886\":2002,\"887\":2007,\"888\":1952,\"889\":1957,\"890\":1962,\"891\":1967,\"892\":1972,\"893\":1977,\"894\":1982,\"895\":1987,\"896\":1992,\"897\":1997,\"898\":2002,\"899\":2007,\"900\":1952,\"901\":1957,\"902\":1962,\"903\":1967,\"904\":1972,\"905\":1977,\"906\":1982,\"907\":1987,\"908\":1992,\"909\":1997,\"910\":2002,\"911\":2007,\"912\":1952,\"913\":1957,\"914\":1962,\"915\":1967,\"916\":1972,\"917\":1977,\"918\":1982,\"919\":1987,\"920\":1992,\"921\":1997,\"922\":2002,\"923\":2007,\"924\":1952,\"925\":1957,\"926\":1962,\"927\":1967,\"928\":1972,\"929\":1977,\"930\":1982,\"931\":1987,\"932\":1992,\"933\":1997,\"934\":2002,\"935\":2007,\"936\":1952,\"937\":1957,\"938\":1962,\"939\":1967,\"940\":1972,\"941\":1977,\"942\":1982,\"943\":1987,\"944\":1992,\"945\":1997,\"946\":2002,\"947\":2007,\"948\":1952,\"949\":1957,\"950\":1962,\"951\":1967,\"952\":1972,\"953\":1977,\"954\":1982,\"955\":1987,\"956\":1992,\"957\":1997,\"958\":2002,\"959\":2007,\"960\":1952,\"961\":1957,\"962\":1962,\"963\":1967,\"964\":1972,\"965\":1977,\"966\":1982,\"967\":1987,\"968\":1992,\"969\":1997,\"970\":2002,\"971\":2007,\"972\":1952,\"973\":1957,\"974\":1962,\"975\":1967,\"976\":1972,\"977\":1977,\"978\":1982,\"979\":1987,\"980\":1992,\"981\":1997,\"982\":2002,\"983\":2007,\"984\":1952,\"985\":1957,\"986\":1962,\"987\":1967,\"988\":1972,\"989\":1977,\"990\":1982,\"991\":1987,\"992\":1992,\"993\":1997,\"994\":2002,\"995\":2007,\"996\":1952,\"997\":1957,\"998\":1962,\"999\":1967,\"1000\":1972,\"1001\":1977,\"1002\":1982,\"1003\":1987,\"1004\":1992,\"1005\":1997,\"1006\":2002,\"1007\":2007,\"1008\":1952,\"1009\":1957,\"1010\":1962,\"1011\":1967,\"1012\":1972,\"1013\":1977,\"1014\":1982,\"1015\":1987,\"1016\":1992,\"1017\":1997,\"1018\":2002,\"1019\":2007,\"1020\":1952,\"1021\":1957,\"1022\":1962,\"1023\":1967,\"1024\":1972,\"1025\":1977,\"1026\":1982,\"1027\":1987,\"1028\":1992,\"1029\":1997,\"1030\":2002,\"1031\":2007,\"1032\":1952,\"1033\":1957,\"1034\":1962,\"1035\":1967,\"1036\":1972,\"1037\":1977,\"1038\":1982,\"1039\":1987,\"1040\":1992,\"1041\":1997,\"1042\":2002,\"1043\":2007,\"1044\":1952,\"1045\":1957,\"1046\":1962,\"1047\":1967,\"1048\":1972,\"1049\":1977,\"1050\":1982,\"1051\":1987,\"1052\":1992,\"1053\":1997,\"1054\":2002,\"1055\":2007,\"1056\":1952,\"1057\":1957,\"1058\":1962,\"1059\":1967,\"1060\":1972,\"1061\":1977,\"1062\":1982,\"1063\":1987,\"1064\":1992,\"1065\":1997,\"1066\":2002,\"1067\":2007,\"1068\":1952,\"1069\":1957,\"1070\":1962,\"1071\":1967,\"1072\":1972,\"1073\":1977,\"1074\":1982,\"1075\":1987,\"1076\":1992,\"1077\":1997,\"1078\":2002,\"1079\":2007,\"1080\":1952,\"1081\":1957,\"1082\":1962,\"1083\":1967,\"1084\":1972,\"1085\":1977,\"1086\":1982,\"1087\":1987,\"1088\":1992,\"1089\":1997,\"1090\":2002,\"1091\":2007,\"1092\":1952,\"1093\":1957,\"1094\":1962,\"1095\":1967,\"1096\":1972,\"1097\":1977,\"1098\":1982,\"1099\":1987,\"1100\":1992,\"1101\":1997,\"1102\":2002,\"1103\":2007,\"1104\":1952,\"1105\":1957,\"1106\":1962,\"1107\":1967,\"1108\":1972,\"1109\":1977,\"1110\":1982,\"1111\":1987,\"1112\":1992,\"1113\":1997,\"1114\":2002,\"1115\":2007,\"1116\":1952,\"1117\":1957,\"1118\":1962,\"1119\":1967,\"1120\":1972,\"1121\":1977,\"1122\":1982,\"1123\":1987,\"1124\":1992,\"1125\":1997,\"1126\":2002,\"1127\":2007,\"1128\":1952,\"1129\":1957,\"1130\":1962,\"1131\":1967,\"1132\":1972,\"1133\":1977,\"1134\":1982,\"1135\":1987,\"1136\":1992,\"1137\":1997,\"1138\":2002,\"1139\":2007,\"1140\":1952,\"1141\":1957,\"1142\":1962,\"1143\":1967,\"1144\":1972,\"1145\":1977,\"1146\":1982,\"1147\":1987,\"1148\":1992,\"1149\":1997,\"1150\":2002,\"1151\":2007,\"1152\":1952,\"1153\":1957,\"1154\":1962,\"1155\":1967,\"1156\":1972,\"1157\":1977,\"1158\":1982,\"1159\":1987,\"1160\":1992,\"1161\":1997,\"1162\":2002,\"1163\":2007,\"1164\":1952,\"1165\":1957,\"1166\":1962,\"1167\":1967,\"1168\":1972,\"1169\":1977,\"1170\":1982,\"1171\":1987,\"1172\":1992,\"1173\":1997,\"1174\":2002,\"1175\":2007,\"1176\":1952,\"1177\":1957,\"1178\":1962,\"1179\":1967,\"1180\":1972,\"1181\":1977,\"1182\":1982,\"1183\":1987,\"1184\":1992,\"1185\":1997,\"1186\":2002,\"1187\":2007,\"1188\":1952,\"1189\":1957,\"1190\":1962,\"1191\":1967,\"1192\":1972,\"1193\":1977,\"1194\":1982,\"1195\":1987,\"1196\":1992,\"1197\":1997,\"1198\":2002,\"1199\":2007,\"1200\":1952,\"1201\":1957,\"1202\":1962,\"1203\":1967,\"1204\":1972,\"1205\":1977,\"1206\":1982,\"1207\":1987,\"1208\":1992,\"1209\":1997,\"1210\":2002,\"1211\":2007,\"1212\":1952,\"1213\":1957,\"1214\":1962,\"1215\":1967,\"1216\":1972,\"1217\":1977,\"1218\":1982,\"1219\":1987,\"1220\":1992,\"1221\":1997,\"1222\":2002,\"1223\":2007,\"1224\":1952,\"1225\":1957,\"1226\":1962,\"1227\":1967,\"1228\":1972,\"1229\":1977,\"1230\":1982,\"1231\":1987,\"1232\":1992,\"1233\":1997,\"1234\":2002,\"1235\":2007,\"1236\":1952,\"1237\":1957,\"1238\":1962,\"1239\":1967,\"1240\":1972,\"1241\":1977,\"1242\":1982,\"1243\":1987,\"1244\":1992,\"1245\":1997,\"1246\":2002,\"1247\":2007,\"1248\":1952,\"1249\":1957,\"1250\":1962,\"1251\":1967,\"1252\":1972,\"1253\":1977,\"1254\":1982,\"1255\":1987,\"1256\":1992,\"1257\":1997,\"1258\":2002,\"1259\":2007,\"1260\":1952,\"1261\":1957,\"1262\":1962,\"1263\":1967,\"1264\":1972,\"1265\":1977,\"1266\":1982,\"1267\":1987,\"1268\":1992,\"1269\":1997,\"1270\":2002,\"1271\":2007,\"1272\":1952,\"1273\":1957,\"1274\":1962,\"1275\":1967,\"1276\":1972,\"1277\":1977,\"1278\":1982,\"1279\":1987,\"1280\":1992,\"1281\":1997,\"1282\":2002,\"1283\":2007,\"1284\":1952,\"1285\":1957,\"1286\":1962,\"1287\":1967,\"1288\":1972,\"1289\":1977,\"1290\":1982,\"1291\":1987,\"1292\":1992,\"1293\":1997,\"1294\":2002,\"1295\":2007,\"1296\":1952,\"1297\":1957,\"1298\":1962,\"1299\":1967,\"1300\":1972,\"1301\":1977,\"1302\":1982,\"1303\":1987,\"1304\":1992,\"1305\":1997,\"1306\":2002,\"1307\":2007,\"1308\":1952,\"1309\":1957,\"1310\":1962,\"1311\":1967,\"1312\":1972,\"1313\":1977,\"1314\":1982,\"1315\":1987,\"1316\":1992,\"1317\":1997,\"1318\":2002,\"1319\":2007,\"1320\":1952,\"1321\":1957,\"1322\":1962,\"1323\":1967,\"1324\":1972,\"1325\":1977,\"1326\":1982,\"1327\":1987,\"1328\":1992,\"1329\":1997,\"1330\":2002,\"1331\":2007,\"1332\":1952,\"1333\":1957,\"1334\":1962,\"1335\":1967,\"1336\":1972,\"1337\":1977,\"1338\":1982,\"1339\":1987,\"1340\":1992,\"1341\":1997,\"1342\":2002,\"1343\":2007,\"1344\":1952,\"1345\":1957,\"1346\":1962,\"1347\":1967,\"1348\":1972,\"1349\":1977,\"1350\":1982,\"1351\":1987,\"1352\":1992,\"1353\":1997,\"1354\":2002,\"1355\":2007,\"1356\":1952,\"1357\":1957,\"1358\":1962,\"1359\":1967,\"1360\":1972,\"1361\":1977,\"1362\":1982,\"1363\":1987,\"1364\":1992,\"1365\":1997,\"1366\":2002,\"1367\":2007,\"1368\":1952,\"1369\":1957,\"1370\":1962,\"1371\":1967,\"1372\":1972,\"1373\":1977,\"1374\":1982,\"1375\":1987,\"1376\":1992,\"1377\":1997,\"1378\":2002,\"1379\":2007,\"1380\":1952,\"1381\":1957,\"1382\":1962,\"1383\":1967,\"1384\":1972,\"1385\":1977,\"1386\":1982,\"1387\":1987,\"1388\":1992,\"1389\":1997,\"1390\":2002,\"1391\":2007,\"1392\":1952,\"1393\":1957,\"1394\":1962,\"1395\":1967,\"1396\":1972,\"1397\":1977,\"1398\":1982,\"1399\":1987,\"1400\":1992,\"1401\":1997,\"1402\":2002,\"1403\":2007,\"1404\":1952,\"1405\":1957,\"1406\":1962,\"1407\":1967,\"1408\":1972,\"1409\":1977,\"1410\":1982,\"1411\":1987,\"1412\":1992,\"1413\":1997,\"1414\":2002,\"1415\":2007,\"1416\":1952,\"1417\":1957,\"1418\":1962,\"1419\":1967,\"1420\":1972,\"1421\":1977,\"1422\":1982,\"1423\":1987,\"1424\":1992,\"1425\":1997,\"1426\":2002,\"1427\":2007,\"1428\":1952,\"1429\":1957,\"1430\":1962,\"1431\":1967,\"1432\":1972,\"1433\":1977,\"1434\":1982,\"1435\":1987,\"1436\":1992,\"1437\":1997,\"1438\":2002,\"1439\":2007,\"1440\":1952,\"1441\":1957,\"1442\":1962,\"1443\":1967,\"1444\":1972,\"1445\":1977,\"1446\":1982,\"1447\":1987,\"1448\":1992,\"1449\":1997,\"1450\":2002,\"1451\":2007,\"1452\":1952,\"1453\":1957,\"1454\":1962,\"1455\":1967,\"1456\":1972,\"1457\":1977,\"1458\":1982,\"1459\":1987,\"1460\":1992,\"1461\":1997,\"1462\":2002,\"1463\":2007,\"1464\":1952,\"1465\":1957,\"1466\":1962,\"1467\":1967,\"1468\":1972,\"1469\":1977,\"1470\":1982,\"1471\":1987,\"1472\":1992,\"1473\":1997,\"1474\":2002,\"1475\":2007,\"1476\":1952,\"1477\":1957,\"1478\":1962,\"1479\":1967,\"1480\":1972,\"1481\":1977,\"1482\":1982,\"1483\":1987,\"1484\":1992,\"1485\":1997,\"1486\":2002,\"1487\":2007,\"1488\":1952,\"1489\":1957,\"1490\":1962,\"1491\":1967,\"1492\":1972,\"1493\":1977,\"1494\":1982,\"1495\":1987,\"1496\":1992,\"1497\":1997,\"1498\":2002,\"1499\":2007,\"1500\":1952,\"1501\":1957,\"1502\":1962,\"1503\":1967,\"1504\":1972,\"1505\":1977,\"1506\":1982,\"1507\":1987,\"1508\":1992,\"1509\":1997,\"1510\":2002,\"1511\":2007,\"1512\":1952,\"1513\":1957,\"1514\":1962,\"1515\":1967,\"1516\":1972,\"1517\":1977,\"1518\":1982,\"1519\":1987,\"1520\":1992,\"1521\":1997,\"1522\":2002,\"1523\":2007,\"1524\":1952,\"1525\":1957,\"1526\":1962,\"1527\":1967,\"1528\":1972,\"1529\":1977,\"1530\":1982,\"1531\":1987,\"1532\":1992,\"1533\":1997,\"1534\":2002,\"1535\":2007,\"1536\":1952,\"1537\":1957,\"1538\":1962,\"1539\":1967,\"1540\":1972,\"1541\":1977,\"1542\":1982,\"1543\":1987,\"1544\":1992,\"1545\":1997,\"1546\":2002,\"1547\":2007,\"1548\":1952,\"1549\":1957,\"1550\":1962,\"1551\":1967,\"1552\":1972,\"1553\":1977,\"1554\":1982,\"1555\":1987,\"1556\":1992,\"1557\":1997,\"1558\":2002,\"1559\":2007,\"1560\":1952,\"1561\":1957,\"1562\":1962,\"1563\":1967,\"1564\":1972,\"1565\":1977,\"1566\":1982,\"1567\":1987,\"1568\":1992,\"1569\":1997,\"1570\":2002,\"1571\":2007,\"1572\":1952,\"1573\":1957,\"1574\":1962,\"1575\":1967,\"1576\":1972,\"1577\":1977,\"1578\":1982,\"1579\":1987,\"1580\":1992,\"1581\":1997,\"1582\":2002,\"1583\":2007,\"1584\":1952,\"1585\":1957,\"1586\":1962,\"1587\":1967,\"1588\":1972,\"1589\":1977,\"1590\":1982,\"1591\":1987,\"1592\":1992,\"1593\":1997,\"1594\":2002,\"1595\":2007,\"1596\":1952,\"1597\":1957,\"1598\":1962,\"1599\":1967,\"1600\":1972,\"1601\":1977,\"1602\":1982,\"1603\":1987,\"1604\":1992,\"1605\":1997,\"1606\":2002,\"1607\":2007,\"1608\":1952,\"1609\":1957,\"1610\":1962,\"1611\":1967,\"1612\":1972,\"1613\":1977,\"1614\":1982,\"1615\":1987,\"1616\":1992,\"1617\":1997,\"1618\":2002,\"1619\":2007,\"1620\":1952,\"1621\":1957,\"1622\":1962,\"1623\":1967,\"1624\":1972,\"1625\":1977,\"1626\":1982,\"1627\":1987,\"1628\":1992,\"1629\":1997,\"1630\":2002,\"1631\":2007,\"1632\":1952,\"1633\":1957,\"1634\":1962,\"1635\":1967,\"1636\":1972,\"1637\":1977,\"1638\":1982,\"1639\":1987,\"1640\":1992,\"1641\":1997,\"1642\":2002,\"1643\":2007,\"1644\":1952,\"1645\":1957,\"1646\":1962,\"1647\":1967,\"1648\":1972,\"1649\":1977,\"1650\":1982,\"1651\":1987,\"1652\":1992,\"1653\":1997,\"1654\":2002,\"1655\":2007,\"1656\":1952,\"1657\":1957,\"1658\":1962,\"1659\":1967,\"1660\":1972,\"1661\":1977,\"1662\":1982,\"1663\":1987,\"1664\":1992,\"1665\":1997,\"1666\":2002,\"1667\":2007,\"1668\":1952,\"1669\":1957,\"1670\":1962,\"1671\":1967,\"1672\":1972,\"1673\":1977,\"1674\":1982,\"1675\":1987,\"1676\":1992,\"1677\":1997,\"1678\":2002,\"1679\":2007,\"1680\":1952,\"1681\":1957,\"1682\":1962,\"1683\":1967,\"1684\":1972,\"1685\":1977,\"1686\":1982,\"1687\":1987,\"1688\":1992,\"1689\":1997,\"1690\":2002,\"1691\":2007,\"1692\":1952,\"1693\":1957,\"1694\":1962,\"1695\":1967,\"1696\":1972,\"1697\":1977,\"1698\":1982,\"1699\":1987,\"1700\":1992,\"1701\":1997,\"1702\":2002,\"1703\":2007},\"lifeExp\":{\"0\":28.801,\"1\":30.332,\"2\":31.997,\"3\":34.02,\"4\":36.088,\"5\":38.438,\"6\":39.854,\"7\":40.822,\"8\":41.674,\"9\":41.763,\"10\":42.129,\"11\":43.828,\"12\":55.23,\"13\":59.28,\"14\":64.82,\"15\":66.22,\"16\":67.69,\"17\":68.93,\"18\":70.42,\"19\":72.0,\"20\":71.581,\"21\":72.95,\"22\":75.651,\"23\":76.423,\"24\":43.077,\"25\":45.685,\"26\":48.303,\"27\":51.407,\"28\":54.518,\"29\":58.014,\"30\":61.368,\"31\":65.799,\"32\":67.744,\"33\":69.152,\"34\":70.994,\"35\":72.301,\"36\":30.015,\"37\":31.999,\"38\":34.0,\"39\":35.985,\"40\":37.928,\"41\":39.483,\"42\":39.942,\"43\":39.906,\"44\":40.647,\"45\":40.963,\"46\":41.003,\"47\":42.731,\"48\":62.485,\"49\":64.399,\"50\":65.142,\"51\":65.634,\"52\":67.065,\"53\":68.481,\"54\":69.942,\"55\":70.774,\"56\":71.868,\"57\":73.275,\"58\":74.34,\"59\":75.32,\"60\":69.12,\"61\":70.33,\"62\":70.93,\"63\":71.1,\"64\":71.93,\"65\":73.49,\"66\":74.74,\"67\":76.32,\"68\":77.56,\"69\":78.83,\"70\":80.37,\"71\":81.235,\"72\":66.8,\"73\":67.48,\"74\":69.54,\"75\":70.14,\"76\":70.63,\"77\":72.17,\"78\":73.18,\"79\":74.94,\"80\":76.04,\"81\":77.51,\"82\":78.98,\"83\":79.829,\"84\":50.939,\"85\":53.832,\"86\":56.923,\"87\":59.923,\"88\":63.3,\"89\":65.593,\"90\":69.052,\"91\":70.75,\"92\":72.601,\"93\":73.925,\"94\":74.795,\"95\":75.635,\"96\":37.484,\"97\":39.348,\"98\":41.216,\"99\":43.453,\"100\":45.252,\"101\":46.923,\"102\":50.009,\"103\":52.819,\"104\":56.018,\"105\":59.412,\"106\":62.013,\"107\":64.062,\"108\":68.0,\"109\":69.24,\"110\":70.25,\"111\":70.94,\"112\":71.44,\"113\":72.8,\"114\":73.93,\"115\":75.35,\"116\":76.46,\"117\":77.53,\"118\":78.32,\"119\":79.441,\"120\":38.223,\"121\":40.358,\"122\":42.618,\"123\":44.885,\"124\":47.014,\"125\":49.19,\"126\":50.904,\"127\":52.337,\"128\":53.919,\"129\":54.777,\"130\":54.406,\"131\":56.728,\"132\":40.414,\"133\":41.89,\"134\":43.428,\"135\":45.032,\"136\":46.714,\"137\":50.023,\"138\":53.859,\"139\":57.251,\"140\":59.957,\"141\":62.05,\"142\":63.883,\"143\":65.554,\"144\":53.82,\"145\":58.45,\"146\":61.93,\"147\":64.79,\"148\":67.45,\"149\":69.86,\"150\":70.69,\"151\":71.14,\"152\":72.178,\"153\":73.244,\"154\":74.09,\"155\":74.852,\"156\":47.622,\"157\":49.618,\"158\":51.52,\"159\":53.298,\"160\":56.024,\"161\":59.319,\"162\":61.484,\"163\":63.622,\"164\":62.745,\"165\":52.556,\"166\":46.634,\"167\":50.728,\"168\":50.917,\"169\":53.285,\"170\":55.665,\"171\":57.632,\"172\":59.504,\"173\":61.489,\"174\":63.336,\"175\":65.205,\"176\":67.057,\"177\":69.388,\"178\":71.006,\"179\":72.39,\"180\":59.6,\"181\":66.61,\"182\":69.51,\"183\":70.42,\"184\":70.9,\"185\":70.81,\"186\":71.08,\"187\":71.34,\"188\":71.19,\"189\":70.32,\"190\":72.14,\"191\":73.005,\"192\":31.975,\"193\":34.906,\"194\":37.814,\"195\":40.697,\"196\":43.591,\"197\":46.137,\"198\":48.122,\"199\":49.557,\"200\":50.26,\"201\":50.324,\"202\":50.65,\"203\":52.295,\"204\":39.031,\"205\":40.533,\"206\":42.045,\"207\":43.548,\"208\":44.057,\"209\":45.91,\"210\":47.471,\"211\":48.211,\"212\":44.736,\"213\":45.326,\"214\":47.36,\"215\":49.58,\"216\":39.417,\"217\":41.366,\"218\":43.415,\"219\":45.415,\"220\":40.317,\"221\":31.22,\"222\":50.957,\"223\":53.914,\"224\":55.803,\"225\":56.534,\"226\":56.752,\"227\":59.723,\"228\":38.523,\"229\":40.428,\"230\":42.643,\"231\":44.799,\"232\":47.049,\"233\":49.355,\"234\":52.961,\"235\":54.985,\"236\":54.314,\"237\":52.199,\"238\":49.856,\"239\":50.43,\"240\":68.75,\"241\":69.96,\"242\":71.3,\"243\":72.13,\"244\":72.88,\"245\":74.21,\"246\":75.76,\"247\":76.86,\"248\":77.95,\"249\":78.61,\"250\":79.77,\"251\":80.653,\"252\":35.463,\"253\":37.464,\"254\":39.475,\"255\":41.478,\"256\":43.457,\"257\":46.775,\"258\":48.295,\"259\":50.485,\"260\":49.396,\"261\":46.066,\"262\":43.308,\"263\":44.741,\"264\":38.092,\"265\":39.881,\"266\":41.716,\"267\":43.601,\"268\":45.569,\"269\":47.383,\"270\":49.517,\"271\":51.051,\"272\":51.724,\"273\":51.573,\"274\":50.525,\"275\":50.651,\"276\":54.745,\"277\":56.074,\"278\":57.924,\"279\":60.523,\"280\":63.441,\"281\":67.052,\"282\":70.565,\"283\":72.492,\"284\":74.126,\"285\":75.816,\"286\":77.86,\"287\":78.553,\"288\":44.0,\"289\":50.54896,\"290\":44.50136,\"291\":58.38112,\"292\":63.11888,\"293\":63.96736,\"294\":65.525,\"295\":67.274,\"296\":68.69,\"297\":70.426,\"298\":72.028,\"299\":72.961,\"300\":50.643,\"301\":55.118,\"302\":57.863,\"303\":59.963,\"304\":61.623,\"305\":63.837,\"306\":66.653,\"307\":67.768,\"308\":68.421,\"309\":70.313,\"310\":71.682,\"311\":72.889,\"312\":40.715,\"313\":42.46,\"314\":44.467,\"315\":46.472,\"316\":48.944,\"317\":50.939,\"318\":52.933,\"319\":54.926,\"320\":57.939,\"321\":60.66,\"322\":62.974,\"323\":65.152,\"324\":39.143,\"325\":40.652,\"326\":42.122,\"327\":44.056,\"328\":45.989,\"329\":47.804,\"330\":47.784,\"331\":47.412,\"332\":45.548,\"333\":42.587,\"334\":44.966,\"335\":46.462,\"336\":42.111,\"337\":45.053,\"338\":48.435,\"339\":52.04,\"340\":54.907,\"341\":55.625,\"342\":56.695,\"343\":57.47,\"344\":56.433,\"345\":52.962,\"346\":52.97,\"347\":55.322,\"348\":57.206,\"349\":60.026,\"350\":62.842,\"351\":65.424,\"352\":67.849,\"353\":70.75,\"354\":73.45,\"355\":74.752,\"356\":75.713,\"357\":77.26,\"358\":78.123,\"359\":78.782,\"360\":40.477,\"361\":42.469,\"362\":44.93,\"363\":47.35,\"364\":49.801,\"365\":52.374,\"366\":53.983,\"367\":54.655,\"368\":52.044,\"369\":47.991,\"370\":46.832,\"371\":48.328,\"372\":61.21,\"373\":64.77,\"374\":67.13,\"375\":68.5,\"376\":69.61,\"377\":70.64,\"378\":70.46,\"379\":71.52,\"380\":72.527,\"381\":73.68,\"382\":74.876,\"383\":75.748,\"384\":59.421,\"385\":62.325,\"386\":65.246,\"387\":68.29,\"388\":70.723,\"389\":72.649,\"390\":73.717,\"391\":74.174,\"392\":74.414,\"393\":76.151,\"394\":77.158,\"395\":78.273,\"396\":66.87,\"397\":69.03,\"398\":69.9,\"399\":70.38,\"400\":70.29,\"401\":70.71,\"402\":70.96,\"403\":71.58,\"404\":72.4,\"405\":74.01,\"406\":75.51,\"407\":76.486,\"408\":70.78,\"409\":71.81,\"410\":72.35,\"411\":72.96,\"412\":73.47,\"413\":74.69,\"414\":74.63,\"415\":74.8,\"416\":75.33,\"417\":76.11,\"418\":77.18,\"419\":78.332,\"420\":34.812,\"421\":37.328,\"422\":39.693,\"423\":42.074,\"424\":44.366,\"425\":46.519,\"426\":48.812,\"427\":50.04,\"428\":51.604,\"429\":53.157,\"430\":53.373,\"431\":54.791,\"432\":45.928,\"433\":49.828,\"434\":53.459,\"435\":56.751,\"436\":59.631,\"437\":61.788,\"438\":63.727,\"439\":66.046,\"440\":68.457,\"441\":69.957,\"442\":70.847,\"443\":72.235,\"444\":48.357,\"445\":51.356,\"446\":54.64,\"447\":56.678,\"448\":58.796,\"449\":61.31,\"450\":64.342,\"451\":67.231,\"452\":69.613,\"453\":72.312,\"454\":74.173,\"455\":74.994,\"456\":41.893,\"457\":44.444,\"458\":46.992,\"459\":49.293,\"460\":51.137,\"461\":53.319,\"462\":56.006,\"463\":59.797,\"464\":63.674,\"465\":67.217,\"466\":69.806,\"467\":71.338,\"468\":45.262,\"469\":48.57,\"470\":52.307,\"471\":55.855,\"472\":58.207,\"473\":56.696,\"474\":56.604,\"475\":63.154,\"476\":66.798,\"477\":69.535,\"478\":70.734,\"479\":71.878,\"480\":34.482,\"481\":35.983,\"482\":37.485,\"483\":38.987,\"484\":40.516,\"485\":42.024,\"486\":43.662,\"487\":45.664,\"488\":47.545,\"489\":48.245,\"490\":49.348,\"491\":51.579,\"492\":35.928,\"493\":38.047,\"494\":40.158,\"495\":42.189,\"496\":44.142,\"497\":44.535,\"498\":43.89,\"499\":46.453,\"500\":49.991,\"501\":53.378,\"502\":55.24,\"503\":58.04,\"504\":34.078,\"505\":36.667,\"506\":40.059,\"507\":42.115,\"508\":43.515,\"509\":44.51,\"510\":44.916,\"511\":46.684,\"512\":48.091,\"513\":49.402,\"514\":50.725,\"515\":52.947,\"516\":66.55,\"517\":67.49,\"518\":68.75,\"519\":69.83,\"520\":70.87,\"521\":72.52,\"522\":74.55,\"523\":74.83,\"524\":75.7,\"525\":77.13,\"526\":78.37,\"527\":79.313,\"528\":67.41,\"529\":68.93,\"530\":70.51,\"531\":71.55,\"532\":72.38,\"533\":73.83,\"534\":74.89,\"535\":76.34,\"536\":77.46,\"537\":78.64,\"538\":79.59,\"539\":80.657,\"540\":37.003,\"541\":38.999,\"542\":40.489,\"543\":44.598,\"544\":48.69,\"545\":52.79,\"546\":56.564,\"547\":60.19,\"548\":61.366,\"549\":60.461,\"550\":56.761,\"551\":56.735,\"552\":30.0,\"553\":32.065,\"554\":33.896,\"555\":35.857,\"556\":38.308,\"557\":41.842,\"558\":45.58,\"559\":49.265,\"560\":52.644,\"561\":55.861,\"562\":58.041,\"563\":59.448,\"564\":67.5,\"565\":69.1,\"566\":70.3,\"567\":70.8,\"568\":71.0,\"569\":72.5,\"570\":73.8,\"571\":74.847,\"572\":76.07,\"573\":77.34,\"574\":78.67,\"575\":79.406,\"576\":43.149,\"577\":44.779,\"578\":46.452,\"579\":48.072,\"580\":49.875,\"581\":51.756,\"582\":53.744,\"583\":55.729,\"584\":57.501,\"585\":58.556,\"586\":58.453,\"587\":60.022,\"588\":65.86,\"589\":67.86,\"590\":69.51,\"591\":71.0,\"592\":72.34,\"593\":73.68,\"594\":75.24,\"595\":76.67,\"596\":77.03,\"597\":77.869,\"598\":78.256,\"599\":79.483,\"600\":42.023,\"601\":44.142,\"602\":46.954,\"603\":50.016,\"604\":53.738,\"605\":56.029,\"606\":58.137,\"607\":60.782,\"608\":63.373,\"609\":66.322,\"610\":68.978,\"611\":70.259,\"612\":33.609,\"613\":34.558,\"614\":35.753,\"615\":37.197,\"616\":38.842,\"617\":40.762,\"618\":42.891,\"619\":45.552,\"620\":48.576,\"621\":51.455,\"622\":53.676,\"623\":56.007,\"624\":32.5,\"625\":33.489,\"626\":34.488,\"627\":35.492,\"628\":36.486,\"629\":37.465,\"630\":39.327,\"631\":41.245,\"632\":43.266,\"633\":44.873,\"634\":45.504,\"635\":46.388,\"636\":37.579,\"637\":40.696,\"638\":43.59,\"639\":46.243,\"640\":48.042,\"641\":49.923,\"642\":51.461,\"643\":53.636,\"644\":55.089,\"645\":56.671,\"646\":58.137,\"647\":60.916,\"648\":41.912,\"649\":44.665,\"650\":48.041,\"651\":50.924,\"652\":53.884,\"653\":57.402,\"654\":60.909,\"655\":64.492,\"656\":66.399,\"657\":67.659,\"658\":68.565,\"659\":70.198,\"660\":60.96,\"661\":64.75,\"662\":67.65,\"663\":70.0,\"664\":72.0,\"665\":73.6,\"666\":75.45,\"667\":76.2,\"668\":77.601,\"669\":80.0,\"670\":81.495,\"671\":82.208,\"672\":64.03,\"673\":66.41,\"674\":67.96,\"675\":69.5,\"676\":69.76,\"677\":69.95,\"678\":69.39,\"679\":69.58,\"680\":69.17,\"681\":71.04,\"682\":72.59,\"683\":73.338,\"684\":72.49,\"685\":73.47,\"686\":73.68,\"687\":73.73,\"688\":74.46,\"689\":76.11,\"690\":76.99,\"691\":77.23,\"692\":78.77,\"693\":78.95,\"694\":80.5,\"695\":81.757,\"696\":37.373,\"697\":40.249,\"698\":43.605,\"699\":47.193,\"700\":50.651,\"701\":54.208,\"702\":56.596,\"703\":58.553,\"704\":60.223,\"705\":61.765,\"706\":62.879,\"707\":64.698,\"708\":37.468,\"709\":39.918,\"710\":42.518,\"711\":45.964,\"712\":49.203,\"713\":52.702,\"714\":56.159,\"715\":60.137,\"716\":62.681,\"717\":66.041,\"718\":68.588,\"719\":70.65,\"720\":44.869,\"721\":47.181,\"722\":49.325,\"723\":52.469,\"724\":55.234,\"725\":57.702,\"726\":59.62,\"727\":63.04,\"728\":65.742,\"729\":68.042,\"730\":69.451,\"731\":70.964,\"732\":45.32,\"733\":48.437,\"734\":51.457,\"735\":54.459,\"736\":56.95,\"737\":60.413,\"738\":62.038,\"739\":65.044,\"740\":59.461,\"741\":58.811,\"742\":57.046,\"743\":59.545,\"744\":66.91,\"745\":68.9,\"746\":70.29,\"747\":71.08,\"748\":71.28,\"749\":72.03,\"750\":73.1,\"751\":74.36,\"752\":75.467,\"753\":76.122,\"754\":77.783,\"755\":78.885,\"756\":65.39,\"757\":67.84,\"758\":69.39,\"759\":70.75,\"760\":71.63,\"761\":73.06,\"762\":74.45,\"763\":75.6,\"764\":76.93,\"765\":78.269,\"766\":79.696,\"767\":80.745,\"768\":65.94,\"769\":67.81,\"770\":69.24,\"771\":71.06,\"772\":72.19,\"773\":73.48,\"774\":74.98,\"775\":76.42,\"776\":77.44,\"777\":78.82,\"778\":80.24,\"779\":80.546,\"780\":58.53,\"781\":62.61,\"782\":65.61,\"783\":67.51,\"784\":69.0,\"785\":70.11,\"786\":71.21,\"787\":71.77,\"788\":71.766,\"789\":72.262,\"790\":72.047,\"791\":72.567,\"792\":63.03,\"793\":65.5,\"794\":68.73,\"795\":71.43,\"796\":73.42,\"797\":75.38,\"798\":77.11,\"799\":78.67,\"800\":79.36,\"801\":80.69,\"802\":82.0,\"803\":82.603,\"804\":43.158,\"805\":45.669,\"806\":48.126,\"807\":51.629,\"808\":56.528,\"809\":61.134,\"810\":63.739,\"811\":65.869,\"812\":68.015,\"813\":69.772,\"814\":71.263,\"815\":72.535,\"816\":42.27,\"817\":44.686,\"818\":47.949,\"819\":50.654,\"820\":53.559,\"821\":56.155,\"822\":58.766,\"823\":59.339,\"824\":59.285,\"825\":54.407,\"826\":50.992,\"827\":54.11,\"828\":50.056,\"829\":54.081,\"830\":56.656,\"831\":59.942,\"832\":63.983,\"833\":67.159,\"834\":69.1,\"835\":70.647,\"836\":69.978,\"837\":67.727,\"838\":66.662,\"839\":67.297,\"840\":47.453,\"841\":52.681,\"842\":55.292,\"843\":57.716,\"844\":62.612,\"845\":64.766,\"846\":67.123,\"847\":69.81,\"848\":72.244,\"849\":74.647,\"850\":77.045,\"851\":78.623,\"852\":55.565,\"853\":58.033,\"854\":60.47,\"855\":64.624,\"856\":67.712,\"857\":69.343,\"858\":71.309,\"859\":74.174,\"860\":75.19,\"861\":76.156,\"862\":76.904,\"863\":77.588,\"864\":55.928,\"865\":59.489,\"866\":62.094,\"867\":63.87,\"868\":65.421,\"869\":66.099,\"870\":66.983,\"871\":67.926,\"872\":69.292,\"873\":70.265,\"874\":71.028,\"875\":71.993,\"876\":42.138,\"877\":45.047,\"878\":47.747,\"879\":48.492,\"880\":49.767,\"881\":52.208,\"882\":55.078,\"883\":57.18,\"884\":59.685,\"885\":55.558,\"886\":44.593,\"887\":42.592,\"888\":38.48,\"889\":39.486,\"890\":40.502,\"891\":41.536,\"892\":42.614,\"893\":43.764,\"894\":44.852,\"895\":46.027,\"896\":40.802,\"897\":42.221,\"898\":43.753,\"899\":45.678,\"900\":42.723,\"901\":45.289,\"902\":47.808,\"903\":50.227,\"904\":52.773,\"905\":57.442,\"906\":62.155,\"907\":66.234,\"908\":68.755,\"909\":71.555,\"910\":72.737,\"911\":73.952,\"912\":36.681,\"913\":38.865,\"914\":40.848,\"915\":42.881,\"916\":44.851,\"917\":46.881,\"918\":48.969,\"919\":49.35,\"920\":52.214,\"921\":54.978,\"922\":57.286,\"923\":59.443,\"924\":36.256,\"925\":37.207,\"926\":38.41,\"927\":39.487,\"928\":41.766,\"929\":43.767,\"930\":45.642,\"931\":47.457,\"932\":49.42,\"933\":47.495,\"934\":45.009,\"935\":48.303,\"936\":48.463,\"937\":52.102,\"938\":55.737,\"939\":59.371,\"940\":63.01,\"941\":65.256,\"942\":68.0,\"943\":69.5,\"944\":70.693,\"945\":71.938,\"946\":73.044,\"947\":74.241,\"948\":33.685,\"949\":35.307,\"950\":36.936,\"951\":38.487,\"952\":39.977,\"953\":41.714,\"954\":43.916,\"955\":46.364,\"956\":48.388,\"957\":49.903,\"958\":51.818,\"959\":54.467,\"960\":40.543,\"961\":42.338,\"962\":44.248,\"963\":46.289,\"964\":48.437,\"965\":50.852,\"966\":53.599,\"967\":56.145,\"968\":58.333,\"969\":60.43,\"970\":62.247,\"971\":64.164,\"972\":50.986,\"973\":58.089,\"974\":60.246,\"975\":61.557,\"976\":62.944,\"977\":64.93,\"978\":66.711,\"979\":68.74,\"980\":69.745,\"981\":70.736,\"982\":71.954,\"983\":72.801,\"984\":50.789,\"985\":55.19,\"986\":58.299,\"987\":60.11,\"988\":62.361,\"989\":65.032,\"990\":67.405,\"991\":69.498,\"992\":71.455,\"993\":73.67,\"994\":74.902,\"995\":76.195,\"996\":42.244,\"997\":45.248,\"998\":48.251,\"999\":51.253,\"1000\":53.754,\"1001\":55.491,\"1002\":57.489,\"1003\":60.222,\"1004\":61.271,\"1005\":63.625,\"1006\":65.033,\"1007\":66.803,\"1008\":59.164,\"1009\":61.448,\"1010\":63.728,\"1011\":67.178,\"1012\":70.636,\"1013\":73.066,\"1014\":74.101,\"1015\":74.865,\"1016\":75.435,\"1017\":75.445,\"1018\":73.981,\"1019\":74.543,\"1020\":42.873,\"1021\":45.423,\"1022\":47.924,\"1023\":50.335,\"1024\":52.862,\"1025\":55.73,\"1026\":59.65,\"1027\":62.677,\"1028\":65.393,\"1029\":67.66,\"1030\":69.615,\"1031\":71.164,\"1032\":31.286,\"1033\":33.779,\"1034\":36.161,\"1035\":38.113,\"1036\":40.328,\"1037\":42.495,\"1038\":42.795,\"1039\":42.861,\"1040\":44.284,\"1041\":46.344,\"1042\":44.026,\"1043\":42.082,\"1044\":36.319,\"1045\":41.905,\"1046\":45.108,\"1047\":49.379,\"1048\":53.07,\"1049\":56.059,\"1050\":58.056,\"1051\":58.339,\"1052\":59.32,\"1053\":60.328,\"1054\":59.908,\"1055\":62.069,\"1056\":41.725,\"1057\":45.226,\"1058\":48.386,\"1059\":51.159,\"1060\":53.867,\"1061\":56.437,\"1062\":58.968,\"1063\":60.835,\"1064\":61.999,\"1065\":58.909,\"1066\":51.479,\"1067\":52.906,\"1068\":36.157,\"1069\":37.686,\"1070\":39.393,\"1071\":41.472,\"1072\":43.971,\"1073\":46.748,\"1074\":49.594,\"1075\":52.537,\"1076\":55.727,\"1077\":59.426,\"1078\":61.34,\"1079\":63.785,\"1080\":72.13,\"1081\":72.99,\"1082\":73.23,\"1083\":73.82,\"1084\":73.75,\"1085\":75.24,\"1086\":76.05,\"1087\":76.83,\"1088\":77.42,\"1089\":78.03,\"1090\":78.53,\"1091\":79.762,\"1092\":69.39,\"1093\":70.26,\"1094\":71.24,\"1095\":71.52,\"1096\":71.89,\"1097\":72.22,\"1098\":73.84,\"1099\":74.32,\"1100\":76.33,\"1101\":77.55,\"1102\":79.11,\"1103\":80.204,\"1104\":42.314,\"1105\":45.432,\"1106\":48.632,\"1107\":51.884,\"1108\":55.151,\"1109\":57.47,\"1110\":59.298,\"1111\":62.008,\"1112\":65.843,\"1113\":68.426,\"1114\":70.836,\"1115\":72.899,\"1116\":37.444,\"1117\":38.598,\"1118\":39.487,\"1119\":40.118,\"1120\":40.546,\"1121\":41.291,\"1122\":42.598,\"1123\":44.555,\"1124\":47.391,\"1125\":51.313,\"1126\":54.496,\"1127\":56.867,\"1128\":36.324,\"1129\":37.802,\"1130\":39.36,\"1131\":41.04,\"1132\":42.821,\"1133\":44.514,\"1134\":45.826,\"1135\":46.886,\"1136\":47.472,\"1137\":47.464,\"1138\":46.608,\"1139\":46.859,\"1140\":72.67,\"1141\":73.44,\"1142\":73.47,\"1143\":74.08,\"1144\":74.34,\"1145\":75.37,\"1146\":75.97,\"1147\":75.89,\"1148\":77.32,\"1149\":78.32,\"1150\":79.05,\"1151\":80.196,\"1152\":37.578,\"1153\":40.08,\"1154\":43.165,\"1155\":46.988,\"1156\":52.143,\"1157\":57.367,\"1158\":62.728,\"1159\":67.734,\"1160\":71.197,\"1161\":72.499,\"1162\":74.193,\"1163\":75.64,\"1164\":43.436,\"1165\":45.557,\"1166\":47.67,\"1167\":49.8,\"1168\":51.929,\"1169\":54.043,\"1170\":56.158,\"1171\":58.245,\"1172\":60.838,\"1173\":61.818,\"1174\":63.61,\"1175\":65.483,\"1176\":55.191,\"1177\":59.201,\"1178\":61.817,\"1179\":64.071,\"1180\":66.216,\"1181\":68.681,\"1182\":70.472,\"1183\":71.523,\"1184\":72.462,\"1185\":73.738,\"1186\":74.712,\"1187\":75.537,\"1188\":62.649,\"1189\":63.196,\"1190\":64.361,\"1191\":64.951,\"1192\":65.815,\"1193\":66.353,\"1194\":66.874,\"1195\":67.378,\"1196\":68.225,\"1197\":69.4,\"1198\":70.755,\"1199\":71.752,\"1200\":43.902,\"1201\":46.263,\"1202\":49.096,\"1203\":51.445,\"1204\":55.448,\"1205\":58.447,\"1206\":61.406,\"1207\":64.134,\"1208\":66.458,\"1209\":68.386,\"1210\":69.906,\"1211\":71.421,\"1212\":47.752,\"1213\":51.334,\"1214\":54.757,\"1215\":56.393,\"1216\":58.065,\"1217\":60.06,\"1218\":62.082,\"1219\":64.151,\"1220\":66.458,\"1221\":68.564,\"1222\":70.303,\"1223\":71.688,\"1224\":61.31,\"1225\":65.77,\"1226\":67.64,\"1227\":69.61,\"1228\":70.85,\"1229\":70.67,\"1230\":71.32,\"1231\":70.98,\"1232\":70.99,\"1233\":72.75,\"1234\":74.67,\"1235\":75.563,\"1236\":59.82,\"1237\":61.51,\"1238\":64.39,\"1239\":66.6,\"1240\":69.26,\"1241\":70.41,\"1242\":72.77,\"1243\":74.06,\"1244\":74.86,\"1245\":75.97,\"1246\":77.29,\"1247\":78.098,\"1248\":64.28,\"1249\":68.54,\"1250\":69.62,\"1251\":71.1,\"1252\":72.16,\"1253\":73.44,\"1254\":73.75,\"1255\":74.63,\"1256\":73.911,\"1257\":74.917,\"1258\":77.778,\"1259\":78.746,\"1260\":52.724,\"1261\":55.09,\"1262\":57.666,\"1263\":60.542,\"1264\":64.274,\"1265\":67.064,\"1266\":69.885,\"1267\":71.913,\"1268\":73.615,\"1269\":74.772,\"1270\":75.744,\"1271\":76.442,\"1272\":61.05,\"1273\":64.1,\"1274\":66.8,\"1275\":66.8,\"1276\":69.21,\"1277\":69.46,\"1278\":69.66,\"1279\":69.53,\"1280\":69.36,\"1281\":69.72,\"1282\":71.322,\"1283\":72.476,\"1284\":40.0,\"1285\":41.5,\"1286\":43.0,\"1287\":44.1,\"1288\":44.6,\"1289\":45.0,\"1290\":46.218,\"1291\":44.02,\"1292\":23.599,\"1293\":36.087,\"1294\":43.413,\"1295\":46.242,\"1296\":46.471,\"1297\":48.945,\"1298\":51.893,\"1299\":54.425,\"1300\":56.48,\"1301\":58.55,\"1302\":60.351,\"1303\":61.728,\"1304\":62.742,\"1305\":63.306,\"1306\":64.337,\"1307\":65.528,\"1308\":39.875,\"1309\":42.868,\"1310\":45.914,\"1311\":49.901,\"1312\":53.886,\"1313\":58.69,\"1314\":63.012,\"1315\":66.295,\"1316\":68.768,\"1317\":70.533,\"1318\":71.626,\"1319\":72.777,\"1320\":37.278,\"1321\":39.329,\"1322\":41.454,\"1323\":43.563,\"1324\":45.815,\"1325\":48.879,\"1326\":52.379,\"1327\":55.769,\"1328\":58.196,\"1329\":60.187,\"1330\":61.6,\"1331\":63.062,\"1332\":57.996,\"1333\":61.685,\"1334\":64.531,\"1335\":66.914,\"1336\":68.7,\"1337\":70.3,\"1338\":70.162,\"1339\":71.218,\"1340\":71.659,\"1341\":72.232,\"1342\":73.213,\"1343\":74.002,\"1344\":30.331,\"1345\":31.57,\"1346\":32.767,\"1347\":34.113,\"1348\":35.4,\"1349\":36.788,\"1350\":38.445,\"1351\":40.006,\"1352\":38.333,\"1353\":39.897,\"1354\":41.012,\"1355\":42.568,\"1356\":60.396,\"1357\":63.179,\"1358\":65.798,\"1359\":67.946,\"1360\":69.521,\"1361\":70.795,\"1362\":71.76,\"1363\":73.56,\"1364\":75.788,\"1365\":77.158,\"1366\":78.77,\"1367\":79.972,\"1368\":64.36,\"1369\":67.45,\"1370\":70.33,\"1371\":70.98,\"1372\":70.35,\"1373\":70.45,\"1374\":70.8,\"1375\":71.08,\"1376\":71.38,\"1377\":72.71,\"1378\":73.8,\"1379\":74.663,\"1380\":65.57,\"1381\":67.85,\"1382\":69.15,\"1383\":69.18,\"1384\":69.82,\"1385\":70.97,\"1386\":71.063,\"1387\":72.25,\"1388\":73.64,\"1389\":75.13,\"1390\":76.66,\"1391\":77.926,\"1392\":32.978,\"1393\":34.977,\"1394\":36.981,\"1395\":38.977,\"1396\":40.973,\"1397\":41.974,\"1398\":42.955,\"1399\":44.501,\"1400\":39.658,\"1401\":43.795,\"1402\":45.936,\"1403\":48.159,\"1404\":45.009,\"1405\":47.985,\"1406\":49.951,\"1407\":51.927,\"1408\":53.696,\"1409\":55.527,\"1410\":58.161,\"1411\":60.834,\"1412\":61.888,\"1413\":60.236,\"1414\":53.365,\"1415\":49.339,\"1416\":64.94,\"1417\":66.66,\"1418\":69.69,\"1419\":71.44,\"1420\":73.06,\"1421\":74.39,\"1422\":76.3,\"1423\":76.9,\"1424\":77.57,\"1425\":78.77,\"1426\":79.78,\"1427\":80.941,\"1428\":57.593,\"1429\":61.456,\"1430\":62.192,\"1431\":64.266,\"1432\":65.042,\"1433\":65.949,\"1434\":68.757,\"1435\":69.011,\"1436\":70.379,\"1437\":70.457,\"1438\":70.815,\"1439\":72.396,\"1440\":38.635,\"1441\":39.624,\"1442\":40.87,\"1443\":42.858,\"1444\":45.083,\"1445\":47.8,\"1446\":50.338,\"1447\":51.744,\"1448\":53.556,\"1449\":55.373,\"1450\":56.369,\"1451\":58.556,\"1452\":41.407,\"1453\":43.424,\"1454\":44.992,\"1455\":46.633,\"1456\":49.552,\"1457\":52.537,\"1458\":55.561,\"1459\":57.678,\"1460\":58.474,\"1461\":54.289,\"1462\":43.869,\"1463\":39.613,\"1464\":71.86,\"1465\":72.49,\"1466\":73.37,\"1467\":74.16,\"1468\":74.72,\"1469\":75.44,\"1470\":76.42,\"1471\":77.19,\"1472\":78.16,\"1473\":79.39,\"1474\":80.04,\"1475\":80.884,\"1476\":69.62,\"1477\":70.56,\"1478\":71.32,\"1479\":72.77,\"1480\":73.78,\"1481\":75.39,\"1482\":76.21,\"1483\":77.41,\"1484\":78.03,\"1485\":79.37,\"1486\":80.62,\"1487\":81.701,\"1488\":45.883,\"1489\":48.284,\"1490\":50.305,\"1491\":53.655,\"1492\":57.296,\"1493\":61.195,\"1494\":64.59,\"1495\":66.974,\"1496\":69.249,\"1497\":71.527,\"1498\":73.053,\"1499\":74.143,\"1500\":58.5,\"1501\":62.4,\"1502\":65.2,\"1503\":67.5,\"1504\":69.39,\"1505\":70.59,\"1506\":72.16,\"1507\":73.4,\"1508\":74.26,\"1509\":75.25,\"1510\":76.99,\"1511\":78.4,\"1512\":41.215,\"1513\":42.974,\"1514\":44.246,\"1515\":45.757,\"1516\":47.62,\"1517\":49.919,\"1518\":50.608,\"1519\":51.535,\"1520\":50.44,\"1521\":48.466,\"1522\":49.651,\"1523\":52.517,\"1524\":50.848,\"1525\":53.63,\"1526\":56.061,\"1527\":58.285,\"1528\":60.405,\"1529\":62.494,\"1530\":64.597,\"1531\":66.084,\"1532\":67.298,\"1533\":67.521,\"1534\":68.564,\"1535\":70.616,\"1536\":38.596,\"1537\":41.208,\"1538\":43.922,\"1539\":46.769,\"1540\":49.759,\"1541\":52.887,\"1542\":55.471,\"1543\":56.941,\"1544\":58.061,\"1545\":58.39,\"1546\":57.561,\"1547\":58.42,\"1548\":59.1,\"1549\":61.8,\"1550\":64.9,\"1551\":65.4,\"1552\":65.9,\"1553\":68.3,\"1554\":68.832,\"1555\":69.582,\"1556\":69.862,\"1557\":69.465,\"1558\":68.976,\"1559\":69.819,\"1560\":44.6,\"1561\":47.1,\"1562\":49.579,\"1563\":52.053,\"1564\":55.602,\"1565\":59.837,\"1566\":64.048,\"1567\":66.894,\"1568\":70.001,\"1569\":71.973,\"1570\":73.042,\"1571\":73.923,\"1572\":43.585,\"1573\":48.079,\"1574\":52.098,\"1575\":54.336,\"1576\":57.005,\"1577\":59.507,\"1578\":61.036,\"1579\":63.108,\"1580\":66.146,\"1581\":68.835,\"1582\":70.845,\"1583\":71.777,\"1584\":39.978,\"1585\":42.571,\"1586\":45.344,\"1587\":48.051,\"1588\":51.016,\"1589\":50.35,\"1590\":49.849,\"1591\":51.509,\"1592\":48.825,\"1593\":44.578,\"1594\":47.813,\"1595\":51.542,\"1596\":69.18,\"1597\":70.42,\"1598\":70.76,\"1599\":71.36,\"1600\":72.01,\"1601\":72.76,\"1602\":74.04,\"1603\":75.007,\"1604\":76.42,\"1605\":77.218,\"1606\":78.471,\"1607\":79.425,\"1608\":68.44,\"1609\":69.49,\"1610\":70.21,\"1611\":70.76,\"1612\":71.34,\"1613\":73.38,\"1614\":74.65,\"1615\":75.02,\"1616\":76.09,\"1617\":76.81,\"1618\":77.31,\"1619\":78.242,\"1620\":66.071,\"1621\":67.044,\"1622\":68.253,\"1623\":68.468,\"1624\":68.673,\"1625\":69.481,\"1626\":70.805,\"1627\":71.918,\"1628\":72.752,\"1629\":74.223,\"1630\":75.307,\"1631\":76.384,\"1632\":55.088,\"1633\":57.907,\"1634\":60.77,\"1635\":63.479,\"1636\":65.712,\"1637\":67.456,\"1638\":68.557,\"1639\":70.19,\"1640\":71.15,\"1641\":72.146,\"1642\":72.766,\"1643\":73.747,\"1644\":40.412,\"1645\":42.887,\"1646\":45.363,\"1647\":47.838,\"1648\":50.254,\"1649\":55.764,\"1650\":58.816,\"1651\":62.82,\"1652\":67.662,\"1653\":70.672,\"1654\":73.017,\"1655\":74.249,\"1656\":43.16,\"1657\":45.671,\"1658\":48.127,\"1659\":51.631,\"1660\":56.532,\"1661\":60.765,\"1662\":64.406,\"1663\":67.046,\"1664\":69.718,\"1665\":71.096,\"1666\":72.37,\"1667\":73.422,\"1668\":32.548,\"1669\":33.97,\"1670\":35.18,\"1671\":36.984,\"1672\":39.848,\"1673\":44.175,\"1674\":49.113,\"1675\":52.922,\"1676\":55.599,\"1677\":58.02,\"1678\":60.308,\"1679\":62.698,\"1680\":42.038,\"1681\":44.077,\"1682\":46.023,\"1683\":47.768,\"1684\":50.107,\"1685\":51.386,\"1686\":51.821,\"1687\":50.821,\"1688\":46.1,\"1689\":40.238,\"1690\":39.193,\"1691\":42.384,\"1692\":48.451,\"1693\":50.469,\"1694\":52.358,\"1695\":53.995,\"1696\":55.635,\"1697\":57.674,\"1698\":60.363,\"1699\":62.351,\"1700\":60.377,\"1701\":46.809,\"1702\":39.989,\"1703\":43.487},\"pop\":{\"0\":8425333,\"1\":9240934,\"2\":10267083,\"3\":11537966,\"4\":13079460,\"5\":14880372,\"6\":12881816,\"7\":13867957,\"8\":16317921,\"9\":22227415,\"10\":25268405,\"11\":31889923,\"12\":1282697,\"13\":1476505,\"14\":1728137,\"15\":1984060,\"16\":2263554,\"17\":2509048,\"18\":2780097,\"19\":3075321,\"20\":3326498,\"21\":3428038,\"22\":3508512,\"23\":3600523,\"24\":9279525,\"25\":10270856,\"26\":11000948,\"27\":12760499,\"28\":14760787,\"29\":17152804,\"30\":20033753,\"31\":23254956,\"32\":26298373,\"33\":29072015,\"34\":31287142,\"35\":33333216,\"36\":4232095,\"37\":4561361,\"38\":4826015,\"39\":5247469,\"40\":5894858,\"41\":6162675,\"42\":7016384,\"43\":7874230,\"44\":8735988,\"45\":9875024,\"46\":10866106,\"47\":12420476,\"48\":17876956,\"49\":19610538,\"50\":21283783,\"51\":22934225,\"52\":24779799,\"53\":26983828,\"54\":29341374,\"55\":31620918,\"56\":33958947,\"57\":36203463,\"58\":38331121,\"59\":40301927,\"60\":8691212,\"61\":9712569,\"62\":10794968,\"63\":11872264,\"64\":13177000,\"65\":14074100,\"66\":15184200,\"67\":16257249,\"68\":17481977,\"69\":18565243,\"70\":19546792,\"71\":20434176,\"72\":6927772,\"73\":6965860,\"74\":7129864,\"75\":7376998,\"76\":7544201,\"77\":7568430,\"78\":7574613,\"79\":7578903,\"80\":7914969,\"81\":8069876,\"82\":8148312,\"83\":8199783,\"84\":120447,\"85\":138655,\"86\":171863,\"87\":202182,\"88\":230800,\"89\":297410,\"90\":377967,\"91\":454612,\"92\":529491,\"93\":598561,\"94\":656397,\"95\":708573,\"96\":46886859,\"97\":51365468,\"98\":56839289,\"99\":62821884,\"100\":70759295,\"101\":80428306,\"102\":93074406,\"103\":103764241,\"104\":113704579,\"105\":123315288,\"106\":135656790,\"107\":150448339,\"108\":8730405,\"109\":8989111,\"110\":9218400,\"111\":9556500,\"112\":9709100,\"113\":9821800,\"114\":9856303,\"115\":9870200,\"116\":10045622,\"117\":10199787,\"118\":10311970,\"119\":10392226,\"120\":1738315,\"121\":1925173,\"122\":2151895,\"123\":2427334,\"124\":2761407,\"125\":3168267,\"126\":3641603,\"127\":4243788,\"128\":4981671,\"129\":6066080,\"130\":7026113,\"131\":8078314,\"132\":2883315,\"133\":3211738,\"134\":3593918,\"135\":4040665,\"136\":4565872,\"137\":5079716,\"138\":5642224,\"139\":6156369,\"140\":6893451,\"141\":7693188,\"142\":8445134,\"143\":9119152,\"144\":2791000,\"145\":3076000,\"146\":3349000,\"147\":3585000,\"148\":3819000,\"149\":4086000,\"150\":4172693,\"151\":4338977,\"152\":4256013,\"153\":3607000,\"154\":4165416,\"155\":4552198,\"156\":442308,\"157\":474639,\"158\":512764,\"159\":553541,\"160\":619351,\"161\":781472,\"162\":970347,\"163\":1151184,\"164\":1342614,\"165\":1536536,\"166\":1630347,\"167\":1639131,\"168\":56602560,\"169\":65551171,\"170\":76039390,\"171\":88049823,\"172\":100840058,\"173\":114313951,\"174\":128962939,\"175\":142938076,\"176\":155975974,\"177\":168546719,\"178\":179914212,\"179\":190010647,\"180\":7274900,\"181\":7651254,\"182\":8012946,\"183\":8310226,\"184\":8576200,\"185\":8797022,\"186\":8892098,\"187\":8971958,\"188\":8658506,\"189\":8066057,\"190\":7661799,\"191\":7322858,\"192\":4469979,\"193\":4713416,\"194\":4919632,\"195\":5127935,\"196\":5433886,\"197\":5889574,\"198\":6634596,\"199\":7586551,\"200\":8878303,\"201\":10352843,\"202\":12251209,\"203\":14326203,\"204\":2445618,\"205\":2667518,\"206\":2961915,\"207\":3330989,\"208\":3529983,\"209\":3834415,\"210\":4580410,\"211\":5126023,\"212\":5809236,\"213\":6121610,\"214\":7021078,\"215\":8390505,\"216\":4693836,\"217\":5322536,\"218\":6083619,\"219\":6960067,\"220\":7450606,\"221\":6978607,\"222\":7272485,\"223\":8371791,\"224\":10150094,\"225\":11782962,\"226\":12926707,\"227\":14131858,\"228\":5009067,\"229\":5359923,\"230\":5793633,\"231\":6335506,\"232\":7021028,\"233\":7959865,\"234\":9250831,\"235\":10780667,\"236\":12467171,\"237\":14195809,\"238\":15929988,\"239\":17696293,\"240\":14785584,\"241\":17010154,\"242\":18985849,\"243\":20819767,\"244\":22284500,\"245\":23796400,\"246\":25201900,\"247\":26549700,\"248\":28523502,\"249\":30305843,\"250\":31902268,\"251\":33390141,\"252\":1291695,\"253\":1392284,\"254\":1523478,\"255\":1733638,\"256\":1927260,\"257\":2167533,\"258\":2476971,\"259\":2840009,\"260\":3265124,\"261\":3696513,\"262\":4048013,\"263\":4369038,\"264\":2682462,\"265\":2894855,\"266\":3150417,\"267\":3495967,\"268\":3899068,\"269\":4388260,\"270\":4875118,\"271\":5498955,\"272\":6429417,\"273\":7562011,\"274\":8835739,\"275\":10238807,\"276\":6377619,\"277\":7048426,\"278\":7961258,\"279\":8858908,\"280\":9717524,\"281\":10599793,\"282\":11487112,\"283\":12463354,\"284\":13572994,\"285\":14599929,\"286\":15497046,\"287\":16284741,\"288\":556263527,\"289\":637408000,\"290\":665770000,\"291\":754550000,\"292\":862030000,\"293\":943455000,\"294\":1000281000,\"295\":1084035000,\"296\":1164970000,\"297\":1230075000,\"298\":1280400000,\"299\":1318683096,\"300\":12350771,\"301\":14485993,\"302\":17009885,\"303\":19764027,\"304\":22542890,\"305\":25094412,\"306\":27764644,\"307\":30964245,\"308\":34202721,\"309\":37657830,\"310\":41008227,\"311\":44227550,\"312\":153936,\"313\":170928,\"314\":191689,\"315\":217378,\"316\":250027,\"317\":304739,\"318\":348643,\"319\":395114,\"320\":454429,\"321\":527982,\"322\":614382,\"323\":710960,\"324\":14100005,\"325\":15577932,\"326\":17486434,\"327\":19941073,\"328\":23007669,\"329\":26480870,\"330\":30646495,\"331\":35481645,\"332\":41672143,\"333\":47798986,\"334\":55379852,\"335\":64606759,\"336\":854885,\"337\":940458,\"338\":1047924,\"339\":1179760,\"340\":1340458,\"341\":1536769,\"342\":1774735,\"343\":2064095,\"344\":2409073,\"345\":2800947,\"346\":3328795,\"347\":3800610,\"348\":926317,\"349\":1112300,\"350\":1345187,\"351\":1588717,\"352\":1834796,\"353\":2108457,\"354\":2424367,\"355\":2799811,\"356\":3173216,\"357\":3518107,\"358\":3834934,\"359\":4133884,\"360\":2977019,\"361\":3300000,\"362\":3832408,\"363\":4744870,\"364\":6071696,\"365\":7459574,\"366\":9025951,\"367\":10761098,\"368\":12772596,\"369\":14625967,\"370\":16252726,\"371\":18013409,\"372\":3882229,\"373\":3991242,\"374\":4076557,\"375\":4174366,\"376\":4225310,\"377\":4318673,\"378\":4413368,\"379\":4484310,\"380\":4494013,\"381\":4444595,\"382\":4481020,\"383\":4493312,\"384\":6007797,\"385\":6640752,\"386\":7254373,\"387\":8139332,\"388\":8831348,\"389\":9537988,\"390\":9789224,\"391\":10239839,\"392\":10723260,\"393\":10983007,\"394\":11226999,\"395\":11416987,\"396\":9125183,\"397\":9513758,\"398\":9620282,\"399\":9835109,\"400\":9862158,\"401\":10161915,\"402\":10303704,\"403\":10311597,\"404\":10315702,\"405\":10300707,\"406\":10256295,\"407\":10228744,\"408\":4334000,\"409\":4487831,\"410\":4646899,\"411\":4838800,\"412\":4991596,\"413\":5088419,\"414\":5117810,\"415\":5127024,\"416\":5171393,\"417\":5283663,\"418\":5374693,\"419\":5468120,\"420\":63149,\"421\":71851,\"422\":89898,\"423\":127617,\"424\":178848,\"425\":228694,\"426\":305991,\"427\":311025,\"428\":384156,\"429\":417908,\"430\":447416,\"431\":496374,\"432\":2491346,\"433\":2923186,\"434\":3453434,\"435\":4049146,\"436\":4671329,\"437\":5302800,\"438\":5968349,\"439\":6655297,\"440\":7351181,\"441\":7992357,\"442\":8650322,\"443\":9319622,\"444\":3548753,\"445\":4058385,\"446\":4681707,\"447\":5432424,\"448\":6298651,\"449\":7278866,\"450\":8365850,\"451\":9545158,\"452\":10748394,\"453\":11911819,\"454\":12921234,\"455\":13755680,\"456\":22223309,\"457\":25009741,\"458\":28173309,\"459\":31681188,\"460\":34807417,\"461\":38783863,\"462\":45681811,\"463\":52799062,\"464\":59402198,\"465\":66134291,\"466\":73312559,\"467\":80264543,\"468\":2042865,\"469\":2355805,\"470\":2747687,\"471\":3232927,\"472\":3790903,\"473\":4282586,\"474\":4474873,\"475\":4842194,\"476\":5274649,\"477\":5783439,\"478\":6353681,\"479\":6939688,\"480\":216964,\"481\":232922,\"482\":249220,\"483\":259864,\"484\":277603,\"485\":192675,\"486\":285483,\"487\":341244,\"488\":387838,\"489\":439971,\"490\":495627,\"491\":551201,\"492\":1438760,\"493\":1542611,\"494\":1666618,\"495\":1820319,\"496\":2260187,\"497\":2512642,\"498\":2637297,\"499\":2915959,\"500\":3668440,\"501\":4058319,\"502\":4414865,\"503\":4906585,\"504\":20860941,\"505\":22815614,\"506\":25145372,\"507\":27860297,\"508\":30770372,\"509\":34617799,\"510\":38111756,\"511\":42999530,\"512\":52088559,\"513\":59861301,\"514\":67946797,\"515\":76511887,\"516\":4090500,\"517\":4324000,\"518\":4491443,\"519\":4605744,\"520\":4639657,\"521\":4738902,\"522\":4826933,\"523\":4931729,\"524\":5041039,\"525\":5134406,\"526\":5193039,\"527\":5238460,\"528\":42459667,\"529\":44310863,\"530\":47124000,\"531\":49569000,\"532\":51732000,\"533\":53165019,\"534\":54433565,\"535\":55630100,\"536\":57374179,\"537\":58623428,\"538\":59925035,\"539\":61083916,\"540\":420702,\"541\":434904,\"542\":455661,\"543\":489004,\"544\":537977,\"545\":706367,\"546\":753874,\"547\":880397,\"548\":985739,\"549\":1126189,\"550\":1299304,\"551\":1454867,\"552\":284320,\"553\":323150,\"554\":374020,\"555\":439593,\"556\":517101,\"557\":608274,\"558\":715523,\"559\":848406,\"560\":1025384,\"561\":1235767,\"562\":1457766,\"563\":1688359,\"564\":69145952,\"565\":71019069,\"566\":73739117,\"567\":76368453,\"568\":78717088,\"569\":78160773,\"570\":78335266,\"571\":77718298,\"572\":80597764,\"573\":82011073,\"574\":82350671,\"575\":82400996,\"576\":5581001,\"577\":6391288,\"578\":7355248,\"579\":8490213,\"580\":9354120,\"581\":10538093,\"582\":11400338,\"583\":14168101,\"584\":16278738,\"585\":18418288,\"586\":20550751,\"587\":22873338,\"588\":7733250,\"589\":8096218,\"590\":8448233,\"591\":8716441,\"592\":8888628,\"593\":9308479,\"594\":9786480,\"595\":9974490,\"596\":10325429,\"597\":10502372,\"598\":10603863,\"599\":10706290,\"600\":3146381,\"601\":3640876,\"602\":4208858,\"603\":4690773,\"604\":5149581,\"605\":5703430,\"606\":6395630,\"607\":7326406,\"608\":8486949,\"609\":9803875,\"610\":11178650,\"611\":12572928,\"612\":2664249,\"613\":2876726,\"614\":3140003,\"615\":3451418,\"616\":3811387,\"617\":4227026,\"618\":4710497,\"619\":5650262,\"620\":6990574,\"621\":8048834,\"622\":8807818,\"623\":9947814,\"624\":580653,\"625\":601095,\"626\":627820,\"627\":601287,\"628\":625361,\"629\":745228,\"630\":825987,\"631\":927524,\"632\":1050938,\"633\":1193708,\"634\":1332459,\"635\":1472041,\"636\":3201488,\"637\":3507701,\"638\":3880130,\"639\":4318137,\"640\":4698301,\"641\":4908554,\"642\":5198399,\"643\":5756203,\"644\":6326682,\"645\":6913545,\"646\":7607651,\"647\":8502814,\"648\":1517453,\"649\":1770390,\"650\":2090162,\"651\":2500689,\"652\":2965146,\"653\":3055235,\"654\":3669448,\"655\":4372203,\"656\":5077347,\"657\":5867957,\"658\":6677328,\"659\":7483763,\"660\":2125900,\"661\":2736300,\"662\":3305200,\"663\":3722800,\"664\":4115700,\"665\":4583700,\"666\":5264500,\"667\":5584510,\"668\":5829696,\"669\":6495918,\"670\":6762476,\"671\":6980412,\"672\":9504000,\"673\":9839000,\"674\":10063000,\"675\":10223422,\"676\":10394091,\"677\":10637171,\"678\":10705535,\"679\":10612740,\"680\":10348684,\"681\":10244684,\"682\":10083313,\"683\":9956108,\"684\":147962,\"685\":165110,\"686\":182053,\"687\":198676,\"688\":209275,\"689\":221823,\"690\":233997,\"691\":244676,\"692\":259012,\"693\":271192,\"694\":288030,\"695\":301931,\"696\":372000000,\"697\":409000000,\"698\":454000000,\"699\":506000000,\"700\":567000000,\"701\":634000000,\"702\":708000000,\"703\":788000000,\"704\":872000000,\"705\":959000000,\"706\":1034172547,\"707\":1110396331,\"708\":82052000,\"709\":90124000,\"710\":99028000,\"711\":109343000,\"712\":121282000,\"713\":136725000,\"714\":153343000,\"715\":169276000,\"716\":184816000,\"717\":199278000,\"718\":211060000,\"719\":223547000,\"720\":17272000,\"721\":19792000,\"722\":22874000,\"723\":26538000,\"724\":30614000,\"725\":35480679,\"726\":43072751,\"727\":51889696,\"728\":60397973,\"729\":63327987,\"730\":66907826,\"731\":69453570,\"732\":5441766,\"733\":6248643,\"734\":7240260,\"735\":8519282,\"736\":10061506,\"737\":11882916,\"738\":14173318,\"739\":16543189,\"740\":17861905,\"741\":20775703,\"742\":24001816,\"743\":27499638,\"744\":2952156,\"745\":2878220,\"746\":2830000,\"747\":2900100,\"748\":3024400,\"749\":3271900,\"750\":3480000,\"751\":3539900,\"752\":3557761,\"753\":3667233,\"754\":3879155,\"755\":4109086,\"756\":1620914,\"757\":1944401,\"758\":2310904,\"759\":2693585,\"760\":3095893,\"761\":3495918,\"762\":3858421,\"763\":4203148,\"764\":4936550,\"765\":5531387,\"766\":6029529,\"767\":6426679,\"768\":47666000,\"769\":49182000,\"770\":50843200,\"771\":52667100,\"772\":54365564,\"773\":56059245,\"774\":56535636,\"775\":56729703,\"776\":56840847,\"777\":57479469,\"778\":57926999,\"779\":58147733,\"780\":1426095,\"781\":1535090,\"782\":1665128,\"783\":1861096,\"784\":1997616,\"785\":2156814,\"786\":2298309,\"787\":2326606,\"788\":2378618,\"789\":2531311,\"790\":2664659,\"791\":2780132,\"792\":86459025,\"793\":91563009,\"794\":95831757,\"795\":100825279,\"796\":107188273,\"797\":113872473,\"798\":118454974,\"799\":122091325,\"800\":124329269,\"801\":125956499,\"802\":127065841,\"803\":127467972,\"804\":607914,\"805\":746559,\"806\":933559,\"807\":1255058,\"808\":1613551,\"809\":1937652,\"810\":2347031,\"811\":2820042,\"812\":3867409,\"813\":4526235,\"814\":5307470,\"815\":6053193,\"816\":6464046,\"817\":7454779,\"818\":8678557,\"819\":10191512,\"820\":12044785,\"821\":14500404,\"822\":17661452,\"823\":21198082,\"824\":25020539,\"825\":28263827,\"826\":31386842,\"827\":35610177,\"828\":8865488,\"829\":9411381,\"830\":10917494,\"831\":12617009,\"832\":14781241,\"833\":16325320,\"834\":17647518,\"835\":19067554,\"836\":20711375,\"837\":21585105,\"838\":22215365,\"839\":23301725,\"840\":20947571,\"841\":22611552,\"842\":26420307,\"843\":30131000,\"844\":33505000,\"845\":36436000,\"846\":39326000,\"847\":41622000,\"848\":43805450,\"849\":46173816,\"850\":47969150,\"851\":49044790,\"852\":160000,\"853\":212846,\"854\":358266,\"855\":575003,\"856\":841934,\"857\":1140357,\"858\":1497494,\"859\":1891487,\"860\":1418095,\"861\":1765345,\"862\":2111561,\"863\":2505559,\"864\":1439529,\"865\":1647412,\"866\":1886848,\"867\":2186894,\"868\":2680018,\"869\":3115787,\"870\":3086876,\"871\":3089353,\"872\":3219994,\"873\":3430388,\"874\":3677780,\"875\":3921278,\"876\":748747,\"877\":813338,\"878\":893143,\"879\":996380,\"880\":1116779,\"881\":1251524,\"882\":1411807,\"883\":1599200,\"884\":1803195,\"885\":1982823,\"886\":2046772,\"887\":2012649,\"888\":863308,\"889\":975950,\"890\":1112796,\"891\":1279406,\"892\":1482628,\"893\":1703617,\"894\":1956875,\"895\":2269414,\"896\":1912974,\"897\":2200725,\"898\":2814651,\"899\":3193942,\"900\":1019729,\"901\":1201578,\"902\":1441863,\"903\":1759224,\"904\":2183877,\"905\":2721783,\"906\":3344074,\"907\":3799845,\"908\":4364501,\"909\":4759670,\"910\":5368585,\"911\":6036914,\"912\":4762912,\"913\":5181679,\"914\":5703324,\"915\":6334556,\"916\":7082430,\"917\":8007166,\"918\":9171477,\"919\":10568642,\"920\":12210395,\"921\":14165114,\"922\":16473477,\"923\":19167654,\"924\":2917802,\"925\":3221238,\"926\":3628608,\"927\":4147252,\"928\":4730997,\"929\":5637246,\"930\":6502825,\"931\":7824747,\"932\":10014249,\"933\":10419991,\"934\":11824495,\"935\":13327079,\"936\":6748378,\"937\":7739235,\"938\":8906385,\"939\":10154878,\"940\":11441462,\"941\":12845381,\"942\":14441916,\"943\":16331785,\"944\":18319502,\"945\":20476091,\"946\":22662365,\"947\":24821286,\"948\":3838168,\"949\":4241884,\"950\":4690372,\"951\":5212416,\"952\":5828158,\"953\":6491649,\"954\":6998256,\"955\":7634008,\"956\":8416215,\"957\":9384984,\"958\":10580176,\"959\":12031795,\"960\":1022556,\"961\":1076852,\"962\":1146757,\"963\":1230542,\"964\":1332786,\"965\":1456688,\"966\":1622136,\"967\":1841240,\"968\":2119465,\"969\":2444741,\"970\":2828858,\"971\":3270065,\"972\":516556,\"973\":609816,\"974\":701016,\"975\":789309,\"976\":851334,\"977\":913025,\"978\":992040,\"979\":1042663,\"980\":1096202,\"981\":1149818,\"982\":1200206,\"983\":1250882,\"984\":30144317,\"985\":35015548,\"986\":41121485,\"987\":47995559,\"988\":55984294,\"989\":63759976,\"990\":71640904,\"991\":80122492,\"992\":88111030,\"993\":95895146,\"994\":102479927,\"995\":108700891,\"996\":800663,\"997\":882134,\"998\":1010280,\"999\":1149500,\"1000\":1320500,\"1001\":1528000,\"1002\":1756032,\"1003\":2015133,\"1004\":2312802,\"1005\":2494803,\"1006\":2674234,\"1007\":2874127,\"1008\":413834,\"1009\":442829,\"1010\":474528,\"1011\":501035,\"1012\":527678,\"1013\":560073,\"1014\":562548,\"1015\":569473,\"1016\":621621,\"1017\":692651,\"1018\":720230,\"1019\":684736,\"1020\":9939217,\"1021\":11406350,\"1022\":13056604,\"1023\":14770296,\"1024\":16660670,\"1025\":18396941,\"1026\":20198730,\"1027\":22987397,\"1028\":25798239,\"1029\":28529501,\"1030\":31167783,\"1031\":33757175,\"1032\":6446316,\"1033\":7038035,\"1034\":7788944,\"1035\":8680909,\"1036\":9809596,\"1037\":11127868,\"1038\":12587223,\"1039\":12891952,\"1040\":13160731,\"1041\":16603334,\"1042\":18473780,\"1043\":19951656,\"1044\":20092996,\"1045\":21731844,\"1046\":23634436,\"1047\":25870271,\"1048\":28466390,\"1049\":31528087,\"1050\":34680442,\"1051\":38028578,\"1052\":40546538,\"1053\":43247867,\"1054\":45598081,\"1055\":47761980,\"1056\":485831,\"1057\":548080,\"1058\":621392,\"1059\":706640,\"1060\":821782,\"1061\":977026,\"1062\":1099010,\"1063\":1278184,\"1064\":1554253,\"1065\":1774766,\"1066\":1972153,\"1067\":2055080,\"1068\":9182536,\"1069\":9682338,\"1070\":10332057,\"1071\":11261690,\"1072\":12412593,\"1073\":13933198,\"1074\":15796314,\"1075\":17917180,\"1076\":20326209,\"1077\":23001113,\"1078\":25873917,\"1079\":28901790,\"1080\":10381988,\"1081\":11026383,\"1082\":11805689,\"1083\":12596822,\"1084\":13329874,\"1085\":13852989,\"1086\":14310401,\"1087\":14665278,\"1088\":15174244,\"1089\":15604464,\"1090\":16122830,\"1091\":16570613,\"1092\":1994794,\"1093\":2229407,\"1094\":2488550,\"1095\":2728150,\"1096\":2929100,\"1097\":3164900,\"1098\":3210650,\"1099\":3317166,\"1100\":3437674,\"1101\":3676187,\"1102\":3908037,\"1103\":4115771,\"1104\":1165790,\"1105\":1358828,\"1106\":1590597,\"1107\":1865490,\"1108\":2182908,\"1109\":2554598,\"1110\":2979423,\"1111\":3344353,\"1112\":4017939,\"1113\":4609572,\"1114\":5146848,\"1115\":5675356,\"1116\":3379468,\"1117\":3692184,\"1118\":4076008,\"1119\":4534062,\"1120\":5060262,\"1121\":5682086,\"1122\":6437188,\"1123\":7332638,\"1124\":8392818,\"1125\":9666252,\"1126\":11140655,\"1127\":12894865,\"1128\":33119096,\"1129\":37173340,\"1130\":41871351,\"1131\":47287752,\"1132\":53740085,\"1133\":62209173,\"1134\":73039376,\"1135\":81551520,\"1136\":93364244,\"1137\":106207839,\"1138\":119901274,\"1139\":135031164,\"1140\":3327728,\"1141\":3491938,\"1142\":3638919,\"1143\":3786019,\"1144\":3933004,\"1145\":4043205,\"1146\":4114787,\"1147\":4186147,\"1148\":4286357,\"1149\":4405672,\"1150\":4535591,\"1151\":4627926,\"1152\":507833,\"1153\":561977,\"1154\":628164,\"1155\":714775,\"1156\":829050,\"1157\":1004533,\"1158\":1301048,\"1159\":1593882,\"1160\":1915208,\"1161\":2283635,\"1162\":2713462,\"1163\":3204897,\"1164\":41346560,\"1165\":46679944,\"1166\":53100671,\"1167\":60641899,\"1168\":69325921,\"1169\":78152686,\"1170\":91462088,\"1171\":105186881,\"1172\":120065004,\"1173\":135564834,\"1174\":153403524,\"1175\":169270617,\"1176\":940080,\"1177\":1063506,\"1178\":1215725,\"1179\":1405486,\"1180\":1616384,\"1181\":1839782,\"1182\":2036305,\"1183\":2253639,\"1184\":2484997,\"1185\":2734531,\"1186\":2990875,\"1187\":3242173,\"1188\":1555876,\"1189\":1770902,\"1190\":2009813,\"1191\":2287985,\"1192\":2614104,\"1193\":2984494,\"1194\":3366439,\"1195\":3886512,\"1196\":4483945,\"1197\":5154123,\"1198\":5884491,\"1199\":6667147,\"1200\":8025700,\"1201\":9146100,\"1202\":10516500,\"1203\":12132200,\"1204\":13954700,\"1205\":15990099,\"1206\":18125129,\"1207\":20195924,\"1208\":22430449,\"1209\":24748122,\"1210\":26769436,\"1211\":28674757,\"1212\":22438691,\"1213\":26072194,\"1214\":30325264,\"1215\":35356600,\"1216\":40850141,\"1217\":46850962,\"1218\":53456774,\"1219\":60017788,\"1220\":67185766,\"1221\":75012988,\"1222\":82995088,\"1223\":91077287,\"1224\":25730551,\"1225\":28235346,\"1226\":30329617,\"1227\":31785378,\"1228\":33039545,\"1229\":34621254,\"1230\":36227381,\"1231\":37740710,\"1232\":38370697,\"1233\":38654957,\"1234\":38625976,\"1235\":38518241,\"1236\":8526050,\"1237\":8817650,\"1238\":9019800,\"1239\":9103000,\"1240\":8970450,\"1241\":9662600,\"1242\":9859650,\"1243\":9915289,\"1244\":9927680,\"1245\":10156415,\"1246\":10433867,\"1247\":10642836,\"1248\":2227000,\"1249\":2260000,\"1250\":2448046,\"1251\":2648961,\"1252\":2847132,\"1253\":3080828,\"1254\":3279001,\"1255\":3444468,\"1256\":3585176,\"1257\":3759430,\"1258\":3859606,\"1259\":3942491,\"1260\":257700,\"1261\":308700,\"1262\":358900,\"1263\":414024,\"1264\":461633,\"1265\":492095,\"1266\":517810,\"1267\":562035,\"1268\":622191,\"1269\":684810,\"1270\":743981,\"1271\":798094,\"1272\":16630000,\"1273\":17829327,\"1274\":18680721,\"1275\":19284814,\"1276\":20662648,\"1277\":21658597,\"1278\":22356726,\"1279\":22686371,\"1280\":22797027,\"1281\":22562458,\"1282\":22404337,\"1283\":22276056,\"1284\":2534927,\"1285\":2822082,\"1286\":3051242,\"1287\":3451079,\"1288\":3992121,\"1289\":4657072,\"1290\":5507565,\"1291\":6349365,\"1292\":7290203,\"1293\":7212583,\"1294\":7852401,\"1295\":8860588,\"1296\":60011,\"1297\":61325,\"1298\":65345,\"1299\":70787,\"1300\":76595,\"1301\":86796,\"1302\":98593,\"1303\":110812,\"1304\":125911,\"1305\":145608,\"1306\":170372,\"1307\":199579,\"1308\":4005677,\"1309\":4419650,\"1310\":4943029,\"1311\":5618198,\"1312\":6472756,\"1313\":8128505,\"1314\":11254672,\"1315\":14619745,\"1316\":16945857,\"1317\":21229759,\"1318\":24501530,\"1319\":27601038,\"1320\":2755589,\"1321\":3054547,\"1322\":3430243,\"1323\":3965841,\"1324\":4588696,\"1325\":5260855,\"1326\":6147783,\"1327\":7171347,\"1328\":8307920,\"1329\":9535314,\"1330\":10870037,\"1331\":12267493,\"1332\":6860147,\"1333\":7271135,\"1334\":7616060,\"1335\":7971222,\"1336\":8313288,\"1337\":8686367,\"1338\":9032824,\"1339\":9230783,\"1340\":9826397,\"1341\":10336594,\"1342\":10111559,\"1343\":10150265,\"1344\":2143249,\"1345\":2295678,\"1346\":2467895,\"1347\":2662190,\"1348\":2879013,\"1349\":3140897,\"1350\":3464522,\"1351\":3868905,\"1352\":4260884,\"1353\":4578212,\"1354\":5359092,\"1355\":6144562,\"1356\":1127000,\"1357\":1445929,\"1358\":1750200,\"1359\":1977600,\"1360\":2152400,\"1361\":2325300,\"1362\":2651869,\"1363\":2794552,\"1364\":3235865,\"1365\":3802309,\"1366\":4197776,\"1367\":4553009,\"1368\":3558137,\"1369\":3844277,\"1370\":4237384,\"1371\":4442238,\"1372\":4593433,\"1373\":4827803,\"1374\":5048043,\"1375\":5199318,\"1376\":5302888,\"1377\":5383010,\"1378\":5410052,\"1379\":5447502,\"1380\":1489518,\"1381\":1533070,\"1382\":1582962,\"1383\":1646912,\"1384\":1694510,\"1385\":1746919,\"1386\":1861252,\"1387\":1945870,\"1388\":1999210,\"1389\":2011612,\"1390\":2011497,\"1391\":2009245,\"1392\":2526994,\"1393\":2780415,\"1394\":3080153,\"1395\":3428839,\"1396\":3840161,\"1397\":4353666,\"1398\":5828892,\"1399\":6921858,\"1400\":6099799,\"1401\":6633514,\"1402\":7753310,\"1403\":9118773,\"1404\":14264935,\"1405\":16151549,\"1406\":18356657,\"1407\":20997321,\"1408\":23935810,\"1409\":27129932,\"1410\":31140029,\"1411\":35933379,\"1412\":39964159,\"1413\":42835005,\"1414\":44433622,\"1415\":43997828,\"1416\":28549870,\"1417\":29841614,\"1418\":31158061,\"1419\":32850275,\"1420\":34513161,\"1421\":36439000,\"1422\":37983310,\"1423\":38880702,\"1424\":39549438,\"1425\":39855442,\"1426\":40152517,\"1427\":40448191,\"1428\":7982342,\"1429\":9128546,\"1430\":10421936,\"1431\":11737396,\"1432\":13016733,\"1433\":14116836,\"1434\":15410151,\"1435\":16495304,\"1436\":17587060,\"1437\":18698655,\"1438\":19576783,\"1439\":20378239,\"1440\":8504667,\"1441\":9753392,\"1442\":11183227,\"1443\":12716129,\"1444\":14597019,\"1445\":17104986,\"1446\":20367053,\"1447\":24725960,\"1448\":28227588,\"1449\":32160729,\"1450\":37090298,\"1451\":42292929,\"1452\":290243,\"1453\":326741,\"1454\":370006,\"1455\":420690,\"1456\":480105,\"1457\":551425,\"1458\":649901,\"1459\":779348,\"1460\":962344,\"1461\":1054486,\"1462\":1130269,\"1463\":1133066,\"1464\":7124673,\"1465\":7363802,\"1466\":7561588,\"1467\":7867931,\"1468\":8122293,\"1469\":8251648,\"1470\":8325260,\"1471\":8421403,\"1472\":8718867,\"1473\":8897619,\"1474\":8954175,\"1475\":9031088,\"1476\":4815000,\"1477\":5126000,\"1478\":5666000,\"1479\":6063000,\"1480\":6401400,\"1481\":6316424,\"1482\":6468126,\"1483\":6649942,\"1484\":6995447,\"1485\":7193761,\"1486\":7361757,\"1487\":7554661,\"1488\":3661549,\"1489\":4149908,\"1490\":4834621,\"1491\":5680812,\"1492\":6701172,\"1493\":7932503,\"1494\":9410494,\"1495\":11242847,\"1496\":13219062,\"1497\":15081016,\"1498\":17155814,\"1499\":19314747,\"1500\":8550362,\"1501\":10164215,\"1502\":11918938,\"1503\":13648692,\"1504\":15226039,\"1505\":16785196,\"1506\":18501390,\"1507\":19757799,\"1508\":20686918,\"1509\":21628605,\"1510\":22454239,\"1511\":23174294,\"1512\":8322925,\"1513\":9452826,\"1514\":10863958,\"1515\":12607312,\"1516\":14706593,\"1517\":17129565,\"1518\":19844382,\"1519\":23040630,\"1520\":26605473,\"1521\":30686889,\"1522\":34593779,\"1523\":38139640,\"1524\":21289402,\"1525\":25041917,\"1526\":29263397,\"1527\":34024249,\"1528\":39276153,\"1529\":44148285,\"1530\":48827160,\"1531\":52910342,\"1532\":56667095,\"1533\":60216677,\"1534\":62806748,\"1535\":65068149,\"1536\":1219113,\"1537\":1357445,\"1538\":1528098,\"1539\":1735550,\"1540\":2056351,\"1541\":2308582,\"1542\":2644765,\"1543\":3154264,\"1544\":3747553,\"1545\":4320890,\"1546\":4977378,\"1547\":5701579,\"1548\":662850,\"1549\":764900,\"1550\":887498,\"1551\":960155,\"1552\":975199,\"1553\":1039009,\"1554\":1116479,\"1555\":1191336,\"1556\":1183669,\"1557\":1138101,\"1558\":1101832,\"1559\":1056608,\"1560\":3647735,\"1561\":3950849,\"1562\":4286552,\"1563\":4786986,\"1564\":5303507,\"1565\":6005061,\"1566\":6734098,\"1567\":7724976,\"1568\":8523077,\"1569\":9231669,\"1570\":9770575,\"1571\":10276158,\"1572\":22235677,\"1573\":25670939,\"1574\":29788695,\"1575\":33411317,\"1576\":37492953,\"1577\":42404033,\"1578\":47328791,\"1579\":52881328,\"1580\":58179144,\"1581\":63047647,\"1582\":67308928,\"1583\":71158647,\"1584\":5824797,\"1585\":6675501,\"1586\":7688797,\"1587\":8900294,\"1588\":10190285,\"1589\":11457758,\"1590\":12939400,\"1591\":15283050,\"1592\":18252190,\"1593\":21210254,\"1594\":24739869,\"1595\":29170398,\"1596\":50430000,\"1597\":51430000,\"1598\":53292000,\"1599\":54959000,\"1600\":56079000,\"1601\":56179000,\"1602\":56339704,\"1603\":56981620,\"1604\":57866349,\"1605\":58808266,\"1606\":59912431,\"1607\":60776238,\"1608\":157553000,\"1609\":171984000,\"1610\":186538000,\"1611\":198712000,\"1612\":209896000,\"1613\":220239000,\"1614\":232187835,\"1615\":242803533,\"1616\":256894189,\"1617\":272911760,\"1618\":287675526,\"1619\":301139947,\"1620\":2252965,\"1621\":2424959,\"1622\":2598466,\"1623\":2748579,\"1624\":2829526,\"1625\":2873520,\"1626\":2953997,\"1627\":3045153,\"1628\":3149262,\"1629\":3262838,\"1630\":3363085,\"1631\":3447496,\"1632\":5439568,\"1633\":6702668,\"1634\":8143375,\"1635\":9709552,\"1636\":11515649,\"1637\":13503563,\"1638\":15620766,\"1639\":17910182,\"1640\":20265563,\"1641\":22374398,\"1642\":24287670,\"1643\":26084662,\"1644\":26246839,\"1645\":28998543,\"1646\":33796140,\"1647\":39463910,\"1648\":44655014,\"1649\":50533506,\"1650\":56142181,\"1651\":62826491,\"1652\":69940728,\"1653\":76048996,\"1654\":80908147,\"1655\":85262356,\"1656\":1030585,\"1657\":1070439,\"1658\":1133134,\"1659\":1142636,\"1660\":1089572,\"1661\":1261091,\"1662\":1425876,\"1663\":1691210,\"1664\":2104779,\"1665\":2826046,\"1666\":3389578,\"1667\":4018332,\"1668\":4963829,\"1669\":5498090,\"1670\":6120081,\"1671\":6740785,\"1672\":7407075,\"1673\":8403990,\"1674\":9657618,\"1675\":11219340,\"1676\":13367997,\"1677\":15826497,\"1678\":18701257,\"1679\":22211743,\"1680\":2672000,\"1681\":3016000,\"1682\":3421000,\"1683\":3900000,\"1684\":4506497,\"1685\":5216550,\"1686\":6100407,\"1687\":7272406,\"1688\":8381163,\"1689\":9417789,\"1690\":10595811,\"1691\":11746035,\"1692\":3080907,\"1693\":3646340,\"1694\":4277736,\"1695\":4995432,\"1696\":5861135,\"1697\":6642107,\"1698\":7636524,\"1699\":9216418,\"1700\":10704340,\"1701\":11404948,\"1702\":11926563,\"1703\":12311143},\"gdpPercap\":{\"0\":779.4453145,\"1\":820.8530296,\"2\":853.10071,\"3\":836.1971382,\"4\":739.9811058,\"5\":786.11336,\"6\":978.0114388,\"7\":852.3959448,\"8\":649.3413952,\"9\":635.341351,\"10\":726.7340548,\"11\":974.5803384,\"12\":1601.056136,\"13\":1942.284244,\"14\":2312.888958,\"15\":2760.196931,\"16\":3313.422188,\"17\":3533.00391,\"18\":3630.880722,\"19\":3738.932735,\"20\":2497.437901,\"21\":3193.054604,\"22\":4604.211737,\"23\":5937.029526,\"24\":2449.008185,\"25\":3013.976023,\"26\":2550.81688,\"27\":3246.991771,\"28\":4182.663766,\"29\":4910.416756,\"30\":5745.160213,\"31\":5681.358539,\"32\":5023.216647,\"33\":4797.295051,\"34\":5288.040382,\"35\":6223.367465,\"36\":3520.610273,\"37\":3827.940465,\"38\":4269.276742,\"39\":5522.776375,\"40\":5473.288005,\"41\":3008.647355,\"42\":2756.953672,\"43\":2430.208311,\"44\":2627.845685,\"45\":2277.140884,\"46\":2773.287312,\"47\":4797.231267,\"48\":5911.315053,\"49\":6856.856212,\"50\":7133.166023,\"51\":8052.953021,\"52\":9443.038526,\"53\":10079.02674,\"54\":8997.897412,\"55\":9139.671389,\"56\":9308.41871,\"57\":10967.28195,\"58\":8797.640716,\"59\":12779.37964,\"60\":10039.59564,\"61\":10949.64959,\"62\":12217.22686,\"63\":14526.12465,\"64\":16788.62948,\"65\":18334.19751,\"66\":19477.00928,\"67\":21888.88903,\"68\":23424.76683,\"69\":26997.93657,\"70\":30687.75473,\"71\":34435.36744,\"72\":6137.076492,\"73\":8842.59803,\"74\":10750.72111,\"75\":12834.6024,\"76\":16661.6256,\"77\":19749.4223,\"78\":21597.08362,\"79\":23687.82607,\"80\":27042.01868,\"81\":29095.92066,\"82\":32417.60769,\"83\":36126.4927,\"84\":9867.084765,\"85\":11635.79945,\"86\":12753.27514,\"87\":14804.6727,\"88\":18268.65839,\"89\":19340.10196,\"90\":19211.14731,\"91\":18524.02406,\"92\":19035.57917,\"93\":20292.01679,\"94\":23403.55927,\"95\":29796.04834,\"96\":684.2441716,\"97\":661.6374577,\"98\":686.3415538,\"99\":721.1860862,\"100\":630.2336265,\"101\":659.8772322,\"102\":676.9818656,\"103\":751.9794035,\"104\":837.8101643,\"105\":972.7700352,\"106\":1136.39043,\"107\":1391.253792,\"108\":8343.105127,\"109\":9714.960623,\"110\":10991.20676,\"111\":13149.04119,\"112\":16672.14356,\"113\":19117.97448,\"114\":20979.84589,\"115\":22525.56308,\"116\":25575.57069,\"117\":27561.19663,\"118\":30485.88375,\"119\":33692.60508,\"120\":1062.7522,\"121\":959.6010805,\"122\":949.4990641,\"123\":1035.831411,\"124\":1085.796879,\"125\":1029.161251,\"126\":1277.897616,\"127\":1225.85601,\"128\":1191.207681,\"129\":1232.975292,\"130\":1372.877931,\"131\":1441.284873,\"132\":2677.326347,\"133\":2127.686326,\"134\":2180.972546,\"135\":2586.886053,\"136\":2980.331339,\"137\":3548.097832,\"138\":3156.510452,\"139\":2753.69149,\"140\":2961.699694,\"141\":3326.143191,\"142\":3413.26269,\"143\":3822.137084,\"144\":973.5331948,\"145\":1353.989176,\"146\":1709.683679,\"147\":2172.352423,\"148\":2860.16975,\"149\":3528.481305,\"150\":4126.613157,\"151\":4314.114757,\"152\":2546.781445,\"153\":4766.355904,\"154\":6018.975239,\"155\":7446.298803,\"156\":851.2411407,\"157\":918.2325349,\"158\":983.6539764,\"159\":1214.709294,\"160\":2263.611114,\"161\":3214.857818,\"162\":4551.14215,\"163\":6205.88385,\"164\":7954.111645,\"165\":8647.142313,\"166\":11003.60508,\"167\":12569.85177,\"168\":2108.944355,\"169\":2487.365989,\"170\":3336.585802,\"171\":3429.864357,\"172\":4985.711467,\"173\":6660.118654,\"174\":7030.835878,\"175\":7807.095818,\"176\":6950.283021,\"177\":7957.980824,\"178\":8131.212843,\"179\":9065.800825,\"180\":2444.286648,\"181\":3008.670727,\"182\":4254.337839,\"183\":5577.0028,\"184\":6597.494398,\"185\":7612.240438,\"186\":8224.191647,\"187\":8239.854824,\"188\":6302.623438,\"189\":5970.38876,\"190\":7696.777725,\"191\":10680.79282,\"192\":543.2552413,\"193\":617.1834648,\"194\":722.5120206,\"195\":794.8265597,\"196\":854.7359763,\"197\":743.3870368,\"198\":807.1985855,\"199\":912.0631417,\"200\":931.7527731,\"201\":946.2949618,\"202\":1037.645221,\"203\":1217.032994,\"204\":339.2964587,\"205\":379.5646281,\"206\":355.2032273,\"207\":412.9775136,\"208\":464.0995039,\"209\":556.1032651,\"210\":559.603231,\"211\":621.8188189,\"212\":631.6998778,\"213\":463.1151478,\"214\":446.4035126,\"215\":430.0706916,\"216\":368.4692856,\"217\":434.0383364,\"218\":496.9136476,\"219\":523.4323142,\"220\":421.6240257,\"221\":524.9721832,\"222\":624.4754784,\"223\":683.8955732,\"224\":682.3031755,\"225\":734.28517,\"226\":896.2260153,\"227\":1713.778686,\"228\":1172.667655,\"229\":1313.048099,\"230\":1399.607441,\"231\":1508.453148,\"232\":1684.146528,\"233\":1783.432873,\"234\":2367.983282,\"235\":2602.664206,\"236\":1793.163278,\"237\":1694.337469,\"238\":1934.011449,\"239\":2042.09524,\"240\":11367.16112,\"241\":12489.95006,\"242\":13462.48555,\"243\":16076.58803,\"244\":18970.57086,\"245\":22090.88306,\"246\":22898.79214,\"247\":26626.51503,\"248\":26342.88426,\"249\":28954.92589,\"250\":33328.96507,\"251\":36319.23501,\"252\":1071.310713,\"253\":1190.844328,\"254\":1193.068753,\"255\":1136.056615,\"256\":1070.013275,\"257\":1109.374338,\"258\":956.7529907,\"259\":844.8763504,\"260\":747.9055252,\"261\":740.5063317,\"262\":738.6906068,\"263\":706.016537,\"264\":1178.665927,\"265\":1308.495577,\"266\":1389.817618,\"267\":1196.810565,\"268\":1104.103987,\"269\":1133.98495,\"270\":797.9081006,\"271\":952.386129,\"272\":1058.0643,\"273\":1004.961353,\"274\":1156.18186,\"275\":1704.063724,\"276\":3939.978789,\"277\":4315.622723,\"278\":4519.094331,\"279\":5106.654313,\"280\":5494.024437,\"281\":4756.763836,\"282\":5095.665738,\"283\":5547.063754,\"284\":7596.125964,\"285\":10118.05318,\"286\":10778.78385,\"287\":13171.63885,\"288\":400.448611,\"289\":575.9870009,\"290\":487.6740183,\"291\":612.7056934,\"292\":676.9000921,\"293\":741.2374699,\"294\":962.4213805,\"295\":1378.904018,\"296\":1655.784158,\"297\":2289.234136,\"298\":3119.280896,\"299\":4959.114854,\"300\":2144.115096,\"301\":2323.805581,\"302\":2492.351109,\"303\":2678.729839,\"304\":3264.660041,\"305\":3815.80787,\"306\":4397.575659,\"307\":4903.2191,\"308\":5444.648617,\"309\":6117.361746,\"310\":5755.259962,\"311\":7006.580419,\"312\":1102.990936,\"313\":1211.148548,\"314\":1406.648278,\"315\":1876.029643,\"316\":1937.577675,\"317\":1172.603047,\"318\":1267.100083,\"319\":1315.980812,\"320\":1246.90737,\"321\":1173.618235,\"322\":1075.811558,\"323\":986.1478792,\"324\":780.5423257,\"325\":905.8602303,\"326\":896.3146335,\"327\":861.5932424,\"328\":904.8960685,\"329\":795.757282,\"330\":673.7478181,\"331\":672.774812,\"332\":457.7191807,\"333\":312.188423,\"334\":241.1658765,\"335\":277.5518587,\"336\":2125.621418,\"337\":2315.056572,\"338\":2464.783157,\"339\":2677.939642,\"340\":3213.152683,\"341\":3259.178978,\"342\":4879.507522,\"343\":4201.194937,\"344\":4016.239529,\"345\":3484.164376,\"346\":3484.06197,\"347\":3632.557798,\"348\":2627.009471,\"349\":2990.010802,\"350\":3460.937025,\"351\":4161.727834,\"352\":5118.146939,\"353\":5926.876967,\"354\":5262.734751,\"355\":5629.915318,\"356\":6160.416317,\"357\":6677.045314,\"358\":7723.447195,\"359\":9645.06142,\"360\":1388.594732,\"361\":1500.895925,\"362\":1728.869428,\"363\":2052.050473,\"364\":2378.201111,\"365\":2517.736547,\"366\":2602.710169,\"367\":2156.956069,\"368\":1648.073791,\"369\":1786.265407,\"370\":1648.800823,\"371\":1544.750112,\"372\":3119.23652,\"373\":4338.231617,\"374\":5477.890018,\"375\":6960.297861,\"376\":9164.090127,\"377\":11305.38517,\"378\":13221.82184,\"379\":13822.58394,\"380\":8447.794873,\"381\":9875.604515,\"382\":11628.38895,\"383\":14619.22272,\"384\":5586.53878,\"385\":6092.174359,\"386\":5180.75591,\"387\":5690.268015,\"388\":5305.445256,\"389\":6380.494966,\"390\":7316.918107,\"391\":7532.924763,\"392\":5592.843963,\"393\":5431.990415,\"394\":6340.646683,\"395\":8948.102923,\"396\":6876.14025,\"397\":8256.343918,\"398\":10136.86713,\"399\":11399.44489,\"400\":13108.4536,\"401\":14800.16062,\"402\":15377.22855,\"403\":16310.4434,\"404\":14297.02122,\"405\":16048.51424,\"406\":17596.21022,\"407\":22833.30851,\"408\":9692.385245,\"409\":11099.65935,\"410\":13583.31351,\"411\":15937.21123,\"412\":18866.20721,\"413\":20422.9015,\"414\":21688.04048,\"415\":25116.17581,\"416\":26406.73985,\"417\":29804.34567,\"418\":32166.50006,\"419\":35278.41874,\"420\":2669.529475,\"421\":2864.969076,\"422\":3020.989263,\"423\":3020.050513,\"424\":3694.212352,\"425\":3081.761022,\"426\":2879.468067,\"427\":2880.102568,\"428\":2377.156192,\"429\":1895.016984,\"430\":1908.260867,\"431\":2082.481567,\"432\":1397.717137,\"433\":1544.402995,\"434\":1662.137359,\"435\":1653.723003,\"436\":2189.874499,\"437\":2681.9889,\"438\":2861.092386,\"439\":2899.842175,\"440\":3044.214214,\"441\":3614.101285,\"442\":4563.808154,\"443\":6025.374752,\"444\":3522.110717,\"445\":3780.546651,\"446\":4086.114078,\"447\":4579.074215,\"448\":5280.99471,\"449\":6679.62326,\"450\":7213.791267,\"451\":6481.776993,\"452\":7103.702595,\"453\":7429.455877,\"454\":5773.044512,\"455\":6873.262326,\"456\":1418.822445,\"457\":1458.915272,\"458\":1693.335853,\"459\":1814.880728,\"460\":2024.008147,\"461\":2785.493582,\"462\":3503.729636,\"463\":3885.46071,\"464\":3794.755195,\"465\":4173.181797,\"466\":4754.604414,\"467\":5581.180998,\"468\":3048.3029,\"469\":3421.523218,\"470\":3776.803627,\"471\":4358.595393,\"472\":4520.246008,\"473\":5138.922374,\"474\":4098.344175,\"475\":4140.442097,\"476\":4444.2317,\"477\":5154.825496,\"478\":5351.568666,\"479\":5728.353514,\"480\":375.6431231,\"481\":426.0964081,\"482\":582.8419714,\"483\":915.5960025,\"484\":672.4122571,\"485\":958.5668124,\"486\":927.8253427,\"487\":966.8968149,\"488\":1132.055034,\"489\":2814.480755,\"490\":7703.4959,\"491\":12154.08975,\"492\":328.9405571,\"493\":344.1618859,\"494\":380.9958433,\"495\":468.7949699,\"496\":514.3242082,\"497\":505.7538077,\"498\":524.8758493,\"499\":521.1341333,\"500\":582.8585102,\"501\":913.47079,\"502\":765.3500015,\"503\":641.3695236,\"504\":362.1462796,\"505\":378.9041632,\"506\":419.4564161,\"507\":516.1186438,\"508\":566.2439442,\"509\":556.8083834,\"510\":577.8607471,\"511\":573.7413142,\"512\":421.3534653,\"513\":515.8894013,\"514\":530.0535319,\"515\":690.8055759,\"516\":6424.519071,\"517\":7545.415386,\"518\":9371.842561,\"519\":10921.63626,\"520\":14358.8759,\"521\":15605.42283,\"522\":18533.15761,\"523\":21141.01223,\"524\":20647.16499,\"525\":23723.9502,\"526\":28204.59057,\"527\":33207.0844,\"528\":7029.809327,\"529\":8662.834898,\"530\":10560.48553,\"531\":12999.91766,\"532\":16107.19171,\"533\":18292.63514,\"534\":20293.89746,\"535\":22066.44214,\"536\":24703.79615,\"537\":25889.78487,\"538\":28926.03234,\"539\":30470.0167,\"540\":4293.476475,\"541\":4976.198099,\"542\":6631.459222,\"543\":8358.761987,\"544\":11401.94841,\"545\":21745.57328,\"546\":15113.36194,\"547\":11864.40844,\"548\":13522.15752,\"549\":14722.84188,\"550\":12521.71392,\"551\":13206.48452,\"552\":485.2306591,\"553\":520.9267111,\"554\":599.650276,\"555\":734.7829124,\"556\":756.0868363,\"557\":884.7552507,\"558\":835.8096108,\"559\":611.6588611,\"560\":665.6244126,\"561\":653.7301704,\"562\":660.5855997,\"563\":752.7497265,\"564\":7144.114393,\"565\":10187.82665,\"566\":12902.46291,\"567\":14745.62561,\"568\":18016.18027,\"569\":20512.92123,\"570\":22031.53274,\"571\":24639.18566,\"572\":26505.30317,\"573\":27788.88416,\"574\":30035.80198,\"575\":32170.37442,\"576\":911.2989371,\"577\":1043.561537,\"578\":1190.041118,\"579\":1125.69716,\"580\":1178.223708,\"581\":993.2239571,\"582\":876.032569,\"583\":847.0061135,\"584\":925.060154,\"585\":1005.245812,\"586\":1111.984578,\"587\":1327.60891,\"588\":3530.690067,\"589\":4916.299889,\"590\":6017.190733,\"591\":8513.097016,\"592\":12724.82957,\"593\":14195.52428,\"594\":15268.42089,\"595\":16120.52839,\"596\":17541.49634,\"597\":18747.69814,\"598\":22514.2548,\"599\":27538.41188,\"600\":2428.237769,\"601\":2617.155967,\"602\":2750.364446,\"603\":3242.531147,\"604\":4031.408271,\"605\":4879.992748,\"606\":4820.49479,\"607\":4246.485974,\"608\":4439.45084,\"609\":4684.313807,\"610\":4858.347495,\"611\":5186.050003,\"612\":510.1964923,\"613\":576.2670245,\"614\":686.3736739,\"615\":708.7595409,\"616\":741.6662307,\"617\":874.6858643,\"618\":857.2503577,\"619\":805.5724718,\"620\":794.3484384,\"621\":869.4497668,\"622\":945.5835837,\"623\":942.6542111,\"624\":299.850319,\"625\":431.7904566,\"626\":522.0343725,\"627\":715.5806402,\"628\":820.2245876,\"629\":764.7259628,\"630\":838.1239671,\"631\":736.4153921,\"632\":745.5398706,\"633\":796.6644681,\"634\":575.7047176,\"635\":579.231743,\"636\":1840.366939,\"637\":1726.887882,\"638\":1796.589032,\"639\":1452.057666,\"640\":1654.456946,\"641\":1874.298931,\"642\":2011.159549,\"643\":1823.015995,\"644\":1456.309517,\"645\":1341.726931,\"646\":1270.364932,\"647\":1201.637154,\"648\":2194.926204,\"649\":2220.487682,\"650\":2291.156835,\"651\":2538.269358,\"652\":2529.842345,\"653\":3203.208066,\"654\":3121.760794,\"655\":3023.096699,\"656\":3081.694603,\"657\":3160.454906,\"658\":3099.72866,\"659\":3548.330846,\"660\":3054.421209,\"661\":3629.076457,\"662\":4692.648272,\"663\":6197.962814,\"664\":8315.928145,\"665\":11186.14125,\"666\":14560.53051,\"667\":20038.47269,\"668\":24757.60301,\"669\":28377.63219,\"670\":30209.01516,\"671\":39724.97867,\"672\":5263.673816,\"673\":6040.180011,\"674\":7550.359877,\"675\":9326.64467,\"676\":10168.65611,\"677\":11674.83737,\"678\":12545.99066,\"679\":12986.47998,\"680\":10535.62855,\"681\":11712.7768,\"682\":14843.93556,\"683\":18008.94444,\"684\":7267.688428,\"685\":9244.001412,\"686\":10350.15906,\"687\":13319.89568,\"688\":15798.06362,\"689\":19654.96247,\"690\":23269.6075,\"691\":26923.20628,\"692\":25144.39201,\"693\":28061.09966,\"694\":31163.20196,\"695\":36180.78919,\"696\":546.5657493,\"697\":590.061996,\"698\":658.3471509,\"699\":700.7706107,\"700\":724.032527,\"701\":813.337323,\"702\":855.7235377,\"703\":976.5126756,\"704\":1164.406809,\"705\":1458.817442,\"706\":1746.769454,\"707\":2452.210407,\"708\":749.6816546,\"709\":858.9002707,\"710\":849.2897701,\"711\":762.4317721,\"712\":1111.107907,\"713\":1382.702056,\"714\":1516.872988,\"715\":1748.356961,\"716\":2383.140898,\"717\":3119.335603,\"718\":2873.91287,\"719\":3540.651564,\"720\":3035.326002,\"721\":3290.257643,\"722\":4187.329802,\"723\":5906.731805,\"724\":9613.818607,\"725\":11888.59508,\"726\":7608.334602,\"727\":6642.881371,\"728\":7235.653188,\"729\":8263.590301,\"730\":9240.761975,\"731\":11605.71449,\"732\":4129.766056,\"733\":6229.333562,\"734\":8341.737815,\"735\":8931.459811,\"736\":9576.037596,\"737\":14688.23507,\"738\":14517.90711,\"739\":11643.57268,\"740\":3745.640687,\"741\":3076.239795,\"742\":4390.717312,\"743\":4471.061906,\"744\":5210.280328,\"745\":5599.077872,\"746\":6631.597314,\"747\":7655.568963,\"748\":9530.772896,\"749\":11150.98113,\"750\":12618.32141,\"751\":13872.86652,\"752\":17558.81555,\"753\":24521.94713,\"754\":34077.04939,\"755\":40675.99635,\"756\":4086.522128,\"757\":5385.278451,\"758\":7105.630706,\"759\":8393.741404,\"760\":12786.93223,\"761\":13306.61921,\"762\":15367.0292,\"763\":17122.47986,\"764\":18051.52254,\"765\":20896.60924,\"766\":21905.59514,\"767\":25523.2771,\"768\":4931.404155,\"769\":6248.656232,\"770\":8243.58234,\"771\":10022.40131,\"772\":12269.27378,\"773\":14255.98475,\"774\":16537.4835,\"775\":19207.23482,\"776\":22013.64486,\"777\":24675.02446,\"778\":27968.09817,\"779\":28569.7197,\"780\":2898.530881,\"781\":4756.525781,\"782\":5246.107524,\"783\":6124.703451,\"784\":7433.889293,\"785\":6650.195573,\"786\":6068.05135,\"787\":6351.237495,\"788\":7404.923685,\"789\":7121.924704,\"790\":6994.774861,\"791\":7320.880262,\"792\":3216.956347,\"793\":4317.694365,\"794\":6576.649461,\"795\":9847.788607,\"796\":14778.78636,\"797\":16610.37701,\"798\":19384.10571,\"799\":22375.94189,\"800\":26824.89511,\"801\":28816.58499,\"802\":28604.5919,\"803\":31656.06806,\"804\":1546.907807,\"805\":1886.080591,\"806\":2348.009158,\"807\":2741.796252,\"808\":2110.856309,\"809\":2852.351568,\"810\":4161.415959,\"811\":4448.679912,\"812\":3431.593647,\"813\":3645.379572,\"814\":3844.917194,\"815\":4519.461171,\"816\":853.540919,\"817\":944.4383152,\"818\":896.9663732,\"819\":1056.736457,\"820\":1222.359968,\"821\":1267.613204,\"822\":1348.225791,\"823\":1361.936856,\"824\":1341.921721,\"825\":1360.485021,\"826\":1287.514732,\"827\":1463.249282,\"828\":1088.277758,\"829\":1571.134655,\"830\":1621.693598,\"831\":2143.540609,\"832\":3701.621503,\"833\":4106.301249,\"834\":4106.525293,\"835\":4106.492315,\"836\":3726.063507,\"837\":1690.756814,\"838\":1646.758151,\"839\":1593.06548,\"840\":1030.592226,\"841\":1487.593537,\"842\":1536.344387,\"843\":2029.228142,\"844\":3030.87665,\"845\":4657.22102,\"846\":5622.942464,\"847\":8533.088805,\"848\":12104.27872,\"849\":15993.52796,\"850\":19233.98818,\"851\":23348.13973,\"852\":108382.3529,\"853\":113523.1329,\"854\":95458.11176,\"855\":80894.88326,\"856\":109347.867,\"857\":59265.47714,\"858\":31354.03573,\"859\":28118.42998,\"860\":34932.91959,\"861\":40300.61996,\"862\":35110.10566,\"863\":47306.98978,\"864\":4834.804067,\"865\":6089.786934,\"866\":5714.560611,\"867\":6006.983042,\"868\":7486.384341,\"869\":8659.696836,\"870\":7640.519521,\"871\":5377.091329,\"872\":6890.806854,\"873\":8754.96385,\"874\":9313.93883,\"875\":10461.05868,\"876\":298.8462121,\"877\":335.9971151,\"878\":411.8006266,\"879\":498.6390265,\"880\":496.5815922,\"881\":745.3695408,\"882\":797.2631074,\"883\":773.9932141,\"884\":977.4862725,\"885\":1186.147994,\"886\":1275.184575,\"887\":1569.331442,\"888\":575.5729961,\"889\":620.9699901,\"890\":634.1951625,\"891\":713.6036483,\"892\":803.0054535,\"893\":640.3224383,\"894\":572.1995694,\"895\":506.1138573,\"896\":636.6229191,\"897\":609.1739508,\"898\":531.4823679,\"899\":414.5073415,\"900\":2387.54806,\"901\":3448.284395,\"902\":6757.030816,\"903\":18772.75169,\"904\":21011.49721,\"905\":21951.21176,\"906\":17364.27538,\"907\":11770.5898,\"908\":9640.138501,\"909\":9467.446056,\"910\":9534.677467,\"911\":12057.49928,\"912\":1443.011715,\"913\":1589.20275,\"914\":1643.38711,\"915\":1634.047282,\"916\":1748.562982,\"917\":1544.228586,\"918\":1302.878658,\"919\":1155.441948,\"920\":1040.67619,\"921\":986.2958956,\"922\":894.6370822,\"923\":1044.770126,\"924\":369.1650802,\"925\":416.3698064,\"926\":427.9010856,\"927\":495.5147806,\"928\":584.6219709,\"929\":663.2236766,\"930\":632.8039209,\"931\":635.5173634,\"932\":563.2000145,\"933\":692.2758103,\"934\":665.4231186,\"935\":759.3499101,\"936\":1831.132894,\"937\":1810.066992,\"938\":2036.884944,\"939\":2277.742396,\"940\":2849.09478,\"941\":3827.921571,\"942\":4920.355951,\"943\":5249.802653,\"944\":7277.912802,\"945\":10132.90964,\"946\":10206.97794,\"947\":12451.6558,\"948\":452.3369807,\"949\":490.3821867,\"950\":496.1743428,\"951\":545.0098873,\"952\":581.3688761,\"953\":686.3952693,\"954\":618.0140641,\"955\":684.1715576,\"956\":739.014375,\"957\":790.2579846,\"958\":951.4097518,\"959\":1042.581557,\"960\":743.1159097,\"961\":846.1202613,\"962\":1055.896036,\"963\":1421.145193,\"964\":1586.851781,\"965\":1497.492223,\"966\":1481.150189,\"967\":1421.603576,\"968\":1361.369784,\"969\":1483.136136,\"970\":1579.019543,\"971\":1803.151496,\"972\":1967.955707,\"973\":2034.037981,\"974\":2529.067487,\"975\":2475.387562,\"976\":2575.484158,\"977\":3710.982963,\"978\":3688.037739,\"979\":4783.586903,\"980\":6058.253846,\"981\":7425.705295,\"982\":9021.815894,\"983\":10956.99112,\"984\":3478.125529,\"985\":4131.546641,\"986\":4581.609385,\"987\":5754.733883,\"988\":6809.40669,\"989\":7674.929108,\"990\":9611.147541,\"991\":8688.156003,\"992\":9472.384295,\"993\":9767.29753,\"994\":10742.44053,\"995\":11977.57496,\"996\":786.5668575,\"997\":912.6626085,\"998\":1056.353958,\"999\":1226.04113,\"1000\":1421.741975,\"1001\":1647.511665,\"1002\":2000.603139,\"1003\":2338.008304,\"1004\":1785.402016,\"1005\":1902.2521,\"1006\":2140.739323,\"1007\":3095.772271,\"1008\":2647.585601,\"1009\":3682.259903,\"1010\":4649.593785,\"1011\":5907.850937,\"1012\":7778.414017,\"1013\":9595.929905,\"1014\":11222.58762,\"1015\":11732.51017,\"1016\":7003.339037,\"1017\":6465.613349,\"1018\":6557.194282,\"1019\":9253.896111,\"1020\":1688.20357,\"1021\":1642.002314,\"1022\":1566.353493,\"1023\":1711.04477,\"1024\":1930.194975,\"1025\":2370.619976,\"1026\":2702.620356,\"1027\":2755.046991,\"1028\":2948.047252,\"1029\":2982.101858,\"1030\":3258.495584,\"1031\":3820.17523,\"1032\":468.5260381,\"1033\":495.5868333,\"1034\":556.6863539,\"1035\":566.6691539,\"1036\":724.9178037,\"1037\":502.3197334,\"1038\":462.2114149,\"1039\":389.8761846,\"1040\":410.8968239,\"1041\":472.3460771,\"1042\":633.6179466,\"1043\":823.6856205,\"1044\":331.0,\"1045\":350.0,\"1046\":388.0,\"1047\":349.0,\"1048\":357.0,\"1049\":371.0,\"1050\":424.0,\"1051\":385.0,\"1052\":347.0,\"1053\":415.0,\"1054\":611.0,\"1055\":944.0,\"1056\":2423.780443,\"1057\":2621.448058,\"1058\":3173.215595,\"1059\":3793.694753,\"1060\":3746.080948,\"1061\":3876.485958,\"1062\":4191.100511,\"1063\":3693.731337,\"1064\":3804.537999,\"1065\":3899.52426,\"1066\":4072.324751,\"1067\":4811.060429,\"1068\":545.8657229,\"1069\":597.9363558,\"1070\":652.3968593,\"1071\":676.4422254,\"1072\":674.7881296,\"1073\":694.1124398,\"1074\":718.3730947,\"1075\":775.6324501,\"1076\":897.7403604,\"1077\":1010.892138,\"1078\":1057.206311,\"1079\":1091.359778,\"1080\":8941.571858,\"1081\":11276.19344,\"1082\":12790.84956,\"1083\":15363.25136,\"1084\":18794.74567,\"1085\":21209.0592,\"1086\":21399.46046,\"1087\":23651.32361,\"1088\":26790.94961,\"1089\":30246.13063,\"1090\":33724.75778,\"1091\":36797.93332,\"1092\":10556.57566,\"1093\":12247.39532,\"1094\":13175.678,\"1095\":14463.91893,\"1096\":16046.03728,\"1097\":16233.7177,\"1098\":17632.4104,\"1099\":19007.19129,\"1100\":18363.32494,\"1101\":21050.41377,\"1102\":23189.80135,\"1103\":25185.00911,\"1104\":3112.363948,\"1105\":3457.415947,\"1106\":3634.364406,\"1107\":4643.393534,\"1108\":4688.593267,\"1109\":5486.371089,\"1110\":3470.338156,\"1111\":2955.984375,\"1112\":2170.151724,\"1113\":2253.023004,\"1114\":2474.548819,\"1115\":2749.320965,\"1116\":761.879376,\"1117\":835.5234025,\"1118\":997.7661127,\"1119\":1054.384891,\"1120\":954.2092363,\"1121\":808.8970728,\"1122\":909.7221354,\"1123\":668.3000228,\"1124\":581.182725,\"1125\":580.3052092,\"1126\":601.0745012,\"1127\":619.6768924,\"1128\":1077.281856,\"1129\":1100.592563,\"1130\":1150.927478,\"1131\":1014.514104,\"1132\":1698.388838,\"1133\":1981.951806,\"1134\":1576.97375,\"1135\":1385.029563,\"1136\":1619.848217,\"1137\":1624.941275,\"1138\":1615.286395,\"1139\":2013.977305,\"1140\":10095.42172,\"1141\":11653.97304,\"1142\":13450.40151,\"1143\":16361.87647,\"1144\":18965.05551,\"1145\":23311.34939,\"1146\":26298.63531,\"1147\":31540.9748,\"1148\":33965.66115,\"1149\":41283.16433,\"1150\":44683.97525,\"1151\":49357.19017,\"1152\":1828.230307,\"1153\":2242.746551,\"1154\":2924.638113,\"1155\":4720.942687,\"1156\":10618.03855,\"1157\":11848.34392,\"1158\":12954.79101,\"1159\":18115.22313,\"1160\":18616.70691,\"1161\":19702.05581,\"1162\":19774.83687,\"1163\":22316.19287,\"1164\":684.5971438,\"1165\":747.0835292,\"1166\":803.3427418,\"1167\":942.4082588,\"1168\":1049.938981,\"1169\":1175.921193,\"1170\":1443.429832,\"1171\":1704.686583,\"1172\":1971.829464,\"1173\":2049.350521,\"1174\":2092.712441,\"1175\":2605.94758,\"1176\":2480.380334,\"1177\":2961.800905,\"1178\":3536.540301,\"1179\":4421.009084,\"1180\":5364.249663,\"1181\":5351.912144,\"1182\":7009.601598,\"1183\":7034.779161,\"1184\":6618.74305,\"1185\":7113.692252,\"1186\":7356.031934,\"1187\":9809.185636,\"1188\":1952.308701,\"1189\":2046.154706,\"1190\":2148.027146,\"1191\":2299.376311,\"1192\":2523.337977,\"1193\":3248.373311,\"1194\":4258.503604,\"1195\":3998.875695,\"1196\":4196.411078,\"1197\":4247.400261,\"1198\":3783.674243,\"1199\":4172.838464,\"1200\":3758.523437,\"1201\":4245.256698,\"1202\":4957.037982,\"1203\":5788.09333,\"1204\":5937.827283,\"1205\":6281.290855,\"1206\":6434.501797,\"1207\":6360.943444,\"1208\":4446.380924,\"1209\":5838.347657,\"1210\":5909.020073,\"1211\":7408.905561,\"1212\":1272.880995,\"1213\":1547.944844,\"1214\":1649.552153,\"1215\":1814.12743,\"1216\":1989.37407,\"1217\":2373.204287,\"1218\":2603.273765,\"1219\":2189.634995,\"1220\":2279.324017,\"1221\":2536.534925,\"1222\":2650.921068,\"1223\":3190.481016,\"1224\":4029.329699,\"1225\":4734.253019,\"1226\":5338.752143,\"1227\":6557.152776,\"1228\":8006.506993,\"1229\":9508.141454,\"1230\":8451.531004,\"1231\":9082.351172,\"1232\":7738.881247,\"1233\":10159.58368,\"1234\":12002.23908,\"1235\":15389.92468,\"1236\":3068.319867,\"1237\":3774.571743,\"1238\":4727.954889,\"1239\":6361.517993,\"1240\":9022.247417,\"1241\":10172.48572,\"1242\":11753.84291,\"1243\":13039.30876,\"1244\":16207.26663,\"1245\":17641.03156,\"1246\":19970.90787,\"1247\":20509.64777,\"1248\":3081.959785,\"1249\":3907.156189,\"1250\":5108.34463,\"1251\":6929.277714,\"1252\":9123.041742,\"1253\":9770.524921,\"1254\":10330.98915,\"1255\":12281.34191,\"1256\":14641.58711,\"1257\":16999.4333,\"1258\":18855.60618,\"1259\":19328.70901,\"1260\":2718.885295,\"1261\":2769.451844,\"1262\":3173.72334,\"1263\":4021.175739,\"1264\":5047.658563,\"1265\":4319.804067,\"1266\":5267.219353,\"1267\":5303.377488,\"1268\":6101.255823,\"1269\":6071.941411,\"1270\":6316.1652,\"1271\":7670.122558,\"1272\":3144.613186,\"1273\":3943.370225,\"1274\":4734.997586,\"1275\":6470.866545,\"1276\":8011.414402,\"1277\":9356.39724,\"1278\":9605.314053,\"1279\":9696.273295,\"1280\":6598.409903,\"1281\":7346.547557,\"1282\":7885.360081,\"1283\":10808.47561,\"1284\":493.3238752,\"1285\":540.2893983,\"1286\":597.4730727,\"1287\":510.9637142,\"1288\":590.5806638,\"1289\":670.0806011,\"1290\":881.5706467,\"1291\":847.991217,\"1292\":737.0685949,\"1293\":589.9445051,\"1294\":785.6537648,\"1295\":863.0884639,\"1296\":879.5835855,\"1297\":860.7369026,\"1298\":1071.551119,\"1299\":1384.840593,\"1300\":1532.985254,\"1301\":1737.561657,\"1302\":1890.218117,\"1303\":1516.525457,\"1304\":1428.777814,\"1305\":1339.076036,\"1306\":1353.09239,\"1307\":1598.435089,\"1308\":6459.554823,\"1309\":8157.591248,\"1310\":11626.41975,\"1311\":16903.04886,\"1312\":24837.42865,\"1313\":34167.7626,\"1314\":33693.17525,\"1315\":21198.26136,\"1316\":24841.61777,\"1317\":20586.69019,\"1318\":19014.54118,\"1319\":21654.83194,\"1320\":1450.356983,\"1321\":1567.653006,\"1322\":1654.988723,\"1323\":1612.404632,\"1324\":1597.712056,\"1325\":1561.769116,\"1326\":1518.479984,\"1327\":1441.72072,\"1328\":1367.899369,\"1329\":1392.368347,\"1330\":1519.635262,\"1331\":1712.472136,\"1332\":3581.459448,\"1333\":4981.090891,\"1334\":6289.629157,\"1335\":7991.707066,\"1336\":10522.06749,\"1337\":12980.66956,\"1338\":15181.0927,\"1339\":15870.87851,\"1340\":9325.068238,\"1341\":7914.320304,\"1342\":7236.075251,\"1343\":9786.534714,\"1344\":879.7877358,\"1345\":1004.484437,\"1346\":1116.639877,\"1347\":1206.043465,\"1348\":1353.759762,\"1349\":1348.285159,\"1350\":1465.010784,\"1351\":1294.447788,\"1352\":1068.696278,\"1353\":574.6481576,\"1354\":699.489713,\"1355\":862.5407561,\"1356\":2315.138227,\"1357\":2843.104409,\"1358\":3674.735572,\"1359\":4977.41854,\"1360\":8597.756202,\"1361\":11210.08948,\"1362\":15169.16112,\"1363\":18861.53081,\"1364\":24769.8912,\"1365\":33519.4766,\"1366\":36023.1054,\"1367\":47143.17964,\"1368\":5074.659104,\"1369\":6093.26298,\"1370\":7481.107598,\"1371\":8412.902397,\"1372\":9674.167626,\"1373\":10922.66404,\"1374\":11348.54585,\"1375\":12037.26758,\"1376\":9498.467723,\"1377\":12126.23065,\"1378\":13638.77837,\"1379\":18678.31435,\"1380\":4215.041741,\"1381\":5862.276629,\"1382\":7402.303395,\"1383\":9405.489397,\"1384\":12383.4862,\"1385\":15277.03017,\"1386\":17866.72175,\"1387\":18678.53492,\"1388\":14214.71681,\"1389\":17161.10735,\"1390\":20660.01936,\"1391\":25768.25759,\"1392\":1135.749842,\"1393\":1258.147413,\"1394\":1369.488336,\"1395\":1284.73318,\"1396\":1254.576127,\"1397\":1450.992513,\"1398\":1176.807031,\"1399\":1093.244963,\"1400\":926.9602964,\"1401\":930.5964284,\"1402\":882.0818218,\"1403\":926.1410683,\"1404\":4725.295531,\"1405\":5487.104219,\"1406\":5768.729717,\"1407\":7114.477971,\"1408\":7765.962636,\"1409\":8028.651439,\"1410\":8568.266228,\"1411\":7825.823398,\"1412\":7225.069258,\"1413\":7479.188244,\"1414\":7710.946444,\"1415\":9269.657808,\"1416\":3834.034742,\"1417\":4564.80241,\"1418\":5693.843879,\"1419\":7993.512294,\"1420\":10638.75131,\"1421\":13236.92117,\"1422\":13926.16997,\"1423\":15764.98313,\"1424\":18603.06452,\"1425\":20445.29896,\"1426\":24835.47166,\"1427\":28821.0637,\"1428\":1083.53203,\"1429\":1072.546602,\"1430\":1074.47196,\"1431\":1135.514326,\"1432\":1213.39553,\"1433\":1348.775651,\"1434\":1648.079789,\"1435\":1876.766827,\"1436\":2153.739222,\"1437\":2664.477257,\"1438\":3015.378833,\"1439\":3970.095407,\"1440\":1615.991129,\"1441\":1770.337074,\"1442\":1959.593767,\"1443\":1687.997641,\"1444\":1659.652775,\"1445\":2202.988423,\"1446\":1895.544073,\"1447\":1507.819159,\"1448\":1492.197043,\"1449\":1632.210764,\"1450\":1993.398314,\"1451\":2602.394995,\"1452\":1148.376626,\"1453\":1244.708364,\"1454\":1856.182125,\"1455\":2613.101665,\"1456\":3364.836625,\"1457\":3781.410618,\"1458\":3895.384018,\"1459\":3984.839812,\"1460\":3553.0224,\"1461\":3876.76846,\"1462\":4128.116943,\"1463\":4513.480643,\"1464\":8527.844662,\"1465\":9911.878226,\"1466\":12329.44192,\"1467\":15258.29697,\"1468\":17832.02464,\"1469\":18855.72521,\"1470\":20667.38125,\"1471\":23586.92927,\"1472\":23880.01683,\"1473\":25266.59499,\"1474\":29341.63093,\"1475\":33859.74835,\"1476\":14734.23275,\"1477\":17909.48973,\"1478\":20431.0927,\"1479\":22966.14432,\"1480\":27195.11304,\"1481\":26982.29052,\"1482\":28397.71512,\"1483\":30281.70459,\"1484\":31871.5303,\"1485\":32135.32301,\"1486\":34480.95771,\"1487\":37506.41907,\"1488\":1643.485354,\"1489\":2117.234893,\"1490\":2193.037133,\"1491\":1881.923632,\"1492\":2571.423014,\"1493\":3195.484582,\"1494\":3761.837715,\"1495\":3116.774285,\"1496\":3340.542768,\"1497\":4014.238972,\"1498\":4090.925331,\"1499\":4184.548089,\"1500\":1206.947913,\"1501\":1507.86129,\"1502\":1822.879028,\"1503\":2643.858681,\"1504\":4062.523897,\"1505\":5596.519826,\"1506\":7426.354774,\"1507\":11054.56175,\"1508\":15215.6579,\"1509\":20206.82098,\"1510\":23235.42329,\"1511\":28718.27684,\"1512\":716.6500721,\"1513\":698.5356073,\"1514\":722.0038073,\"1515\":848.2186575,\"1516\":915.9850592,\"1517\":962.4922932,\"1518\":874.2426069,\"1519\":831.8220794,\"1520\":825.682454,\"1521\":789.1862231,\"1522\":899.0742111,\"1523\":1107.482182,\"1524\":757.7974177,\"1525\":793.5774148,\"1526\":1002.199172,\"1527\":1295.46066,\"1528\":1524.358936,\"1529\":1961.224635,\"1530\":2393.219781,\"1531\":2982.653773,\"1532\":4616.896545,\"1533\":5852.625497,\"1534\":5913.187529,\"1535\":7458.396327,\"1536\":859.8086567,\"1537\":925.9083202,\"1538\":1067.53481,\"1539\":1477.59676,\"1540\":1649.660188,\"1541\":1532.776998,\"1542\":1344.577953,\"1543\":1202.201361,\"1544\":1034.298904,\"1545\":982.2869243,\"1546\":886.2205765,\"1547\":882.9699438,\"1548\":3023.271928,\"1549\":4100.3934,\"1550\":4997.523971,\"1551\":5621.368472,\"1552\":6619.551419,\"1553\":7899.554209,\"1554\":9119.528607,\"1555\":7388.597823,\"1556\":7370.990932,\"1557\":8792.573126,\"1558\":11460.60023,\"1559\":18008.50924,\"1560\":1468.475631,\"1561\":1395.232468,\"1562\":1660.30321,\"1563\":1932.360167,\"1564\":2753.285994,\"1565\":3120.876811,\"1566\":3560.233174,\"1567\":3810.419296,\"1568\":4332.720164,\"1569\":4876.798614,\"1570\":5722.895655,\"1571\":7092.923025,\"1572\":1969.10098,\"1573\":2218.754257,\"1574\":2322.869908,\"1575\":2826.356387,\"1576\":3450.69638,\"1577\":4269.122326,\"1578\":4241.356344,\"1579\":5089.043686,\"1580\":5678.348271,\"1581\":6601.429915,\"1582\":6508.085718,\"1583\":8458.276384,\"1584\":734.753484,\"1585\":774.3710692,\"1586\":767.2717398,\"1587\":908.9185217,\"1588\":950.735869,\"1589\":843.7331372,\"1590\":682.2662268,\"1591\":617.7244065,\"1592\":644.1707969,\"1593\":816.559081,\"1594\":927.7210018,\"1595\":1056.380121,\"1596\":9979.508487,\"1597\":11283.17795,\"1598\":12477.17707,\"1599\":14142.85089,\"1600\":15895.11641,\"1601\":17428.74846,\"1602\":18232.42452,\"1603\":21664.78767,\"1604\":22705.09254,\"1605\":26074.53136,\"1606\":29478.99919,\"1607\":33203.26128,\"1608\":13990.48208,\"1609\":14847.12712,\"1610\":16173.14586,\"1611\":19530.36557,\"1612\":21806.03594,\"1613\":24072.63213,\"1614\":25009.55914,\"1615\":29884.35041,\"1616\":32003.93224,\"1617\":35767.43303,\"1618\":39097.09955,\"1619\":42951.65309,\"1620\":5716.766744,\"1621\":6150.772969,\"1622\":5603.357717,\"1623\":5444.61962,\"1624\":5703.408898,\"1625\":6504.339663,\"1626\":6920.223051,\"1627\":7452.398969,\"1628\":8137.004775,\"1629\":9230.240708,\"1630\":7727.002004,\"1631\":10611.46299,\"1632\":7689.799761,\"1633\":9802.466526,\"1634\":8422.974165,\"1635\":9541.474188,\"1636\":10505.25966,\"1637\":13143.95095,\"1638\":11152.41011,\"1639\":9883.584648,\"1640\":10733.92631,\"1641\":10165.49518,\"1642\":8605.047831,\"1643\":11415.80569,\"1644\":605.0664917,\"1645\":676.2854478,\"1646\":772.0491602,\"1647\":637.1232887,\"1648\":699.5016441,\"1649\":713.5371196,\"1650\":707.2357863,\"1651\":820.7994449,\"1652\":989.0231487,\"1653\":1385.896769,\"1654\":1764.456677,\"1655\":2441.576404,\"1656\":1515.592329,\"1657\":1827.067742,\"1658\":2198.956312,\"1659\":2649.715007,\"1660\":3133.409277,\"1661\":3682.831494,\"1662\":4336.032082,\"1663\":5107.197384,\"1664\":6017.654756,\"1665\":7110.667619,\"1666\":4515.487575,\"1667\":3025.349798,\"1668\":781.7175761,\"1669\":804.8304547,\"1670\":825.6232006,\"1671\":862.4421463,\"1672\":1265.047031,\"1673\":1829.765177,\"1674\":1977.55701,\"1675\":1971.741538,\"1676\":1879.496673,\"1677\":2117.484526,\"1678\":2234.820827,\"1679\":2280.769906,\"1680\":1147.388831,\"1681\":1311.956766,\"1682\":1452.725766,\"1683\":1777.077318,\"1684\":1773.498265,\"1685\":1588.688299,\"1686\":1408.678565,\"1687\":1213.315116,\"1688\":1210.884633,\"1689\":1071.353818,\"1690\":1071.613938,\"1691\":1271.211593,\"1692\":406.8841148,\"1693\":518.7642681,\"1694\":527.2721818,\"1695\":569.7950712,\"1696\":799.3621758,\"1697\":685.5876821,\"1698\":788.8550411,\"1699\":706.1573059,\"1700\":693.4207856,\"1701\":792.4499603,\"1702\":672.0386227,\"1703\":469.7092981}}\n"
     ]
    }
   ],
   "source": [
    "print(df_json)"
   ]
  },
  {
   "cell_type": "code",
   "execution_count": 78,
   "metadata": {},
   "outputs": [],
   "source": [
    "with open ('df.json','w') as f :\n",
    "    f.write(df_json)\n",
    "    pass"
   ]
  },
  {
   "cell_type": "code",
   "execution_count": 10,
   "metadata": {
    "scrolled": true
   },
   "outputs": [
    {
     "data": {
      "text/html": [
       "<div>\n",
       "<style scoped>\n",
       "    .dataframe tbody tr th:only-of-type {\n",
       "        vertical-align: middle;\n",
       "    }\n",
       "\n",
       "    .dataframe tbody tr th {\n",
       "        vertical-align: top;\n",
       "    }\n",
       "\n",
       "    .dataframe thead th {\n",
       "        text-align: right;\n",
       "    }\n",
       "</style>\n",
       "<table border=\"1\" class=\"dataframe\">\n",
       "  <thead>\n",
       "    <tr style=\"text-align: right;\">\n",
       "      <th></th>\n",
       "      <th>country</th>\n",
       "      <th>lifeExp</th>\n",
       "      <th>gdpPercap</th>\n",
       "    </tr>\n",
       "  </thead>\n",
       "  <tbody>\n",
       "    <tr>\n",
       "      <th>0</th>\n",
       "      <td>Afghanistan</td>\n",
       "      <td>28.801</td>\n",
       "      <td>779.445314</td>\n",
       "    </tr>\n",
       "    <tr>\n",
       "      <th>99</th>\n",
       "      <td>Bangladesh</td>\n",
       "      <td>43.453</td>\n",
       "      <td>721.186086</td>\n",
       "    </tr>\n",
       "    <tr>\n",
       "      <th>999</th>\n",
       "      <td>Mongolia</td>\n",
       "      <td>51.253</td>\n",
       "      <td>1226.041130</td>\n",
       "    </tr>\n",
       "  </tbody>\n",
       "</table>\n",
       "</div>"
      ],
      "text/plain": [
       "         country  lifeExp    gdpPercap\n",
       "0    Afghanistan   28.801   779.445314\n",
       "99    Bangladesh   43.453   721.186086\n",
       "999     Mongolia   51.253  1226.041130"
      ]
     },
     "execution_count": 10,
     "metadata": {},
     "output_type": "execute_result"
    }
   ],
   "source": [
    "df.iloc[[0,99,999],[0,3,5]]  # 오류남"
   ]
  },
  {
   "cell_type": "code",
   "execution_count": 8,
   "metadata": {
    "scrolled": true
   },
   "outputs": [
    {
     "ename": "IndexError",
     "evalue": ".iloc requires numeric indexers, got ['country' 'lifeExp' 'gdpPercap']",
     "output_type": "error",
     "traceback": [
      "\u001b[1;31m---------------------------------------------------------------------------\u001b[0m",
      "\u001b[1;31mIndexError\u001b[0m                                Traceback (most recent call last)",
      "\u001b[1;32m<ipython-input-8-33ce3de4ddce>\u001b[0m in \u001b[0;36m<module>\u001b[1;34m\u001b[0m\n\u001b[1;32m----> 1\u001b[1;33m \u001b[0mprint\u001b[0m\u001b[1;33m(\u001b[0m\u001b[0mdf\u001b[0m\u001b[1;33m.\u001b[0m\u001b[0miloc\u001b[0m\u001b[1;33m[\u001b[0m\u001b[1;33m[\u001b[0m\u001b[1;36m0\u001b[0m\u001b[1;33m,\u001b[0m\u001b[1;36m99\u001b[0m\u001b[1;33m,\u001b[0m\u001b[1;36m999\u001b[0m\u001b[1;33m]\u001b[0m\u001b[1;33m,\u001b[0m\u001b[1;33m[\u001b[0m\u001b[1;34m'country'\u001b[0m\u001b[1;33m,\u001b[0m\u001b[1;34m'lifeExp'\u001b[0m\u001b[1;33m,\u001b[0m\u001b[1;34m'gdpPercap'\u001b[0m\u001b[1;33m]\u001b[0m\u001b[1;33m]\u001b[0m\u001b[1;33m)\u001b[0m\u001b[1;33m\u001b[0m\u001b[1;33m\u001b[0m\u001b[0m\n\u001b[0m",
      "\u001b[1;32mc:\\app\\python38\\lib\\site-packages\\pandas\\core\\indexing.py\u001b[0m in \u001b[0;36m__getitem__\u001b[1;34m(self, key)\u001b[0m\n\u001b[0;32m   1416\u001b[0m                 \u001b[1;32mexcept\u001b[0m \u001b[1;33m(\u001b[0m\u001b[0mKeyError\u001b[0m\u001b[1;33m,\u001b[0m \u001b[0mIndexError\u001b[0m\u001b[1;33m,\u001b[0m \u001b[0mAttributeError\u001b[0m\u001b[1;33m)\u001b[0m\u001b[1;33m:\u001b[0m\u001b[1;33m\u001b[0m\u001b[1;33m\u001b[0m\u001b[0m\n\u001b[0;32m   1417\u001b[0m                     \u001b[1;32mpass\u001b[0m\u001b[1;33m\u001b[0m\u001b[1;33m\u001b[0m\u001b[0m\n\u001b[1;32m-> 1418\u001b[1;33m             \u001b[1;32mreturn\u001b[0m \u001b[0mself\u001b[0m\u001b[1;33m.\u001b[0m\u001b[0m_getitem_tuple\u001b[0m\u001b[1;33m(\u001b[0m\u001b[0mkey\u001b[0m\u001b[1;33m)\u001b[0m\u001b[1;33m\u001b[0m\u001b[1;33m\u001b[0m\u001b[0m\n\u001b[0m\u001b[0;32m   1419\u001b[0m         \u001b[1;32melse\u001b[0m\u001b[1;33m:\u001b[0m\u001b[1;33m\u001b[0m\u001b[1;33m\u001b[0m\u001b[0m\n\u001b[0;32m   1420\u001b[0m             \u001b[1;31m# we by definition only have the 0th axis\u001b[0m\u001b[1;33m\u001b[0m\u001b[1;33m\u001b[0m\u001b[1;33m\u001b[0m\u001b[0m\n",
      "\u001b[1;32mc:\\app\\python38\\lib\\site-packages\\pandas\\core\\indexing.py\u001b[0m in \u001b[0;36m_getitem_tuple\u001b[1;34m(self, tup)\u001b[0m\n\u001b[0;32m   2090\u001b[0m     \u001b[1;32mdef\u001b[0m \u001b[0m_getitem_tuple\u001b[0m\u001b[1;33m(\u001b[0m\u001b[0mself\u001b[0m\u001b[1;33m,\u001b[0m \u001b[0mtup\u001b[0m\u001b[1;33m)\u001b[0m\u001b[1;33m:\u001b[0m\u001b[1;33m\u001b[0m\u001b[1;33m\u001b[0m\u001b[0m\n\u001b[0;32m   2091\u001b[0m \u001b[1;33m\u001b[0m\u001b[0m\n\u001b[1;32m-> 2092\u001b[1;33m         \u001b[0mself\u001b[0m\u001b[1;33m.\u001b[0m\u001b[0m_has_valid_tuple\u001b[0m\u001b[1;33m(\u001b[0m\u001b[0mtup\u001b[0m\u001b[1;33m)\u001b[0m\u001b[1;33m\u001b[0m\u001b[1;33m\u001b[0m\u001b[0m\n\u001b[0m\u001b[0;32m   2093\u001b[0m         \u001b[1;32mtry\u001b[0m\u001b[1;33m:\u001b[0m\u001b[1;33m\u001b[0m\u001b[1;33m\u001b[0m\u001b[0m\n\u001b[0;32m   2094\u001b[0m             \u001b[1;32mreturn\u001b[0m \u001b[0mself\u001b[0m\u001b[1;33m.\u001b[0m\u001b[0m_getitem_lowerdim\u001b[0m\u001b[1;33m(\u001b[0m\u001b[0mtup\u001b[0m\u001b[1;33m)\u001b[0m\u001b[1;33m\u001b[0m\u001b[1;33m\u001b[0m\u001b[0m\n",
      "\u001b[1;32mc:\\app\\python38\\lib\\site-packages\\pandas\\core\\indexing.py\u001b[0m in \u001b[0;36m_has_valid_tuple\u001b[1;34m(self, key)\u001b[0m\n\u001b[0;32m    233\u001b[0m                 \u001b[1;32mraise\u001b[0m \u001b[0mIndexingError\u001b[0m\u001b[1;33m(\u001b[0m\u001b[1;34m\"Too many indexers\"\u001b[0m\u001b[1;33m)\u001b[0m\u001b[1;33m\u001b[0m\u001b[1;33m\u001b[0m\u001b[0m\n\u001b[0;32m    234\u001b[0m             \u001b[1;32mtry\u001b[0m\u001b[1;33m:\u001b[0m\u001b[1;33m\u001b[0m\u001b[1;33m\u001b[0m\u001b[0m\n\u001b[1;32m--> 235\u001b[1;33m                 \u001b[0mself\u001b[0m\u001b[1;33m.\u001b[0m\u001b[0m_validate_key\u001b[0m\u001b[1;33m(\u001b[0m\u001b[0mk\u001b[0m\u001b[1;33m,\u001b[0m \u001b[0mi\u001b[0m\u001b[1;33m)\u001b[0m\u001b[1;33m\u001b[0m\u001b[1;33m\u001b[0m\u001b[0m\n\u001b[0m\u001b[0;32m    236\u001b[0m             \u001b[1;32mexcept\u001b[0m \u001b[0mValueError\u001b[0m\u001b[1;33m:\u001b[0m\u001b[1;33m\u001b[0m\u001b[1;33m\u001b[0m\u001b[0m\n\u001b[0;32m    237\u001b[0m                 raise ValueError(\n",
      "\u001b[1;32mc:\\app\\python38\\lib\\site-packages\\pandas\\core\\indexing.py\u001b[0m in \u001b[0;36m_validate_key\u001b[1;34m(self, key, axis)\u001b[0m\n\u001b[0;32m   2023\u001b[0m             \u001b[1;31m# check that the key has a numeric dtype\u001b[0m\u001b[1;33m\u001b[0m\u001b[1;33m\u001b[0m\u001b[1;33m\u001b[0m\u001b[0m\n\u001b[0;32m   2024\u001b[0m             \u001b[1;32mif\u001b[0m \u001b[1;32mnot\u001b[0m \u001b[0mis_numeric_dtype\u001b[0m\u001b[1;33m(\u001b[0m\u001b[0marr\u001b[0m\u001b[1;33m.\u001b[0m\u001b[0mdtype\u001b[0m\u001b[1;33m)\u001b[0m\u001b[1;33m:\u001b[0m\u001b[1;33m\u001b[0m\u001b[1;33m\u001b[0m\u001b[0m\n\u001b[1;32m-> 2025\u001b[1;33m                 raise IndexError(\n\u001b[0m\u001b[0;32m   2026\u001b[0m                     \u001b[1;34m\".iloc requires numeric indexers, got {arr}\"\u001b[0m\u001b[1;33m.\u001b[0m\u001b[0mformat\u001b[0m\u001b[1;33m(\u001b[0m\u001b[0marr\u001b[0m\u001b[1;33m=\u001b[0m\u001b[0marr\u001b[0m\u001b[1;33m)\u001b[0m\u001b[1;33m\u001b[0m\u001b[1;33m\u001b[0m\u001b[0m\n\u001b[0;32m   2027\u001b[0m                 )\n",
      "\u001b[1;31mIndexError\u001b[0m: .iloc requires numeric indexers, got ['country' 'lifeExp' 'gdpPercap']"
     ]
    }
   ],
   "source": [
    "print(df.iloc[[0,99,999],['country','lifeExp','gdpPercap']])"
   ]
  },
  {
   "cell_type": "code",
   "execution_count": 11,
   "metadata": {},
   "outputs": [
    {
     "data": {
      "text/plain": [
       "1704"
      ]
     },
     "execution_count": 11,
     "metadata": {},
     "output_type": "execute_result"
    }
   ],
   "source": [
    "df.shape[0]"
   ]
  },
  {
   "cell_type": "code",
   "execution_count": 12,
   "metadata": {},
   "outputs": [
    {
     "data": {
      "text/plain": [
       "country      1704\n",
       "continent    1704\n",
       "year         1704\n",
       "lifeExp      1704\n",
       "pop          1704\n",
       "gdpPercap    1704\n",
       "dtype: int64"
      ]
     },
     "execution_count": 12,
     "metadata": {},
     "output_type": "execute_result"
    }
   ],
   "source": [
    "df.count()"
   ]
  },
  {
   "cell_type": "code",
   "execution_count": 13,
   "metadata": {},
   "outputs": [],
   "source": [
    "multi_group_var = df.groupby(['year', 'continent'])[['lifeExp', 'gdpPercap']].mean() \n"
   ]
  },
  {
   "cell_type": "code",
   "execution_count": 14,
   "metadata": {
    "scrolled": true
   },
   "outputs": [
    {
     "name": "stdout",
     "output_type": "stream",
     "text": [
      "                  lifeExp     gdpPercap\n",
      "year continent                         \n",
      "1952 Africa     39.135500   1252.572466\n",
      "     Americas   53.279840   4079.062552\n",
      "     Asia       46.314394   5195.484004\n",
      "     Europe     64.408500   5661.057435\n",
      "     Oceania    69.255000  10298.085650\n",
      "1957 Africa     41.266346   1385.236062\n",
      "     Americas   55.960280   4616.043733\n",
      "     Asia       49.318544   5787.732940\n",
      "     Europe     66.703067   6963.012816\n",
      "     Oceania    70.295000  11598.522455\n",
      "1962 Africa     43.319442   1598.078825\n",
      "     Americas   58.398760   4901.541870\n",
      "     Asia       51.563223   5729.369625\n",
      "     Europe     68.539233   8365.486814\n",
      "     Oceania    71.085000  12696.452430\n",
      "1967 Africa     45.334538   2050.363801\n",
      "     Americas   60.410920   5668.253496\n",
      "     Asia       54.663640   5971.173374\n",
      "     Europe     69.737600  10143.823757\n",
      "     Oceania    71.310000  14495.021790\n",
      "1972 Africa     47.450942   2339.615674\n",
      "     Americas   62.394920   6491.334139\n",
      "     Asia       57.319269   8187.468699\n",
      "     Europe     70.775033  12479.575246\n",
      "     Oceania    71.910000  16417.333380\n",
      "1977 Africa     49.580423   2585.938508\n",
      "     Americas   64.391560   7352.007126\n",
      "     Asia       59.610556   7791.314020\n",
      "     Europe     71.937767  14283.979110\n",
      "     Oceania    72.855000  17283.957605\n",
      "1982 Africa     51.592865   2481.592960\n",
      "     Americas   66.228840   7506.737088\n",
      "     Asia       62.617939   7434.135157\n",
      "     Europe     72.806400  15617.896551\n",
      "     Oceania    74.290000  18554.709840\n",
      "1987 Africa     53.344788   2282.668991\n",
      "     Americas   68.090720   7793.400261\n",
      "     Asia       64.851182   7608.226508\n",
      "     Europe     73.642167  17214.310727\n",
      "     Oceania    75.320000  20448.040160\n",
      "1992 Africa     53.629577   2281.810333\n",
      "     Americas   69.568360   8044.934406\n",
      "     Asia       66.537212   8639.690248\n",
      "     Europe     74.440100  17061.568084\n",
      "     Oceania    76.945000  20894.045885\n",
      "1997 Africa     53.598269   2378.759555\n",
      "     Americas   71.150480   8889.300863\n",
      "     Asia       68.020515   9834.093295\n",
      "     Europe     75.505167  19076.781802\n",
      "     Oceania    78.190000  24024.175170\n",
      "2002 Africa     53.325231   2599.385159\n",
      "     Americas   72.422040   9287.677107\n",
      "     Asia       69.233879  10174.090397\n",
      "     Europe     76.700600  21711.732422\n",
      "     Oceania    79.740000  26938.778040\n",
      "2007 Africa     54.806038   3089.032605\n",
      "     Americas   73.608120  11003.031625\n",
      "     Asia       70.728485  12473.026870\n",
      "     Europe     77.648600  25054.481636\n",
      "     Oceania    80.719500  29810.188275\n"
     ]
    }
   ],
   "source": [
    "print(multi_group_var)"
   ]
  },
  {
   "cell_type": "code",
   "execution_count": 16,
   "metadata": {},
   "outputs": [
    {
     "data": {
      "text/plain": [
       "pandas.core.frame.DataFrame"
      ]
     },
     "execution_count": 16,
     "metadata": {},
     "output_type": "execute_result"
    }
   ],
   "source": [
    "type(multi_group_var)"
   ]
  },
  {
   "cell_type": "code",
   "execution_count": 23,
   "metadata": {
    "scrolled": true
   },
   "outputs": [
    {
     "name": "stdout",
     "output_type": "stream",
     "text": [
      "year  continent\n",
      "1952  Africa        1252.572466\n",
      "      Americas      4079.062552\n",
      "      Asia          5195.484004\n",
      "      Europe        5661.057435\n",
      "      Oceania      10298.085650\n",
      "1957  Africa        1385.236062\n",
      "      Americas      4616.043733\n",
      "      Asia          5787.732940\n",
      "      Europe        6963.012816\n",
      "      Oceania      11598.522455\n",
      "1962  Africa        1598.078825\n",
      "      Americas      4901.541870\n",
      "      Asia          5729.369625\n",
      "      Europe        8365.486814\n",
      "      Oceania      12696.452430\n",
      "1967  Africa        2050.363801\n",
      "      Americas      5668.253496\n",
      "      Asia          5971.173374\n",
      "      Europe       10143.823757\n",
      "      Oceania      14495.021790\n",
      "1972  Africa        2339.615674\n",
      "      Americas      6491.334139\n",
      "      Asia          8187.468699\n",
      "      Europe       12479.575246\n",
      "      Oceania      16417.333380\n",
      "1977  Africa        2585.938508\n",
      "      Americas      7352.007126\n",
      "      Asia          7791.314020\n",
      "      Europe       14283.979110\n",
      "      Oceania      17283.957605\n",
      "1982  Africa        2481.592960\n",
      "      Americas      7506.737088\n",
      "      Asia          7434.135157\n",
      "      Europe       15617.896551\n",
      "      Oceania      18554.709840\n",
      "1987  Africa        2282.668991\n",
      "      Americas      7793.400261\n",
      "      Asia          7608.226508\n",
      "      Europe       17214.310727\n",
      "      Oceania      20448.040160\n",
      "1992  Africa        2281.810333\n",
      "      Americas      8044.934406\n",
      "      Asia          8639.690248\n",
      "      Europe       17061.568084\n",
      "      Oceania      20894.045885\n",
      "1997  Africa        2378.759555\n",
      "      Americas      8889.300863\n",
      "      Asia          9834.093295\n",
      "      Europe       19076.781802\n",
      "      Oceania      24024.175170\n",
      "2002  Africa        2599.385159\n",
      "      Americas      9287.677107\n",
      "      Asia         10174.090397\n",
      "      Europe       21711.732422\n",
      "      Oceania      26938.778040\n",
      "2007  Africa        3089.032605\n",
      "      Americas     11003.031625\n",
      "      Asia         12473.026870\n",
      "      Europe       25054.481636\n",
      "      Oceania      29810.188275\n",
      "Name: gdpPercap, dtype: float64\n"
     ]
    }
   ],
   "source": [
    "multi_group_var = df.groupby(['year', 'continent'])['gdpPercap'].mean() \n",
    "print(multi_group_var)"
   ]
  },
  {
   "cell_type": "code",
   "execution_count": 25,
   "metadata": {
    "scrolled": true
   },
   "outputs": [
    {
     "name": "stdout",
     "output_type": "stream",
     "text": [
      "                   gdpPercap\n",
      "year continent              \n",
      "1952 Africa      1252.572466\n",
      "     Americas    4079.062552\n",
      "     Asia        5195.484004\n",
      "     Europe      5661.057435\n",
      "     Oceania    10298.085650\n",
      "1957 Africa      1385.236062\n",
      "     Americas    4616.043733\n",
      "     Asia        5787.732940\n",
      "     Europe      6963.012816\n",
      "     Oceania    11598.522455\n",
      "1962 Africa      1598.078825\n",
      "     Americas    4901.541870\n",
      "     Asia        5729.369625\n",
      "     Europe      8365.486814\n",
      "     Oceania    12696.452430\n",
      "1967 Africa      2050.363801\n",
      "     Americas    5668.253496\n",
      "     Asia        5971.173374\n",
      "     Europe     10143.823757\n",
      "     Oceania    14495.021790\n",
      "1972 Africa      2339.615674\n",
      "     Americas    6491.334139\n",
      "     Asia        8187.468699\n",
      "     Europe     12479.575246\n",
      "     Oceania    16417.333380\n",
      "1977 Africa      2585.938508\n",
      "     Americas    7352.007126\n",
      "     Asia        7791.314020\n",
      "     Europe     14283.979110\n",
      "     Oceania    17283.957605\n",
      "1982 Africa      2481.592960\n",
      "     Americas    7506.737088\n",
      "     Asia        7434.135157\n",
      "     Europe     15617.896551\n",
      "     Oceania    18554.709840\n",
      "1987 Africa      2282.668991\n",
      "     Americas    7793.400261\n",
      "     Asia        7608.226508\n",
      "     Europe     17214.310727\n",
      "     Oceania    20448.040160\n",
      "1992 Africa      2281.810333\n",
      "     Americas    8044.934406\n",
      "     Asia        8639.690248\n",
      "     Europe     17061.568084\n",
      "     Oceania    20894.045885\n",
      "1997 Africa      2378.759555\n",
      "     Americas    8889.300863\n",
      "     Asia        9834.093295\n",
      "     Europe     19076.781802\n",
      "     Oceania    24024.175170\n",
      "2002 Africa      2599.385159\n",
      "     Americas    9287.677107\n",
      "     Asia       10174.090397\n",
      "     Europe     21711.732422\n",
      "     Oceania    26938.778040\n",
      "2007 Africa      3089.032605\n",
      "     Americas   11003.031625\n",
      "     Asia       12473.026870\n",
      "     Europe     25054.481636\n",
      "     Oceania    29810.188275\n"
     ]
    }
   ],
   "source": [
    "multi_group_var = df.groupby(['year', 'continent'])[['gdpPercap']].mean() \n",
    "print(multi_group_var)"
   ]
  },
  {
   "cell_type": "code",
   "execution_count": 27,
   "metadata": {},
   "outputs": [],
   "source": [
    "multi_group_var = df.groupby(['year', 'continent'])[('lifeExp', 'gdpPercap')].mean() "
   ]
  },
  {
   "cell_type": "code",
   "execution_count": 1,
   "metadata": {},
   "outputs": [
    {
     "ename": "NameError",
     "evalue": "name 'df' is not defined",
     "output_type": "error",
     "traceback": [
      "\u001b[1;31m----------------------------------------------------------------------\u001b[0m",
      "\u001b[1;31mNameError\u001b[0m                            Traceback (most recent call last)",
      "\u001b[1;32m<ipython-input-1-00cf07b74dcd>\u001b[0m in \u001b[0;36m<module>\u001b[1;34m\u001b[0m\n\u001b[1;32m----> 1\u001b[1;33m \u001b[0mdf\u001b[0m\u001b[1;33m\u001b[0m\u001b[1;33m\u001b[0m\u001b[0m\n\u001b[0m",
      "\u001b[1;31mNameError\u001b[0m: name 'df' is not defined"
     ]
    }
   ],
   "source": []
  },
  {
   "cell_type": "code",
   "execution_count": 8,
   "metadata": {},
   "outputs": [
    {
     "data": {
      "text/html": [
       "<div>\n",
       "<style scoped>\n",
       "    .dataframe tbody tr th:only-of-type {\n",
       "        vertical-align: middle;\n",
       "    }\n",
       "\n",
       "    .dataframe tbody tr th {\n",
       "        vertical-align: top;\n",
       "    }\n",
       "\n",
       "    .dataframe thead th {\n",
       "        text-align: right;\n",
       "    }\n",
       "</style>\n",
       "<table border=\"1\" class=\"dataframe\">\n",
       "  <thead>\n",
       "    <tr style=\"text-align: right;\">\n",
       "      <th></th>\n",
       "      <th>country</th>\n",
       "      <th>continent</th>\n",
       "      <th>year</th>\n",
       "      <th>lifeExp</th>\n",
       "      <th>pop</th>\n",
       "      <th>gdpPercap</th>\n",
       "    </tr>\n",
       "  </thead>\n",
       "  <tbody>\n",
       "    <tr>\n",
       "      <th>1703</th>\n",
       "      <td>Zimbabwe</td>\n",
       "      <td>Africa</td>\n",
       "      <td>2007</td>\n",
       "      <td>43.487</td>\n",
       "      <td>12311143</td>\n",
       "      <td>469.709298</td>\n",
       "    </tr>\n",
       "  </tbody>\n",
       "</table>\n",
       "</div>"
      ],
      "text/plain": [
       "       country continent  year  lifeExp       pop   gdpPercap\n",
       "1703  Zimbabwe    Africa  2007   43.487  12311143  469.709298"
      ]
     },
     "execution_count": 8,
     "metadata": {},
     "output_type": "execute_result"
    }
   ],
   "source": [
    "df.tail(1)"
   ]
  },
  {
   "cell_type": "code",
   "execution_count": 11,
   "metadata": {},
   "outputs": [
    {
     "name": "stdout",
     "output_type": "stream",
     "text": [
      "[0, 1, 2, 3, 4]\n"
     ]
    }
   ],
   "source": [
    "small = list(range(5))\n",
    "print(small)"
   ]
  },
  {
   "cell_type": "code",
   "execution_count": 3,
   "metadata": {
    "scrolled": true
   },
   "outputs": [
    {
     "name": "stdout",
     "output_type": "stream",
     "text": [
      "   dataset     x      y\n",
      "0        I  10.0   8.04\n",
      "1        I   8.0   6.95\n",
      "2        I  13.0   7.58\n",
      "3        I   9.0   8.81\n",
      "4        I  11.0   8.33\n",
      "5        I  14.0   9.96\n",
      "6        I   6.0   7.24\n",
      "7        I   4.0   4.26\n",
      "8        I  12.0  10.84\n",
      "9        I   7.0   4.82\n",
      "10       I   5.0   5.68\n",
      "11      II  10.0   9.14\n",
      "12      II   8.0   8.14\n",
      "13      II  13.0   8.74\n",
      "14      II   9.0   8.77\n",
      "15      II  11.0   9.26\n",
      "16      II  14.0   8.10\n",
      "17      II   6.0   6.13\n",
      "18      II   4.0   3.10\n",
      "19      II  12.0   9.13\n",
      "20      II   7.0   7.26\n",
      "21      II   5.0   4.74\n",
      "22     III  10.0   7.46\n",
      "23     III   8.0   6.77\n",
      "24     III  13.0  12.74\n",
      "25     III   9.0   7.11\n",
      "26     III  11.0   7.81\n",
      "27     III  14.0   8.84\n",
      "28     III   6.0   6.08\n",
      "29     III   4.0   5.39\n",
      "30     III  12.0   8.15\n",
      "31     III   7.0   6.42\n",
      "32     III   5.0   5.73\n",
      "33      IV   8.0   6.58\n",
      "34      IV   8.0   5.76\n",
      "35      IV   8.0   7.71\n",
      "36      IV   8.0   8.84\n",
      "37      IV   8.0   8.47\n",
      "38      IV   8.0   7.04\n",
      "39      IV   8.0   5.25\n",
      "40      IV  19.0  12.50\n",
      "41      IV   8.0   5.56\n",
      "42      IV   8.0   7.91\n",
      "43      IV   8.0   6.89\n"
     ]
    }
   ],
   "source": [
    "import seaborn as sns\n",
    "anscombe = sns.load_dataset(\"anscombe\")\n",
    "print(anscombe)"
   ]
  },
  {
   "cell_type": "code",
   "execution_count": 4,
   "metadata": {},
   "outputs": [
    {
     "name": "stdout",
     "output_type": "stream",
     "text": [
      "<class 'pandas.core.frame.DataFrame'>\n"
     ]
    }
   ],
   "source": [
    "print(type(anscombe))"
   ]
  },
  {
   "cell_type": "code",
   "execution_count": 9,
   "metadata": {},
   "outputs": [],
   "source": [
    "%matplotlib inline\n",
    "import matplotlib.pyplot as plt"
   ]
  },
  {
   "cell_type": "code",
   "execution_count": 11,
   "metadata": {},
   "outputs": [
    {
     "name": "stdout",
     "output_type": "stream",
     "text": [
      "   dataset     x      y\n",
      "0        I  10.0   8.04\n",
      "1        I   8.0   6.95\n",
      "2        I  13.0   7.58\n",
      "3        I   9.0   8.81\n",
      "4        I  11.0   8.33\n",
      "5        I  14.0   9.96\n",
      "6        I   6.0   7.24\n",
      "7        I   4.0   4.26\n",
      "8        I  12.0  10.84\n",
      "9        I   7.0   4.82\n",
      "10       I   5.0   5.68\n"
     ]
    }
   ],
   "source": [
    "dataset_1 = anscombe[anscombe['dataset']=='I']\n",
    "print(dataset_1)"
   ]
  },
  {
   "cell_type": "code",
   "execution_count": 13,
   "metadata": {},
   "outputs": [
    {
     "data": {
      "text/plain": [
       "[<matplotlib.lines.Line2D at 0x1bbacfa0>]"
      ]
     },
     "execution_count": 13,
     "metadata": {},
     "output_type": "execute_result"
    },
    {
     "data": {
      "image/png": "[encoded data removed]",
      "text/plain": [
       "<Figure size 432x288 with 1 Axes>"
      ]
     },
     "metadata": {
      "needs_background": "light"
     },
     "output_type": "display_data"
    }
   ],
   "source": [
    "plt.plot( dataset_1['y'], dataset_1['x'],)"
   ]
  },
  {
   "cell_type": "code",
   "execution_count": 14,
   "metadata": {},
   "outputs": [
    {
     "data": {
      "text/plain": [
       "[<matplotlib.lines.Line2D at 0x1bc122e0>]"
      ]
     },
     "execution_count": 14,
     "metadata": {},
     "output_type": "execute_result"
    },
    {
     "data": {
      "image/png": "[encoded data removed]",
      "text/plain": [
       "<Figure size 432x288 with 1 Axes>"
      ]
     },
     "metadata": {
      "needs_background": "light"
     },
     "output_type": "display_data"
    }
   ],
   "source": [
    "plt.plot(dataset_1['x'],dataset_1['y'],'o')"
   ]
  },
  {
   "cell_type": "code",
   "execution_count": 15,
   "metadata": {},
   "outputs": [],
   "source": [
    "dataset_2 = anscombe[anscombe['dataset'] == 'II'] \n",
    "dataset_3 = anscombe[anscombe['dataset'] == 'III'] \n",
    "dataset_4 = anscombe[anscombe['dataset'] == 'IV']"
   ]
  },
  {
   "cell_type": "code",
   "execution_count": 16,
   "metadata": {},
   "outputs": [
    {
     "data": {
      "text/html": [
       "<div>\n",
       "<style scoped>\n",
       "    .dataframe tbody tr th:only-of-type {\n",
       "        vertical-align: middle;\n",
       "    }\n",
       "\n",
       "    .dataframe tbody tr th {\n",
       "        vertical-align: top;\n",
       "    }\n",
       "\n",
       "    .dataframe thead th {\n",
       "        text-align: right;\n",
       "    }\n",
       "</style>\n",
       "<table border=\"1\" class=\"dataframe\">\n",
       "  <thead>\n",
       "    <tr style=\"text-align: right;\">\n",
       "      <th></th>\n",
       "      <th>dataset</th>\n",
       "      <th>x</th>\n",
       "      <th>y</th>\n",
       "    </tr>\n",
       "  </thead>\n",
       "  <tbody>\n",
       "    <tr>\n",
       "      <th>11</th>\n",
       "      <td>II</td>\n",
       "      <td>10.0</td>\n",
       "      <td>9.14</td>\n",
       "    </tr>\n",
       "    <tr>\n",
       "      <th>12</th>\n",
       "      <td>II</td>\n",
       "      <td>8.0</td>\n",
       "      <td>8.14</td>\n",
       "    </tr>\n",
       "    <tr>\n",
       "      <th>13</th>\n",
       "      <td>II</td>\n",
       "      <td>13.0</td>\n",
       "      <td>8.74</td>\n",
       "    </tr>\n",
       "    <tr>\n",
       "      <th>14</th>\n",
       "      <td>II</td>\n",
       "      <td>9.0</td>\n",
       "      <td>8.77</td>\n",
       "    </tr>\n",
       "    <tr>\n",
       "      <th>15</th>\n",
       "      <td>II</td>\n",
       "      <td>11.0</td>\n",
       "      <td>9.26</td>\n",
       "    </tr>\n",
       "    <tr>\n",
       "      <th>16</th>\n",
       "      <td>II</td>\n",
       "      <td>14.0</td>\n",
       "      <td>8.10</td>\n",
       "    </tr>\n",
       "    <tr>\n",
       "      <th>17</th>\n",
       "      <td>II</td>\n",
       "      <td>6.0</td>\n",
       "      <td>6.13</td>\n",
       "    </tr>\n",
       "    <tr>\n",
       "      <th>18</th>\n",
       "      <td>II</td>\n",
       "      <td>4.0</td>\n",
       "      <td>3.10</td>\n",
       "    </tr>\n",
       "    <tr>\n",
       "      <th>19</th>\n",
       "      <td>II</td>\n",
       "      <td>12.0</td>\n",
       "      <td>9.13</td>\n",
       "    </tr>\n",
       "    <tr>\n",
       "      <th>20</th>\n",
       "      <td>II</td>\n",
       "      <td>7.0</td>\n",
       "      <td>7.26</td>\n",
       "    </tr>\n",
       "    <tr>\n",
       "      <th>21</th>\n",
       "      <td>II</td>\n",
       "      <td>5.0</td>\n",
       "      <td>4.74</td>\n",
       "    </tr>\n",
       "  </tbody>\n",
       "</table>\n",
       "</div>"
      ],
      "text/plain": [
       "   dataset     x     y\n",
       "11      II  10.0  9.14\n",
       "12      II   8.0  8.14\n",
       "13      II  13.0  8.74\n",
       "14      II   9.0  8.77\n",
       "15      II  11.0  9.26\n",
       "16      II  14.0  8.10\n",
       "17      II   6.0  6.13\n",
       "18      II   4.0  3.10\n",
       "19      II  12.0  9.13\n",
       "20      II   7.0  7.26\n",
       "21      II   5.0  4.74"
      ]
     },
     "execution_count": 16,
     "metadata": {},
     "output_type": "execute_result"
    }
   ],
   "source": [
    "dataset_2"
   ]
  },
  {
   "cell_type": "code",
   "execution_count": 18,
   "metadata": {},
   "outputs": [
    {
     "data": {
      "image/png": "[encoded data removed]",
      "text/plain": [
       "<Figure size 432x288 with 4 Axes>"
      ]
     },
     "metadata": {
      "needs_background": "light"
     },
     "output_type": "display_data"
    }
   ],
   "source": [
    "fig = plt.figure()\n",
    "\n",
    "axes1 = fig.add_subplot(2, 2, 1)\n",
    "axes2 = fig.add_subplot(2, 2, 2)\n",
    "axes3 = fig.add_subplot(2, 2, 3)\n",
    "axes4 = fig.add_subplot(2, 2, 4)"
   ]
  },
  {
   "cell_type": "code",
   "execution_count": 19,
   "metadata": {},
   "outputs": [
    {
     "data": {
      "text/plain": [
       "matplotlib.figure.Figure"
      ]
     },
     "execution_count": 19,
     "metadata": {},
     "output_type": "execute_result"
    }
   ],
   "source": [
    "type(fig)"
   ]
  },
  {
   "cell_type": "code",
   "execution_count": 22,
   "metadata": {},
   "outputs": [
    {
     "data": {
      "image/png": "[encoded data removed]",
      "text/plain": [
       "<Figure size 432x288 with 4 Axes>"
      ]
     },
     "execution_count": 22,
     "metadata": {},
     "output_type": "execute_result"
    }
   ],
   "source": [
    "axes1.plot(dataset_1['x'],dataset_1['y'],'o')\n",
    "fig"
   ]
  },
  {
   "cell_type": "code",
   "execution_count": 25,
   "metadata": {},
   "outputs": [
    {
     "data": {
      "image/png": "[encoded data removed]",
      "text/plain": [
       "<Figure size 432x288 with 4 Axes>"
      ]
     },
     "execution_count": 25,
     "metadata": {},
     "output_type": "execute_result"
    }
   ],
   "source": [
    "axes1.plot(dataset_1['x'], dataset_1['y'], 'o') \n",
    "axes2.plot(dataset_2['x'], dataset_2['y'], 'o') \n",
    "axes3.plot(dataset_3['x'], dataset_3['y'], 'o') \n",
    "axes4.plot(dataset_4['x'], dataset_4['y'], 'o')\n",
    "fig\n"
   ]
  },
  {
   "cell_type": "code",
   "execution_count": 28,
   "metadata": {},
   "outputs": [
    {
     "data": {
      "image/png": "[encoded data removed]",
      "text/plain": [
       "<Figure size 432x288 with 4 Axes>"
      ]
     },
     "execution_count": 28,
     "metadata": {},
     "output_type": "execute_result"
    }
   ],
   "source": [
    "axes1.set_title(\"dataset_1\") \n",
    "axes2.set_title(\"dataset_2\")\n",
    "axes3.set_title(\"dataset_3\") \n",
    "axes4.set_title(\"dataset_4\")\n",
    "\n",
    "fig"
   ]
  },
  {
   "cell_type": "code",
   "execution_count": 29,
   "metadata": {},
   "outputs": [
    {
     "data": {
      "text/plain": [
       "Text(0.5, 0.98, 'EXAMPLES')"
      ]
     },
     "execution_count": 29,
     "metadata": {},
     "output_type": "execute_result"
    }
   ],
   "source": [
    "fig.suptitle(\"EXAMPLES\")"
   ]
  },
  {
   "cell_type": "code",
   "execution_count": 30,
   "metadata": {},
   "outputs": [
    {
     "data": {
      "image/png": "[encoded data removed]",
      "text/plain": [
       "<Figure size 432x288 with 4 Axes>"
      ]
     },
     "execution_count": 30,
     "metadata": {},
     "output_type": "execute_result"
    }
   ],
   "source": [
    "fig"
   ]
  },
  {
   "cell_type": "code",
   "execution_count": 31,
   "metadata": {},
   "outputs": [],
   "source": [
    "fig.tight_layout()"
   ]
  },
  {
   "cell_type": "code",
   "execution_count": 32,
   "metadata": {},
   "outputs": [
    {
     "data": {
      "image/png": "[encoded data removed]",
      "text/plain": [
       "<Figure size 432x288 with 4 Axes>"
      ]
     },
     "execution_count": 32,
     "metadata": {},
     "output_type": "execute_result"
    }
   ],
   "source": [
    "fig"
   ]
  },
  {
   "cell_type": "code",
   "execution_count": 36,
   "metadata": {},
   "outputs": [
    {
     "name": "stdout",
     "output_type": "stream",
     "text": [
      "   total_bill   tip     sex smoker  day    time  size\n",
      "0       16.99  1.01  Female     No  Sun  Dinner     2\n",
      "1       10.34  1.66    Male     No  Sun  Dinner     3\n",
      "2       21.01  3.50    Male     No  Sun  Dinner     3\n",
      "3       23.68  3.31    Male     No  Sun  Dinner     2\n",
      "4       24.59  3.61  Female     No  Sun  Dinner     4\n",
      "<class 'pandas.core.frame.DataFrame'>\n"
     ]
    }
   ],
   "source": [
    "tips= sns.load_dataset(\"tips\")\n",
    "print(tips.head())\n",
    "print(type(tips))"
   ]
  },
  {
   "cell_type": "code",
   "execution_count": 37,
   "metadata": {},
   "outputs": [
    {
     "data": {
      "text/html": [
       "<div>\n",
       "<style scoped>\n",
       "    .dataframe tbody tr th:only-of-type {\n",
       "        vertical-align: middle;\n",
       "    }\n",
       "\n",
       "    .dataframe tbody tr th {\n",
       "        vertical-align: top;\n",
       "    }\n",
       "\n",
       "    .dataframe thead th {\n",
       "        text-align: right;\n",
       "    }\n",
       "</style>\n",
       "<table border=\"1\" class=\"dataframe\">\n",
       "  <thead>\n",
       "    <tr style=\"text-align: right;\">\n",
       "      <th></th>\n",
       "      <th>total_bill</th>\n",
       "      <th>tip</th>\n",
       "      <th>size</th>\n",
       "    </tr>\n",
       "  </thead>\n",
       "  <tbody>\n",
       "    <tr>\n",
       "      <th>count</th>\n",
       "      <td>244.000000</td>\n",
       "      <td>244.000000</td>\n",
       "      <td>244.000000</td>\n",
       "    </tr>\n",
       "    <tr>\n",
       "      <th>mean</th>\n",
       "      <td>19.785943</td>\n",
       "      <td>2.998279</td>\n",
       "      <td>2.569672</td>\n",
       "    </tr>\n",
       "    <tr>\n",
       "      <th>std</th>\n",
       "      <td>8.902412</td>\n",
       "      <td>1.383638</td>\n",
       "      <td>0.951100</td>\n",
       "    </tr>\n",
       "    <tr>\n",
       "      <th>min</th>\n",
       "      <td>3.070000</td>\n",
       "      <td>1.000000</td>\n",
       "      <td>1.000000</td>\n",
       "    </tr>\n",
       "    <tr>\n",
       "      <th>25%</th>\n",
       "      <td>13.347500</td>\n",
       "      <td>2.000000</td>\n",
       "      <td>2.000000</td>\n",
       "    </tr>\n",
       "    <tr>\n",
       "      <th>50%</th>\n",
       "      <td>17.795000</td>\n",
       "      <td>2.900000</td>\n",
       "      <td>2.000000</td>\n",
       "    </tr>\n",
       "    <tr>\n",
       "      <th>75%</th>\n",
       "      <td>24.127500</td>\n",
       "      <td>3.562500</td>\n",
       "      <td>3.000000</td>\n",
       "    </tr>\n",
       "    <tr>\n",
       "      <th>max</th>\n",
       "      <td>50.810000</td>\n",
       "      <td>10.000000</td>\n",
       "      <td>6.000000</td>\n",
       "    </tr>\n",
       "  </tbody>\n",
       "</table>\n",
       "</div>"
      ],
      "text/plain": [
       "       total_bill         tip        size\n",
       "count  244.000000  244.000000  244.000000\n",
       "mean    19.785943    2.998279    2.569672\n",
       "std      8.902412    1.383638    0.951100\n",
       "min      3.070000    1.000000    1.000000\n",
       "25%     13.347500    2.000000    2.000000\n",
       "50%     17.795000    2.900000    2.000000\n",
       "75%     24.127500    3.562500    3.000000\n",
       "max     50.810000   10.000000    6.000000"
      ]
     },
     "execution_count": 37,
     "metadata": {},
     "output_type": "execute_result"
    }
   ],
   "source": [
    "tips.describe()"
   ]
  },
  {
   "cell_type": "code",
   "execution_count": 38,
   "metadata": {},
   "outputs": [
    {
     "data": {
      "text/plain": [
       "<Figure size 432x288 with 0 Axes>"
      ]
     },
     "metadata": {},
     "output_type": "display_data"
    }
   ],
   "source": [
    "fig = plt.figure()"
   ]
  },
  {
   "cell_type": "code",
   "execution_count": 39,
   "metadata": {},
   "outputs": [],
   "source": [
    "axes1 = fig.add_subplot(1,1,1)"
   ]
  },
  {
   "cell_type": "code",
   "execution_count": 41,
   "metadata": {},
   "outputs": [
    {
     "data": {
      "image/png": "[encoded data removed]",
      "text/plain": [
       "<Figure size 432x288 with 1 Axes>"
      ]
     },
     "execution_count": 41,
     "metadata": {},
     "output_type": "execute_result"
    }
   ],
   "source": [
    "axes1.hist(tips['total_bill'], bins=10)\n",
    "fig"
   ]
  },
  {
   "cell_type": "code",
   "execution_count": 50,
   "metadata": {},
   "outputs": [
    {
     "data": {
      "text/plain": [
       "Text(17.200000000000003, 0.5, 'Tip')"
      ]
     },
     "execution_count": 50,
     "metadata": {},
     "output_type": "execute_result"
    },
    {
     "data": {
      "text/plain": [
       "<Figure size 432x288 with 0 Axes>"
      ]
     },
     "metadata": {},
     "output_type": "display_data"
    }
   ],
   "source": [
    "scatter_plot = plt.figure() \n",
    "axes1 = scatter_plot.add_subplot(1, 1, 1) \n",
    "axes1.scatter(tips['total_bill'], tips['tip']) \n",
    "axes1.set_title('Scatterplot of Total Bill vs Tip') \n",
    "axes1.set_xlabel('Total Bill') \n",
    "axes1.set_ylabel('Tip')"
   ]
  },
  {
   "cell_type": "code",
   "execution_count": null,
   "metadata": {},
   "outputs": [],
   "source": []
  }
 ],
 "metadata": {
  "kernelspec": {
   "display_name": "Python 3",
   "language": "python",
   "name": "python3"
  },
  "language_info": {
   "codemirror_mode": {
    "name": "ipython",
    "version": 3
   },
   "file_extension": ".py",
   "mimetype": "text/x-python",
   "name": "python",
   "nbconvert_exporter": "python",
   "pygments_lexer": "ipython3",
   "version": "3.8.0"
  }
 },
 "nbformat": 4,
 "nbformat_minor": 4
}
